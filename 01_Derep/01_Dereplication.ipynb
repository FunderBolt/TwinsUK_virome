{
 "cells": [
  {
   "cell_type": "markdown",
   "metadata": {},
   "source": [
    "### Dereplicate and detect circular contigs\n",
    "You will need to put all contigs in a folder and provide that folder name. \n",
    "You must also provide an output folder name. "
   ]
  },
  {
   "cell_type": "code",
   "execution_count": 1,
   "metadata": {},
   "outputs": [
    {
     "name": "stdout",
     "output_type": "stream",
     "text": [
      "\n",
      "\n",
      "Building a new DB, current time: 07/24/2018 16:57:31\n",
      "New DB name:   /ebio/abt3_projects/TwinsUK_viromes_Shao_Pei/tmp2/01_Derep/allContigs_sort.fna\n",
      "New DB title:  /ebio/abt3_projects/TwinsUK_viromes_Shao_Pei/tmp2/01_Derep/allContigs_sort.fna\n",
      "Sequence type: Nucleotide\n",
      "Deleted existing Nucleotide BLAST database named /ebio/abt3_projects/TwinsUK_viromes_Shao_Pei/tmp2/01_Derep/allContigs_sort.fna\n",
      "Keep Linkouts: T\n",
      "Keep MBits: T\n",
      "Maximum file size: 1000000000B\n",
      "Adding sequences from FASTA; added 107307 sequences in 4.61077 seconds.\n"
     ]
    }
   ],
   "source": [
    "%%bash\n",
    "DATA_DIR=/ebio/abt3_projects/TwinsUK_viromes_Shao_Pei/tmp2/00_contigsVirome\n",
    "OUT_DIR=/ebio/abt3_projects/TwinsUK_viromes_Shao_Pei/tmp2/01_Derep\n",
    "\n",
    "cat $DATA_DIR/* > $OUT_DIR/allContigs.fa\n",
    "\n",
    "perl ../GetSortSequenceLengths.pl $OUT_DIR/allContigs.fa $OUT_DIR/allContigs\n",
    "\n",
    "makeblastdb -in $OUT_DIR/allContigs_sort.fna -dbtype nucl\n",
    "blastn -query $OUT_DIR/allContigs_sort.fna -db $OUT_DIR/allContigs_sort.fna -outfmt 6 -evalue 1e-5 > $OUT_DIR/allContigs.OutSelfBlast.txt\n",
    "perl ../DeRepCircContigs_Blastn.pl $OUT_DIR/allContigs.OutSelfBlast.txt $OUT_DIR/allContigs_len.txt $OUT_DIR/allContigs_sort.fna > $OUT_DIR/allContigs.DeRep.fna"
   ]
  },
  {
   "cell_type": "markdown",
   "metadata": {},
   "source": [
    "### Contigs length distribution before dereplication"
   ]
  },
  {
   "cell_type": "code",
   "execution_count": 37,
   "metadata": {
    "collapsed": true
   },
   "outputs": [],
   "source": [
    "from os import listdir\n",
    "from Bio import SeqIO\n",
    "import pandas as pd"
   ]
  },
  {
   "cell_type": "code",
   "execution_count": 8,
   "metadata": {
    "collapsed": true
   },
   "outputs": [],
   "source": [
    "inputFolder = \"/ebio/abt3_projects/TwinsUK_viromes_Shao_Pei/tmp2/00_contigsVirome\"\n",
    "contigsLength = {}\n",
    "for file in listdir(inputFolder):\n",
    "    for record in SeqIO.parse(inputFolder+\"/\"+file,\"fasta\"):\n",
    "        contigsLength[record.id] = len(record.seq)"
   ]
  },
  {
   "cell_type": "code",
   "execution_count": 11,
   "metadata": {},
   "outputs": [
    {
     "data": {
      "text/html": [
       "<div>\n",
       "<style>\n",
       "    .dataframe thead tr:only-child th {\n",
       "        text-align: right;\n",
       "    }\n",
       "\n",
       "    .dataframe thead th {\n",
       "        text-align: left;\n",
       "    }\n",
       "\n",
       "    .dataframe tbody tr th {\n",
       "        vertical-align: top;\n",
       "    }\n",
       "</style>\n",
       "<table border=\"1\" class=\"dataframe\">\n",
       "  <thead>\n",
       "    <tr style=\"text-align: right;\">\n",
       "      <th></th>\n",
       "      <th>0</th>\n",
       "      <th>1</th>\n",
       "    </tr>\n",
       "  </thead>\n",
       "  <tbody>\n",
       "    <tr>\n",
       "      <th>0</th>\n",
       "      <td>919_Q1_8Lpp_out</td>\n",
       "      <td>1185</td>\n",
       "    </tr>\n",
       "    <tr>\n",
       "      <th>1</th>\n",
       "      <td>9244_O1_8Lpp_out</td>\n",
       "      <td>596</td>\n",
       "    </tr>\n",
       "    <tr>\n",
       "      <th>2</th>\n",
       "      <td>1558_J2_8Lpp_out</td>\n",
       "      <td>572</td>\n",
       "    </tr>\n",
       "    <tr>\n",
       "      <th>3</th>\n",
       "      <td>2566_O1_8Lpp_out</td>\n",
       "      <td>2406</td>\n",
       "    </tr>\n",
       "    <tr>\n",
       "      <th>4</th>\n",
       "      <td>7182_K1_8Lpp_out</td>\n",
       "      <td>716</td>\n",
       "    </tr>\n",
       "  </tbody>\n",
       "</table>\n",
       "</div>"
      ],
      "text/plain": [
       "                  0     1\n",
       "0   919_Q1_8Lpp_out  1185\n",
       "1  9244_O1_8Lpp_out   596\n",
       "2  1558_J2_8Lpp_out   572\n",
       "3  2566_O1_8Lpp_out  2406\n",
       "4  7182_K1_8Lpp_out   716"
      ]
     },
     "execution_count": 11,
     "metadata": {},
     "output_type": "execute_result"
    }
   ],
   "source": [
    "lenTable = pd.DataFrame(data=[contigsLength.keys(),contigsLength.values()])\n",
    "lenTable = lenTable.T\n",
    "lenTable.head()"
   ]
  },
  {
   "cell_type": "code",
   "execution_count": 36,
   "metadata": {},
   "outputs": [
    {
     "name": "stdout",
     "output_type": "stream",
     "text": [
      "There are 107307 contigs\n",
      "The largest contig is 79863 nt lenght. Contig ['678_Y2_8Lpp_out']\n",
      "Mean length: 1185.971987\n",
      "Standard deviation: 1740.820737\n",
      "Median length: 727.000000\n",
      "Inter quartile range: 505\n",
      "Min: 501\n",
      "Max: 79863\n"
     ]
    }
   ],
   "source": [
    "print \"There are %d contigs\" %lenTable.shape[0]\n",
    "print \"The largest contig is %d nt lenght. Contig %s\" %(lenTable[1].max(),lenTable[lenTable[1]==lenTable[1].max()][0].values)\n",
    "print \"Mean length: %f\" %lenTable[1].mean()\n",
    "print \"Standard deviation: %f\" %lenTable[1].std()\n",
    "print \"Median length: %f\" %lenTable[1].median()\n",
    "print \"Inter quartile range: %d\" %(lenTable[1].quantile(0.75) - lenTable[1].quantile(0.25))\n",
    "print \"Min: %d\" %lenTable[1].min()\n",
    "print \"Max: %d\" %lenTable[1].max()"
   ]
  },
  {
   "cell_type": "markdown",
   "metadata": {},
   "source": [
    "##### Make a table of lengths for the dereplicated contigs"
   ]
  },
  {
   "cell_type": "code",
   "execution_count": 38,
   "metadata": {
    "collapsed": true
   },
   "outputs": [],
   "source": [
    "from Bio import SeqIO\n",
    "import pandas as pd"
   ]
  },
  {
   "cell_type": "code",
   "execution_count": 39,
   "metadata": {
    "collapsed": true
   },
   "outputs": [],
   "source": [
    "deRep = {}\n",
    "for record in SeqIO.parse(\"/ebio/abt3_projects/TwinsUK_viromes_Shao_Pei/tmp2/01_Derep/allContigs.DeRep.fna\",\"fasta\"):\n",
    "    deRep[record.id] = len(record.seq)\n",
    "    #deRep.append(\"_\".join(record.id.split(\"_\")[:4]))"
   ]
  },
  {
   "cell_type": "code",
   "execution_count": 40,
   "metadata": {},
   "outputs": [
    {
     "data": {
      "text/html": [
       "<div>\n",
       "<style>\n",
       "    .dataframe thead tr:only-child th {\n",
       "        text-align: right;\n",
       "    }\n",
       "\n",
       "    .dataframe thead th {\n",
       "        text-align: left;\n",
       "    }\n",
       "\n",
       "    .dataframe tbody tr th {\n",
       "        vertical-align: top;\n",
       "    }\n",
       "</style>\n",
       "<table border=\"1\" class=\"dataframe\">\n",
       "  <thead>\n",
       "    <tr style=\"text-align: right;\">\n",
       "      <th></th>\n",
       "      <th>0</th>\n",
       "      <th>1</th>\n",
       "    </tr>\n",
       "  </thead>\n",
       "  <tbody>\n",
       "    <tr>\n",
       "      <th>0</th>\n",
       "      <td>3943_H1_8Lpp_out_L964</td>\n",
       "      <td>964</td>\n",
       "    </tr>\n",
       "    <tr>\n",
       "      <th>1</th>\n",
       "      <td>4325_I1_8Lpp_out_L985</td>\n",
       "      <td>985</td>\n",
       "    </tr>\n",
       "    <tr>\n",
       "      <th>2</th>\n",
       "      <td>2512_J1_8Lpp_out_L538</td>\n",
       "      <td>538</td>\n",
       "    </tr>\n",
       "    <tr>\n",
       "      <th>3</th>\n",
       "      <td>6012_Da1_8Lpp_out_L628</td>\n",
       "      <td>628</td>\n",
       "    </tr>\n",
       "    <tr>\n",
       "      <th>4</th>\n",
       "      <td>4329_P2_8Lpp_out_L530</td>\n",
       "      <td>530</td>\n",
       "    </tr>\n",
       "  </tbody>\n",
       "</table>\n",
       "</div>"
      ],
      "text/plain": [
       "                        0    1\n",
       "0   3943_H1_8Lpp_out_L964  964\n",
       "1   4325_I1_8Lpp_out_L985  985\n",
       "2   2512_J1_8Lpp_out_L538  538\n",
       "3  6012_Da1_8Lpp_out_L628  628\n",
       "4   4329_P2_8Lpp_out_L530  530"
      ]
     },
     "execution_count": 40,
     "metadata": {},
     "output_type": "execute_result"
    }
   ],
   "source": [
    "lenTable = pd.DataFrame(data=[deRep.keys(),deRep.values()])\n",
    "lenTable = lenTable.T\n",
    "lenTable.head()"
   ]
  },
  {
   "cell_type": "code",
   "execution_count": 50,
   "metadata": {},
   "outputs": [
    {
     "name": "stdout",
     "output_type": "stream",
     "text": [
      "There are 76634 contigs. Then 30673 contigs were dereplicated.\n",
      "The largest contig is 79863 nt lenght. Contig ['678_Y2_8Lpp_out_L79863']\n",
      "Mean length: 1251.570008\n",
      "Standard deviation: 1925.364086\n",
      "Median length: 739.000000\n",
      "Inter quartile range: 541\n",
      "Min: 501\n",
      "Max: 79863\n",
      "Num contigs >= 10kb: 720\n"
     ]
    }
   ],
   "source": [
    "print \"There are %d contigs. Then %d contigs were dereplicated.\" %(lenTable.shape[0],107307 - lenTable.shape[0])\n",
    "print \"The largest contig is %d nt lenght. Contig %s\" %(lenTable[1].max(),lenTable[lenTable[1]==lenTable[1].max()][0].values)\n",
    "print \"Mean length: %f\" %lenTable[1].mean()\n",
    "print \"Standard deviation: %f\" %lenTable[1].std()\n",
    "print \"Median length: %f\" %lenTable[1].median()\n",
    "print \"Inter quartile range: %d\" %(lenTable[1].quantile(0.75) - lenTable[1].quantile(0.25))\n",
    "print \"Min: %d\" %lenTable[1].min()\n",
    "print \"Max: %d\" %lenTable[1].max()\n",
    "print \"Num contigs >= 10kb: %d\" %sum(lenTable[1]>=10000)"
   ]
  },
  {
   "cell_type": "code",
   "execution_count": 11,
   "metadata": {
    "collapsed": true
   },
   "outputs": [],
   "source": [
    "lenTable.to_csv(\"/ebio/abt3_projects/TwinsUK_viromes_Shao_Pei/tmp2/01_Derep/allContigs.DeRep_len.txt\",\n",
    "                                                        index=False,header=False,sep='\\t')"
   ]
  }
 ],
 "metadata": {
  "kernelspec": {
   "display_name": "Python 2",
   "language": "python",
   "name": "python2"
  },
  "language_info": {
   "codemirror_mode": {
    "name": "ipython",
    "version": 2
   },
   "file_extension": ".py",
   "mimetype": "text/x-python",
   "name": "python",
   "nbconvert_exporter": "python",
   "pygments_lexer": "ipython2",
   "version": "2.7.13"
  }
 },
 "nbformat": 4,
 "nbformat_minor": 2
}
