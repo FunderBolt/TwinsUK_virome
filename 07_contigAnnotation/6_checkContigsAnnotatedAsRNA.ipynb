{
 "cells": [
  {
   "attachments": {},
   "cell_type": "markdown",
   "metadata": {},
   "source": [
    "### Contigs\n",
    "After checking the file \"contigsVsVIRALtax.votingSystem.PlusHost.PlusMicroviridae.PlusCrAssphage.mod\", the contigs annotated as RNA were:\n",
    "* U2_contig5100.\n",
    "* U1_contig42.\n",
    "* I1_contig6515\n",
    "* M1_contig5833.\n",
    "* T1_contig1124.\n",
    "* N2_contig10954.\n",
    "* Ab1_contig2070\n",
    "* N2_contig1854.\n",
    "* H1_contig2724.\n",
    "* O2_contig6683.\n",
    "* O1_contig362.\n",
    "* W2_contig18."
   ]
  },
  {
   "cell_type": "code",
   "execution_count": null,
   "metadata": {
    "collapsed": true
   },
   "outputs": [],
   "source": [
    "#get the sequences of those contigs\n",
    "from Bio import SeqIO\n",
    "\n",
    "IN_DIR=\"/ebio/abt3_projects/TwinsUK_viromes_Shao_Pei/tmp2/\"\n",
    "\n",
    "rnaContigs = [\"U2_contig5100\",\"U1_contig42\",\"I1_contig6515\",\"M1_contig5833\",\"T1_contig1124\",\"N2_contig10954\",\"Ab1_contig2070\",\"N2_contig1854\",\"H1_contig2724\",\"O2_contig6683\",\"O1_contig362\",\"W2_contig18\"]\n",
    "\n",
    "contigs = []\n",
    "for record in SeqIO.parse(IN_DIR+\"/05_abundanceDistributions/contigs.ForAlpha.fna\",\"fasta\"):\n",
    "    id = record.id\n",
    "    id = id.split(\"_\")\n",
    "    id = id[1]+\"_contig\"+id[0]\n",
    "    if id in rnaContigs:\n",
    "        contigs.append(record)\n",
    "        \n",
    "SeqIO.write(contigs,IN_DIR+\"05_abundanceDistributions/rnaContigs.fna\",\"fasta\")"
   ]
  },
  {
   "cell_type": "markdown",
   "metadata": {},
   "source": [
    "###### As they are few sequences I download the file and run a BLASTn and a BLASTx online.\n",
    "1. None of the contigs have a match against an RNA virus\n",
    "2. Matches were against bacterial genomes, proteins or hypothetical proteins. Then, they could be bacterial contamination or prophages. \n",
    "3. The annotation of those contigs was removed. "
   ]
  },
  {
   "cell_type": "code",
   "execution_count": null,
   "metadata": {
    "collapsed": true
   },
   "outputs": [],
   "source": []
  }
 ],
 "metadata": {
  "kernelspec": {
   "display_name": "Python 2",
   "language": "python",
   "name": "python2"
  },
  "language_info": {
   "codemirror_mode": {
    "name": "ipython",
    "version": 2
   },
   "file_extension": ".py",
   "mimetype": "text/x-python",
   "name": "python",
   "nbconvert_exporter": "python",
   "pygments_lexer": "ipython2",
   "version": "2.7.13"
  }
 },
 "nbformat": 4,
 "nbformat_minor": 2
}
