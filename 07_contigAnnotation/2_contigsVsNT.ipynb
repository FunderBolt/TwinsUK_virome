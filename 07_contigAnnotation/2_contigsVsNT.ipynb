{
 "cells": [
  {
   "cell_type": "code",
   "execution_count": 4,
   "metadata": {},
   "outputs": [
    {
     "name": "stdout",
     "output_type": "stream",
     "text": [
      "Overwriting runBlastContigsVsNT.sh\n"
     ]
    }
   ],
   "source": [
    "%%writefile runBlastContigsVsNT.sh\n",
    "#!/bin/bash\n",
    "#$ -N blastNT\n",
    "#$ -pe parallel 6\n",
    "#$ -l h_vmem=4G\n",
    "#$ -l h_rt=72:00:00\n",
    "#$ -cwd\n",
    "#$ -m ea\n",
    "#$ -M jmoreno@tuebingen.mpg.de\n",
    "\n",
    "IN_DIR=/ebio/abt3_projects/TwinsUK_viromes_Shao_Pei/tmp2\n",
    "OUT_DIR=/ebio/abt3_projects/TwinsUK_viromes_Shao_Pei/tmp2/0X_contigAnnotation\n",
    "\n",
    "blastn -db /ebio/abt3_projects/databases/NCBI_blastdb/nt -query $IN_DIR/01_Derep/allContigs.DeRep.fna -outfmt \"6 qseqid pident saccver stitle staxids qlen slen qstart qend sstart send length bitscore gaps evalue\" -out contigsVsNT.tsv -evalue 1e-5 -num_threads 6 -num_alignments 1 "
   ]
  },
  {
   "cell_type": "code",
   "execution_count": 3,
   "metadata": {},
   "outputs": [
    {
     "name": "stdout",
     "output_type": "stream",
     "text": [
      "Your job 1698685 (\"blastACLAME\") has been submitted\n"
     ]
    }
   ],
   "source": [
    "%%bash\n",
    "qsub runBlastContigsVsNT.sh"
   ]
  },
  {
   "cell_type": "markdown",
   "metadata": {},
   "source": [
    "### Centrifuge"
   ]
  },
  {
   "cell_type": "code",
   "execution_count": 28,
   "metadata": {},
   "outputs": [
    {
     "name": "stdout",
     "output_type": "stream",
     "text": [
      "Overwriting runCentrifugeDB.sh\n"
     ]
    }
   ],
   "source": [
    "%%writefile runCentrifugeDB.sh\n",
    "#!/bin/bash\n",
    "#$ -N buildCentrifugeDB\n",
    "#$ -pe parallel 15\n",
    "#$ -l h_vmem=4G\n",
    "#$ -l h_rt=00:30:00\n",
    "#$ -cwd\n",
    "#$ -m ea\n",
    "#$ -M jmoreno@tuebingen.mpg.de\n",
    "\n",
    "OUT_DIR=/ebio/abt3_projects/TwinsUK_viromes_Shao_Pei/tmp2/0X_contigAnnotation/centrifugeDatabase\n",
    "\n",
    "/ebio/abt3_projects/TwinsUK_viromes_Shao_Pei/Programs/centrifuge/centrifuge-build -p 15 --conversion-table $OUT_DIR/seqid2taxid.map --taxonomy-tree $OUT_DIR/taxonomy/nodes.dmp --name-table $OUT_DIR/taxonomy/names.dmp $OUT_DIR/input-sequences.viral.fna $OUT_DIR/viral"
   ]
  },
  {
   "cell_type": "code",
   "execution_count": 29,
   "metadata": {},
   "outputs": [
    {
     "name": "stdout",
     "output_type": "stream",
     "text": [
      "Your job 1754826 (\"buildCentrifugeDB\") has been submitted\n"
     ]
    }
   ],
   "source": [
    "%%bash\n",
    "qsub runCentrifugeDB.sh"
   ]
  },
  {
   "cell_type": "code",
   "execution_count": 30,
   "metadata": {},
   "outputs": [
    {
     "name": "stdout",
     "output_type": "stream",
     "text": [
      "Overwriting runCentrifugeVsNT.sh\n"
     ]
    }
   ],
   "source": [
    "%%writefile runCentrifugeVsNT.sh\n",
    "#!/bin/bash\n",
    "#$ -N centrifuge\n",
    "#$ -pe parallel 15\n",
    "#$ -l h_vmem=4G\n",
    "#$ -l h_rt=01:00:00\n",
    "#$ -cwd\n",
    "#$ -m ea\n",
    "#$ -M jmoreno@tuebingen.mpg.de\n",
    "\n",
    "IN_DIR=/ebio/abt3_projects/TwinsUK_viromes_Shao_Pei/tmp2\n",
    "OUT_DIR=/ebio/abt3_projects/TwinsUK_viromes_Shao_Pei/tmp2/0X_contigAnnotation\n",
    "\n",
    "/ebio/abt3_projects/TwinsUK_viromes_Shao_Pei/Programs/centrifuge/centrifuge -p 15  -f -x $OUT_DIR/centrifugeDatabase/viral $IN_DIR/05_abundanceDistributions/contigs.ForAlpha.fna > $OUT_DIR/contigs.ForAlpha.centrifuge.viral.tsv"
   ]
  },
  {
   "cell_type": "code",
   "execution_count": 31,
   "metadata": {},
   "outputs": [
    {
     "name": "stdout",
     "output_type": "stream",
     "text": [
      "Your job 1754827 (\"centrifuge\") has been submitted\n"
     ]
    }
   ],
   "source": [
    "%%bash\n",
    "qsub runCentrifugeVsNT.sh"
   ]
  }
 ],
 "metadata": {
  "kernelspec": {
   "display_name": "Python 2",
   "language": "python",
   "name": "python2"
  },
  "language_info": {
   "codemirror_mode": {
    "name": "ipython",
    "version": 2
   },
   "file_extension": ".py",
   "mimetype": "text/x-python",
   "name": "python",
   "nbconvert_exporter": "python",
   "pygments_lexer": "ipython2",
   "version": "2.7.13"
  }
 },
 "nbformat": 4,
 "nbformat_minor": 2
}
