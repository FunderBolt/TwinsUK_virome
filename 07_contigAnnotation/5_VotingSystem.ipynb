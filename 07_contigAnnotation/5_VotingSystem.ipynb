{
 "cells": [
  {
   "cell_type": "code",
   "execution_count": 73,
   "metadata": {
    "collapsed": true
   },
   "outputs": [],
   "source": [
    "import pandas as pd"
   ]
  },
  {
   "cell_type": "code",
   "execution_count": 74,
   "metadata": {
    "collapsed": true
   },
   "outputs": [],
   "source": [
    "OUT_DIR = \"/ebio/abt3_projects/TwinsUK_viromes_Shao_Pei/tmp2/0X_contigAnnotation/\""
   ]
  },
  {
   "cell_type": "markdown",
   "metadata": {},
   "source": [
    "### Voting system"
   ]
  },
  {
   "cell_type": "markdown",
   "metadata": {},
   "source": [
    "###### Import centrifuge data"
   ]
  },
  {
   "cell_type": "code",
   "execution_count": 106,
   "metadata": {
    "collapsed": true
   },
   "outputs": [],
   "source": [
    "def parseContigName(name):\n",
    "    name = name.split(\"_\")\n",
    "    return name[1]+\"_contig\"+name[0]"
   ]
  },
  {
   "cell_type": "code",
   "execution_count": 115,
   "metadata": {},
   "outputs": [
    {
     "data": {
      "text/html": [
       "<div>\n",
       "<style>\n",
       "    .dataframe thead tr:only-child th {\n",
       "        text-align: right;\n",
       "    }\n",
       "\n",
       "    .dataframe thead th {\n",
       "        text-align: left;\n",
       "    }\n",
       "\n",
       "    .dataframe tbody tr th {\n",
       "        vertical-align: top;\n",
       "    }\n",
       "</style>\n",
       "<table border=\"1\" class=\"dataframe\">\n",
       "  <thead>\n",
       "    <tr style=\"text-align: right;\">\n",
       "      <th></th>\n",
       "      <th>C</th>\n",
       "      <th>LINEAGE</th>\n",
       "    </tr>\n",
       "    <tr>\n",
       "      <th>CONTIG</th>\n",
       "      <th></th>\n",
       "      <th></th>\n",
       "    </tr>\n",
       "  </thead>\n",
       "  <tbody>\n",
       "    <tr>\n",
       "      <th>L2_contig99</th>\n",
       "      <td>99_L2_8Lpp_out_L2356</td>\n",
       "      <td>root;Viruses;dsDNA viruses, no RNA stage;Caudo...</td>\n",
       "    </tr>\n",
       "    <tr>\n",
       "      <th>X1_contig9997</th>\n",
       "      <td>9997_X1_8Lpp_out_L531</td>\n",
       "      <td>root;Viruses;dsDNA viruses, no RNA stage;Caudo...</td>\n",
       "    </tr>\n",
       "    <tr>\n",
       "      <th>K1_contig9996</th>\n",
       "      <td>9996_K1_8Lpp_out_L526</td>\n",
       "      <td>root;Viruses;dsDNA viruses, no RNA stage;Caudo...</td>\n",
       "    </tr>\n",
       "    <tr>\n",
       "      <th>T2_contig998</th>\n",
       "      <td>998_T2_8Lpp_out_L903</td>\n",
       "      <td>root;Viruses;unclassified bacterial viruses;en...</td>\n",
       "    </tr>\n",
       "    <tr>\n",
       "      <th>M1_contig9977</th>\n",
       "      <td>9977_M1_8Lpp_out_L1445</td>\n",
       "      <td>root;Viruses;unclassified bacterial viruses;en...</td>\n",
       "    </tr>\n",
       "  </tbody>\n",
       "</table>\n",
       "</div>"
      ],
      "text/plain": [
       "                                    C  \\\n",
       "CONTIG                                  \n",
       "L2_contig99      99_L2_8Lpp_out_L2356   \n",
       "X1_contig9997   9997_X1_8Lpp_out_L531   \n",
       "K1_contig9996   9996_K1_8Lpp_out_L526   \n",
       "T2_contig998     998_T2_8Lpp_out_L903   \n",
       "M1_contig9977  9977_M1_8Lpp_out_L1445   \n",
       "\n",
       "                                                         LINEAGE  \n",
       "CONTIG                                                            \n",
       "L2_contig99    root;Viruses;dsDNA viruses, no RNA stage;Caudo...  \n",
       "X1_contig9997  root;Viruses;dsDNA viruses, no RNA stage;Caudo...  \n",
       "K1_contig9996  root;Viruses;dsDNA viruses, no RNA stage;Caudo...  \n",
       "T2_contig998   root;Viruses;unclassified bacterial viruses;en...  \n",
       "M1_contig9977  root;Viruses;unclassified bacterial viruses;en...  "
      ]
     },
     "execution_count": 115,
     "metadata": {},
     "output_type": "execute_result"
    }
   ],
   "source": [
    "centrifuge = pd.read_csv(OUT_DIR+\"contigsVsVIRALtax.centrifuge.csv2\",sep='\\t',header=None)\n",
    "header = [\"C\",\"LINEAGE\"]\n",
    "centrifuge.columns = header\n",
    "centrifuge[\"CONTIG\"] = centrifuge[\"C\"].apply(parseContigName)\n",
    "centrifuge.set_index(\"CONTIG\",inplace=True)\n",
    "centrifuge.head()"
   ]
  },
  {
   "cell_type": "markdown",
   "metadata": {},
   "source": [
    "###### Import LCA data"
   ]
  },
  {
   "cell_type": "code",
   "execution_count": 116,
   "metadata": {},
   "outputs": [
    {
     "data": {
      "text/html": [
       "<div>\n",
       "<style>\n",
       "    .dataframe thead tr:only-child th {\n",
       "        text-align: right;\n",
       "    }\n",
       "\n",
       "    .dataframe thead th {\n",
       "        text-align: left;\n",
       "    }\n",
       "\n",
       "    .dataframe tbody tr th {\n",
       "        vertical-align: top;\n",
       "    }\n",
       "</style>\n",
       "<table border=\"1\" class=\"dataframe\">\n",
       "  <thead>\n",
       "    <tr style=\"text-align: right;\">\n",
       "      <th></th>\n",
       "      <th>PROTEIN</th>\n",
       "      <th>LINEAGE</th>\n",
       "    </tr>\n",
       "    <tr>\n",
       "      <th>CONTIG</th>\n",
       "      <th></th>\n",
       "      <th></th>\n",
       "    </tr>\n",
       "  </thead>\n",
       "  <tbody>\n",
       "    <tr>\n",
       "      <th>Ab1_contig1</th>\n",
       "      <td>gene_12|GeneMark.hmm|261_aa|-|5686|6471_&gt;Ab1_c...</td>\n",
       "      <td>root;Viruses;dsDNA viruses, no RNA stage;</td>\n",
       "    </tr>\n",
       "    <tr>\n",
       "      <th>Ab1_contig2</th>\n",
       "      <td>gene_36|GeneMark.hmm|143_aa|+|3025|3456_&gt;Ab1_c...</td>\n",
       "      <td>root;Viruses;dsDNA viruses, no RNA stage;</td>\n",
       "    </tr>\n",
       "    <tr>\n",
       "      <th>Ab1_contig392</th>\n",
       "      <td>gene_726|GeneMark.hmm|494_aa|-|2|1483_&gt;Ab1_con...</td>\n",
       "      <td>root;Viruses;dsDNA viruses, no RNA stage;</td>\n",
       "    </tr>\n",
       "    <tr>\n",
       "      <th>Ab1_contig768</th>\n",
       "      <td>gene_1155|GeneMark.hmm|181_aa|-|14319|14864_&gt;A...</td>\n",
       "      <td>root;Viruses;dsDNA viruses, no RNA stage;</td>\n",
       "    </tr>\n",
       "    <tr>\n",
       "      <th>Ab1_contig1084</th>\n",
       "      <td>gene_1355|GeneMark.hmm|79_aa|+|3473|3712_&gt;Ab1_...</td>\n",
       "      <td>root;Viruses;dsDNA viruses, no RNA stage;</td>\n",
       "    </tr>\n",
       "  </tbody>\n",
       "</table>\n",
       "</div>"
      ],
      "text/plain": [
       "                                                          PROTEIN  \\\n",
       "CONTIG                                                              \n",
       "Ab1_contig1     gene_12|GeneMark.hmm|261_aa|-|5686|6471_>Ab1_c...   \n",
       "Ab1_contig2     gene_36|GeneMark.hmm|143_aa|+|3025|3456_>Ab1_c...   \n",
       "Ab1_contig392   gene_726|GeneMark.hmm|494_aa|-|2|1483_>Ab1_con...   \n",
       "Ab1_contig768   gene_1155|GeneMark.hmm|181_aa|-|14319|14864_>A...   \n",
       "Ab1_contig1084  gene_1355|GeneMark.hmm|79_aa|+|3473|3712_>Ab1_...   \n",
       "\n",
       "                                                  LINEAGE  \n",
       "CONTIG                                                     \n",
       "Ab1_contig1     root;Viruses;dsDNA viruses, no RNA stage;  \n",
       "Ab1_contig2     root;Viruses;dsDNA viruses, no RNA stage;  \n",
       "Ab1_contig392   root;Viruses;dsDNA viruses, no RNA stage;  \n",
       "Ab1_contig768   root;Viruses;dsDNA viruses, no RNA stage;  \n",
       "Ab1_contig1084  root;Viruses;dsDNA viruses, no RNA stage;  "
      ]
     },
     "execution_count": 116,
     "metadata": {},
     "output_type": "execute_result"
    }
   ],
   "source": [
    "lca = pd.read_csv(OUT_DIR+\"contigGenesVsVIRALtax.MeganMapping.csv\",\n",
    "                                sep=';',header=None)\n",
    "header = [\"PROTEIN\",\"LINEAGE\"]\n",
    "lca.columns = header\n",
    "\n",
    "getContig = lambda x : x.split(\">\")[1]\n",
    "lca[\"CONTIG\"] = lca[\"PROTEIN\"].apply(getContig)\n",
    "lca.set_index(\"CONTIG\",inplace=True)\n",
    "lca.head()"
   ]
  },
  {
   "cell_type": "markdown",
   "metadata": {},
   "source": [
    "###### Generate the trees"
   ]
  },
  {
   "cell_type": "code",
   "execution_count": 148,
   "metadata": {
    "collapsed": true
   },
   "outputs": [],
   "source": [
    "#Define the tree class \n",
    "class Tree(object):\n",
    "    def __init__(self):\n",
    "        self.child = []\n",
    "        self.name = None\n",
    "        self.times = None\n",
    "    def __init__(self,name):\n",
    "        self.name = name\n",
    "        self.times = 1\n",
    "        self.child = []\n",
    "    def addChild(self, name):\n",
    "        found = False\n",
    "        for c in self.child:\n",
    "            if c.name == name:\n",
    "                c.times += 1\n",
    "                found = True\n",
    "        if found == False:\n",
    "            self.child.append(Tree(name))\n",
    "    def insertNode(self,father,child):\n",
    "        if self.name == father:\n",
    "            self.addChild(child)\n",
    "            return True\n",
    "        else:\n",
    "            for c in self.child:\n",
    "                c.insertNode(father,child)\n",
    "    def insertRoot(self,node):\n",
    "        if self.name == node:\n",
    "            self.times += 1\n",
    "    def printTree(self):\n",
    "        print self.name, self.times\n",
    "        for c in self.child:\n",
    "            c.printTree()\n",
    "    def equalChilds(self):\n",
    "        if len(self.child) > 1:\n",
    "            first = self.child[0].times\n",
    "            for i in range(1,len(self.child)):\n",
    "                if self.child[i].times != first:\n",
    "                    return False\n",
    "            return True\n",
    "        else:\n",
    "            return False\n",
    "    def findPath(self,path):\n",
    "        path.append((self.name,self.times))\n",
    "        maxChild = 0\n",
    "        nextChild = None\n",
    "        if ~(self.equalChilds()):\n",
    "            for c in self.child:\n",
    "                if c.times > maxChild:\n",
    "                    maxChild = c.times\n",
    "                    nextChild = c\n",
    "        if nextChild != None:\n",
    "            nextChild.findPath(path)\n",
    "        return path"
   ]
  },
  {
   "cell_type": "code",
   "execution_count": 149,
   "metadata": {},
   "outputs": [
    {
     "name": "stdout",
     "output_type": "stream",
     "text": [
      "LCA annotations inserted\n",
      "CENTRIFUGE annotations inserted\n"
     ]
    }
   ],
   "source": [
    "#Fill the trees with centrifuge data and then with lca data (actually the order does not matters)\n",
    "#The thing is that the LCA annotations have a ';' at the end, generating an extra level that must be removed\n",
    "trees = {}\n",
    "for index,row in lca.iterrows():\n",
    "    l = row[\"LINEAGE\"].split(';')[:-1]#Here is when the extra level is removed\n",
    "    if index in trees:\n",
    "        t = trees[index]\n",
    "        t.insertRoot(l[0])\n",
    "        for i in range(1,len(l)):\n",
    "                t.insertNode(l[i-1],l[i])\n",
    "        trees[index] = t\n",
    "    else:\n",
    "        t = Tree(l[0])\n",
    "        for i in range(1,len(l)):\n",
    "                t.insertNode(l[i-1],l[i])\n",
    "        trees[index] = t\n",
    "print \"LCA annotations inserted\"\n",
    "\n",
    "for index,row in centrifuge.iterrows():\n",
    "    l = row[\"LINEAGE\"].split(';')\n",
    "    if index in trees:\n",
    "        t = trees[index]\n",
    "        t.insertRoot(l[0])\n",
    "        for i in range(1,len(l)):\n",
    "                t.insertNode(l[i-1],l[i])\n",
    "        trees[index] = t\n",
    "    else:\n",
    "        t = Tree(l[0])\n",
    "        for i in range(1,len(l)):\n",
    "                t.insertNode(l[i-1],l[i])\n",
    "        trees[index] = t\n",
    "print \"CENTRIFUGE annotations inserted\""
   ]
  },
  {
   "cell_type": "code",
   "execution_count": 152,
   "metadata": {
    "collapsed": true
   },
   "outputs": [],
   "source": [
    "fw = open(OUT_DIR+\"contigsVsVIRALtax.votingSystem.txt\",'w')\n",
    "for contig in trees:\n",
    "    lineage = trees[contig].findPath([])\n",
    "    lineage = [x[0] for x in lineage]\n",
    "    lineage = \"; \".join(lineage)\n",
    "    print >> fw, contig + '\\t' + lineage\n",
    "fw.close()"
   ]
  },
  {
   "cell_type": "code",
   "execution_count": 153,
   "metadata": {
    "collapsed": true
   },
   "outputs": [],
   "source": [
    "#Edit the file in excel to add the taxonomy and propperly put all the hierarchical annotation."
   ]
  }
 ],
 "metadata": {
  "kernelspec": {
   "display_name": "Python 2",
   "language": "python",
   "name": "python2"
  },
  "language_info": {
   "codemirror_mode": {
    "name": "ipython",
    "version": 2
   },
   "file_extension": ".py",
   "mimetype": "text/x-python",
   "name": "python",
   "nbconvert_exporter": "python",
   "pygments_lexer": "ipython2",
   "version": "2.7.13"
  }
 },
 "nbformat": 4,
 "nbformat_minor": 2
}
