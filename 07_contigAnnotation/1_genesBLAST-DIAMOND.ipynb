{
 "cells": [
  {
   "cell_type": "code",
   "execution_count": 1,
   "metadata": {},
   "outputs": [
    {
     "name": "stdout",
     "output_type": "stream",
     "text": [
      "\n",
      "\n",
      "Building a new DB, current time: 07/20/2018 09:04:35\n",
      "New DB name:   /ebio/abt3_projects/TwinsUK_viromes_Shao_Pei/tmp2/0X_contigAnnotation/aclame_proteins_viruses_prophages_0.4\n",
      "New DB title:  /ebio/abt3_projects/TwinsUK_viromes_Shao_Pei/tmp2/0X_contigAnnotation/aclame_proteins_viruses_prophages_0.4.fasta\n",
      "Sequence type: Protein\n",
      "Keep Linkouts: T\n",
      "Keep MBits: T\n",
      "Maximum file size: 1000000000B\n",
      "Adding sequences from FASTA; added 54218 sequences in 1.94514 seconds.\n"
     ]
    }
   ],
   "source": [
    "%%bash\n",
    "OUT_DIR=/ebio/abt3_projects/TwinsUK_viromes_Shao_Pei/tmp2/0X_contigAnnotation\n",
    "\n",
    "makeblastdb -in $OUT_DIR/aclame_proteins_viruses_prophages_0.4.fasta -parse_seqids -dbtype prot -out $OUT_DIR/aclame_proteins_viruses_prophages_0.4"
   ]
  },
  {
   "cell_type": "code",
   "execution_count": 6,
   "metadata": {},
   "outputs": [
    {
     "name": "stdout",
     "output_type": "stream",
     "text": [
      "Overwriting runBlastGenesVsALAME.sh\n"
     ]
    }
   ],
   "source": [
    "%%writefile runBlastGenesVsALAME.sh\n",
    "#!/bin/bash\n",
    "#$ -N blastACLAME\n",
    "#$ -pe parallel 6\n",
    "#$ -l h_vmem=4G\n",
    "#$ -l h_rt=72:00:00\n",
    "#$ -cwd\n",
    "#$ -m ea\n",
    "#$ -M jmoreno@tuebingen.mpg.de\n",
    "\n",
    "IN_DIR=/ebio/abt3_projects/TwinsUK_viromes_Shao_Pei/tmp2\n",
    "OUT_DIR=/ebio/abt3_projects/TwinsUK_viromes_Shao_Pei/tmp2/0X_contigAnnotation\n",
    "\n",
    "blastp -db $OUT_DIR/aclame_proteins_viruses_prophages_0.4 -query $IN_DIR/00_Genes/Combined_InteMAP_pp_contigs.fa_LargerThan500.faa_USEDForDiamond -outfmt \"6 qseqid pident saccver stitle staxids qlen slen qstart qend sstart send length bitscore gaps evalue\" -out contigGenesVsACLAME.tsv -evalue 1e-5 -num_threads 6 "
   ]
  },
  {
   "cell_type": "code",
   "execution_count": 4,
   "metadata": {},
   "outputs": [
    {
     "name": "stdout",
     "output_type": "stream",
     "text": [
      "Writing runBlastGenesVsNR.sh\n"
     ]
    }
   ],
   "source": [
    "%%writefile runBlastGenesVsNR.sh\n",
    "#!/bin/bash\n",
    "#$ -N blastNR\n",
    "#$ -pe parallel 6\n",
    "#$ -l h_vmem=4G\n",
    "#$ -l h_rt=72:00:00\n",
    "#$ -cwd\n",
    "#$ -m ea\n",
    "#$ -M jmoreno@tuebingen.mpg.de\n",
    "\n",
    "IN_DIR=/ebio/abt3_projects/TwinsUK_viromes_Shao_Pei/tmp2\n",
    "OUT_DIR=/ebio/abt3_projects/TwinsUK_viromes_Shao_Pei/tmp2/0X_contigAnnotation\n",
    "\n",
    "blastp -db /ebio/abt3_projects/databases/NCBI_blastdb/nr -query $IN_DIR/00_Genes/Combined_InteMAP_pp_contigs.fa_LargerThan500.faa_USEDForDiamond -outfmt \"6 qseqid pident saccver stitle staxids qlen slen qstart qend sstart send length bitscore gaps evalue\" -out contigGenesVsNR.tsv -evalue 1e-5 -num_threads 6 "
   ]
  },
  {
   "cell_type": "code",
   "execution_count": 5,
   "metadata": {},
   "outputs": [
    {
     "name": "stdout",
     "output_type": "stream",
     "text": [
      "Your job 1665855 (\"blastACLAME\") has been submitted\n",
      "Your job 1665856 (\"blastNR\") has been submitted\n"
     ]
    }
   ],
   "source": [
    "%%bash\n",
    "qsub runBlastGenesVsALAME.sh\n",
    "qsub runBlastGenesVsNR.sh"
   ]
  },
  {
   "cell_type": "code",
   "execution_count": 36,
   "metadata": {},
   "outputs": [
    {
     "name": "stdout",
     "output_type": "stream",
     "text": [
      "Overwriting runDIAMONDGenesVsVIRAL.sh\n"
     ]
    }
   ],
   "source": [
    "%%writefile runDIAMONDGenesVsVIRAL.sh\n",
    "#!/bin/bash\n",
    "#$ -N diamondVIRAL\n",
    "#-pe parallel 6\n",
    "#$ -l h_vmem=8G\n",
    "#$ -l h_rt=72:00:00\n",
    "#$ -cwd\n",
    "#$ -m ea\n",
    "#$ -M jmoreno@tuebingen.mpg.de\n",
    "\n",
    "IN_DIR=/ebio/abt3_projects/TwinsUK_viromes_Shao_Pei/tmp2\n",
    "OUT_DIR=/ebio/abt3_projects/TwinsUK_viromes_Shao_Pei/tmp2/0X_contigAnnotation\n",
    "\n",
    "#/ebio/abt3_projects/TwinsUK_viromes_Shao_Pei/Programs/diamond/diamond makedb --in $IN_DIR/0X_contigAnnotation/ncbiViralDatabases/viral_ncbi.faa -d $OUT_DIR/ncbiViralDatabases/viral\n",
    "#echo \"database created...\"\n",
    "\n",
    "/ebio/abt3_projects/TwinsUK_viromes_Shao_Pei/Programs/diamond/diamond blastp --threads 6 -d $OUT_DIR/ncbiViralDatabases/viral -q $IN_DIR/00_Genes/Combined_InteMAP_pp_contigs.fa_LargerThan500.faa_USEDForDiamond -o $OUT_DIR/contigGenesVsVIRAL.out6.3columns.diamond --outfmt 6 qseqid stitle bitscore --max-target-seqs 25 --evalue 1e-5 "
   ]
  },
  {
   "cell_type": "code",
   "execution_count": 39,
   "metadata": {},
   "outputs": [
    {
     "name": "stdout",
     "output_type": "stream",
     "text": [
      "Overwriting runDIAMONDGenesVsNR.sh\n"
     ]
    }
   ],
   "source": [
    "%%writefile runDIAMONDGenesVsNR.sh\n",
    "#!/bin/bash\n",
    "#$ -N diamondNR\n",
    "#$ -pe parallel 50\n",
    "#$ -l h_vmem=8G\n",
    "#$ -l h_rt=72:00:00\n",
    "#$ -cwd\n",
    "#$ -m ea\n",
    "#$ -M jmoreno@tuebingen.mpg.de\n",
    "\n",
    "IN_DIR=/ebio/abt3_projects/TwinsUK_viromes_Shao_Pei/tmp2\n",
    "OUT_DIR=/ebio/abt3_projects/TwinsUK_viromes_Shao_Pei/tmp2/0X_contigAnnotation\n",
    "\n",
    "#/ebio/abt3_projects/TwinsUK_viromes_Shao_Pei/Programs/diamond/diamond makedb --in $IN_DIR/0X_contigAnnotation/ncbiNRdatabase/nr -d $OUT_DIR/ncbiNRdatabase/nrDIAMOND\n",
    "#echo \"database created...\"\n",
    "\n",
    "#/ebio/abt3_projects/TwinsUK_viromes_Shao_Pei/Programs/diamond/diamond blastp --threads 50 -d $OUT_DIR/ncbiNRdatabase/nrDIAMOND -q $IN_DIR/00_Genes/Combined_InteMAP_pp_contigs.fa_LargerThan500.faa_USEDForDiamond -o $OUT_DIR/contigGenesVsNR.diamond --outfmt 100 --max-target-seqs 25 --evalue 1e-5 \n",
    "/ebio/abt3_projects/TwinsUK_viromes_Shao_Pei/Programs/diamond/diamond blastp --threads 50 -d $OUT_DIR/ncbiNRdatabase/nrDIAMOND -q $IN_DIR/00_Genes/Combined_InteMAP_pp_contigs.fa_LargerThan500.faa_USEDForDiamond -o $OUT_DIR/contigGenesVsNR.diamond --outfmt 6 qseqid stitle bitscore --max-target-seqs 25 --evalue 1e-5 "
   ]
  },
  {
   "cell_type": "code",
   "execution_count": 40,
   "metadata": {},
   "outputs": [
    {
     "name": "stdout",
     "output_type": "stream",
     "text": [
      "Your job 1746680 (\"diamondNR\") has been submitted\n"
     ]
    }
   ],
   "source": [
    "%%bash\n",
    "#qsub runDIAMONDGenesVsVIRAL.sh\n",
    "qsub runDIAMONDGenesVsNR.sh"
   ]
  },
  {
   "cell_type": "markdown",
   "metadata": {},
   "source": [
    "### \n",
    "* At the end I used the diamond output (daa format) agains viralNR. \n",
    "* That file was loaded to MEGAN and taxonomy assignation of each protein was done with the LCA approach Parameters: Min Support: 1, Min Score: 40.0, Max Expected: 0.01, Top Percent: 10.0, Min-Complexity filter: 0.44.\n",
    "* MEGAN's output was upload to the tmp2 folder as \"contigGenesVsVIRALtax.MeganMapping.csv\""
   ]
  }
 ],
 "metadata": {
  "kernelspec": {
   "display_name": "Python 2",
   "language": "python",
   "name": "python2"
  },
  "language_info": {
   "codemirror_mode": {
    "name": "ipython",
    "version": 2
   },
   "file_extension": ".py",
   "mimetype": "text/x-python",
   "name": "python",
   "nbconvert_exporter": "python",
   "pygments_lexer": "ipython2",
   "version": "2.7.13"
  }
 },
 "nbformat": 4,
 "nbformat_minor": 2
}
