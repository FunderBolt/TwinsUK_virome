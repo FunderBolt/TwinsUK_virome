{
 "cells": [
  {
   "cell_type": "code",
   "execution_count": 1,
   "metadata": {
    "collapsed": true
   },
   "outputs": [],
   "source": [
    "import pandas as pd"
   ]
  },
  {
   "cell_type": "code",
   "execution_count": 10,
   "metadata": {
    "collapsed": true
   },
   "outputs": [],
   "source": [
    "rMatPath = '/ebio/abt3_projects/TwinsUK_viromes_Shao_Pei/tmp2/05_abundanceDistributions/matrix.counts.readsXContigs.remotion.ForAlpha.csv'\n",
    "allSeqsPath = '/ebio/abt3_projects/TwinsUK_viromes_Shao_Pei/tmp2/01_Derep/allContigs.DeRep.fna'"
   ]
  },
  {
   "cell_type": "code",
   "execution_count": 4,
   "metadata": {},
   "outputs": [
    {
     "data": {
      "text/html": [
       "<div>\n",
       "<style>\n",
       "    .dataframe thead tr:only-child th {\n",
       "        text-align: right;\n",
       "    }\n",
       "\n",
       "    .dataframe thead th {\n",
       "        text-align: left;\n",
       "    }\n",
       "\n",
       "    .dataframe tbody tr th {\n",
       "        vertical-align: top;\n",
       "    }\n",
       "</style>\n",
       "<table border=\"1\" class=\"dataframe\">\n",
       "  <thead>\n",
       "    <tr style=\"text-align: right;\">\n",
       "      <th></th>\n",
       "      <th>10002_K1_8Lpp_out_L611</th>\n",
       "      <th>10002_K2_8Lpp_out_L539</th>\n",
       "      <th>10002_T1_8Lpp_out_L620</th>\n",
       "      <th>10003_K1_8Lpp_out_L711</th>\n",
       "      <th>10003_T1_8Lpp_out_L570</th>\n",
       "      <th>10004_K1_8Lpp_out_L1129</th>\n",
       "      <th>10004_T1_8Lpp_out_L664</th>\n",
       "      <th>10006_K1_8Lpp_out_L555</th>\n",
       "      <th>10006_O1_8Lpp_out_L1891</th>\n",
       "      <th>10007_Da1_8Lpp_out_L1459</th>\n",
       "      <th>...</th>\n",
       "      <th>9_Da1_8Lpp_out_L1884</th>\n",
       "      <th>9_E1_8Lpp_out_L536</th>\n",
       "      <th>9_H1_8Lpp_out_L10636</th>\n",
       "      <th>9_J1_8Lpp_out_L47237</th>\n",
       "      <th>9_K2_8Lpp_out_L11520</th>\n",
       "      <th>9_M1_8Lpp_out_L809</th>\n",
       "      <th>9_O2_8Lpp_out_L848</th>\n",
       "      <th>9_P1_8Lpp_out_L5890</th>\n",
       "      <th>9_S1_8Lpp_out_L948</th>\n",
       "      <th>9_W2_8Lpp_out_L2103</th>\n",
       "    </tr>\n",
       "  </thead>\n",
       "  <tbody>\n",
       "    <tr>\n",
       "      <th>Ab1</th>\n",
       "      <td>0.0</td>\n",
       "      <td>0.0</td>\n",
       "      <td>0.0</td>\n",
       "      <td>0.0</td>\n",
       "      <td>0.0</td>\n",
       "      <td>0.0</td>\n",
       "      <td>0.000000</td>\n",
       "      <td>0.000000</td>\n",
       "      <td>0.0</td>\n",
       "      <td>0.000000</td>\n",
       "      <td>...</td>\n",
       "      <td>0.000000</td>\n",
       "      <td>0.0</td>\n",
       "      <td>0.000000</td>\n",
       "      <td>0.069900</td>\n",
       "      <td>0.0</td>\n",
       "      <td>0.0</td>\n",
       "      <td>0.0</td>\n",
       "      <td>0.0</td>\n",
       "      <td>0.0</td>\n",
       "      <td>0.0</td>\n",
       "    </tr>\n",
       "    <tr>\n",
       "      <th>Ab2</th>\n",
       "      <td>0.0</td>\n",
       "      <td>0.0</td>\n",
       "      <td>0.0</td>\n",
       "      <td>0.0</td>\n",
       "      <td>0.0</td>\n",
       "      <td>0.0</td>\n",
       "      <td>0.000000</td>\n",
       "      <td>0.000000</td>\n",
       "      <td>0.0</td>\n",
       "      <td>0.000000</td>\n",
       "      <td>...</td>\n",
       "      <td>0.000000</td>\n",
       "      <td>0.0</td>\n",
       "      <td>0.049014</td>\n",
       "      <td>0.017180</td>\n",
       "      <td>0.0</td>\n",
       "      <td>0.0</td>\n",
       "      <td>0.0</td>\n",
       "      <td>0.0</td>\n",
       "      <td>0.0</td>\n",
       "      <td>0.0</td>\n",
       "    </tr>\n",
       "    <tr>\n",
       "      <th>B1</th>\n",
       "      <td>0.0</td>\n",
       "      <td>0.0</td>\n",
       "      <td>0.0</td>\n",
       "      <td>0.0</td>\n",
       "      <td>0.0</td>\n",
       "      <td>0.0</td>\n",
       "      <td>0.000000</td>\n",
       "      <td>0.793995</td>\n",
       "      <td>0.0</td>\n",
       "      <td>0.000000</td>\n",
       "      <td>...</td>\n",
       "      <td>0.000000</td>\n",
       "      <td>0.0</td>\n",
       "      <td>3.252818</td>\n",
       "      <td>0.335648</td>\n",
       "      <td>0.0</td>\n",
       "      <td>0.0</td>\n",
       "      <td>0.0</td>\n",
       "      <td>0.0</td>\n",
       "      <td>0.0</td>\n",
       "      <td>0.0</td>\n",
       "    </tr>\n",
       "    <tr>\n",
       "      <th>B2</th>\n",
       "      <td>0.0</td>\n",
       "      <td>0.0</td>\n",
       "      <td>0.0</td>\n",
       "      <td>0.0</td>\n",
       "      <td>0.0</td>\n",
       "      <td>0.0</td>\n",
       "      <td>0.000000</td>\n",
       "      <td>0.000000</td>\n",
       "      <td>0.0</td>\n",
       "      <td>0.000000</td>\n",
       "      <td>...</td>\n",
       "      <td>0.000000</td>\n",
       "      <td>0.0</td>\n",
       "      <td>0.000000</td>\n",
       "      <td>0.000000</td>\n",
       "      <td>0.0</td>\n",
       "      <td>0.0</td>\n",
       "      <td>0.0</td>\n",
       "      <td>0.0</td>\n",
       "      <td>0.0</td>\n",
       "      <td>0.0</td>\n",
       "    </tr>\n",
       "    <tr>\n",
       "      <th>Da1</th>\n",
       "      <td>0.0</td>\n",
       "      <td>0.0</td>\n",
       "      <td>0.0</td>\n",
       "      <td>0.0</td>\n",
       "      <td>0.0</td>\n",
       "      <td>0.0</td>\n",
       "      <td>0.525969</td>\n",
       "      <td>0.000000</td>\n",
       "      <td>0.0</td>\n",
       "      <td>1.142169</td>\n",
       "      <td>...</td>\n",
       "      <td>2.478424</td>\n",
       "      <td>0.0</td>\n",
       "      <td>0.000000</td>\n",
       "      <td>0.394447</td>\n",
       "      <td>0.0</td>\n",
       "      <td>0.0</td>\n",
       "      <td>0.0</td>\n",
       "      <td>0.0</td>\n",
       "      <td>0.0</td>\n",
       "      <td>0.0</td>\n",
       "    </tr>\n",
       "  </tbody>\n",
       "</table>\n",
       "<p>5 rows × 66446 columns</p>\n",
       "</div>"
      ],
      "text/plain": [
       "     10002_K1_8Lpp_out_L611  10002_K2_8Lpp_out_L539  10002_T1_8Lpp_out_L620  \\\n",
       "Ab1                     0.0                     0.0                     0.0   \n",
       "Ab2                     0.0                     0.0                     0.0   \n",
       "B1                      0.0                     0.0                     0.0   \n",
       "B2                      0.0                     0.0                     0.0   \n",
       "Da1                     0.0                     0.0                     0.0   \n",
       "\n",
       "     10003_K1_8Lpp_out_L711  10003_T1_8Lpp_out_L570  10004_K1_8Lpp_out_L1129  \\\n",
       "Ab1                     0.0                     0.0                      0.0   \n",
       "Ab2                     0.0                     0.0                      0.0   \n",
       "B1                      0.0                     0.0                      0.0   \n",
       "B2                      0.0                     0.0                      0.0   \n",
       "Da1                     0.0                     0.0                      0.0   \n",
       "\n",
       "     10004_T1_8Lpp_out_L664  10006_K1_8Lpp_out_L555  10006_O1_8Lpp_out_L1891  \\\n",
       "Ab1                0.000000                0.000000                      0.0   \n",
       "Ab2                0.000000                0.000000                      0.0   \n",
       "B1                 0.000000                0.793995                      0.0   \n",
       "B2                 0.000000                0.000000                      0.0   \n",
       "Da1                0.525969                0.000000                      0.0   \n",
       "\n",
       "     10007_Da1_8Lpp_out_L1459         ...           9_Da1_8Lpp_out_L1884  \\\n",
       "Ab1                  0.000000         ...                       0.000000   \n",
       "Ab2                  0.000000         ...                       0.000000   \n",
       "B1                   0.000000         ...                       0.000000   \n",
       "B2                   0.000000         ...                       0.000000   \n",
       "Da1                  1.142169         ...                       2.478424   \n",
       "\n",
       "     9_E1_8Lpp_out_L536  9_H1_8Lpp_out_L10636  9_J1_8Lpp_out_L47237  \\\n",
       "Ab1                 0.0              0.000000              0.069900   \n",
       "Ab2                 0.0              0.049014              0.017180   \n",
       "B1                  0.0              3.252818              0.335648   \n",
       "B2                  0.0              0.000000              0.000000   \n",
       "Da1                 0.0              0.000000              0.394447   \n",
       "\n",
       "     9_K2_8Lpp_out_L11520  9_M1_8Lpp_out_L809  9_O2_8Lpp_out_L848  \\\n",
       "Ab1                   0.0                 0.0                 0.0   \n",
       "Ab2                   0.0                 0.0                 0.0   \n",
       "B1                    0.0                 0.0                 0.0   \n",
       "B2                    0.0                 0.0                 0.0   \n",
       "Da1                   0.0                 0.0                 0.0   \n",
       "\n",
       "     9_P1_8Lpp_out_L5890  9_S1_8Lpp_out_L948  9_W2_8Lpp_out_L2103  \n",
       "Ab1                  0.0                 0.0                  0.0  \n",
       "Ab2                  0.0                 0.0                  0.0  \n",
       "B1                   0.0                 0.0                  0.0  \n",
       "B2                   0.0                 0.0                  0.0  \n",
       "Da1                  0.0                 0.0                  0.0  \n",
       "\n",
       "[5 rows x 66446 columns]"
      ]
     },
     "execution_count": 4,
     "metadata": {},
     "output_type": "execute_result"
    }
   ],
   "source": [
    "rMat = pd.read_csv(rMatPath,header=0,index_col=0,sep='\\t') #rMat:=Recruitment Matrix\n",
    "rMat.head()\n"
   ]
  },
  {
   "cell_type": "code",
   "execution_count": 14,
   "metadata": {
    "collapsed": true
   },
   "outputs": [],
   "source": [
    "contigs = rMat.columns.values\n",
    "contigs.tofile('/ebio/abt3_projects/TwinsUK_viromes_Shao_Pei/tmp2/05_abundanceDistributions/contigsNames.ForAlpha.csv',\n",
    "               sep='\\n',format=\"%s\")"
   ]
  },
  {
   "cell_type": "markdown",
   "metadata": {},
   "source": [
    "### GetContigs"
   ]
  },
  {
   "cell_type": "code",
   "execution_count": 12,
   "metadata": {
    "collapsed": true
   },
   "outputs": [],
   "source": [
    "#as in utils.py\n",
    "from Bio import SeqIO\n",
    "def getSeqs(path,keysPath,outfile):\n",
    "    \"\"\"Return sequences in a list of desired sequences\n",
    "    Parameters:\n",
    "    path = paht of the fasta file. String\n",
    "    keys = file with a list of identifiers. String\n",
    "    outfile = outfile name. String\n",
    "    Returns:\n",
    "    Void\n",
    "    Writes a file with the desired sequences\"\"\"\n",
    "    seqs = {}\n",
    "    for record in SeqIO.parse(path,\"fasta\"):\n",
    "        seqs[record.id] = record\n",
    "\n",
    "    keys = []\n",
    "    fr = open(keysPath)\n",
    "    for line in fr:\n",
    "        keys.append(line.strip('\\n'))\n",
    "    fr.close()\n",
    "\n",
    "    desiredSeqs = []\n",
    "    for key in keys:\n",
    "        desiredSeqs.append(seqs[key])\n",
    "\n",
    "    SeqIO.write(desiredSeqs, outfile, \"fasta\")"
   ]
  },
  {
   "cell_type": "code",
   "execution_count": 16,
   "metadata": {},
   "outputs": [],
   "source": [
    "getSeqs(allSeqsPath,\n",
    "        '/ebio/abt3_projects/TwinsUK_viromes_Shao_Pei/tmp2/05_abundanceDistributions/contigsNames.ForAlpha.csv',\n",
    "        '/ebio/abt3_projects/TwinsUK_viromes_Shao_Pei/tmp2/05_abundanceDistributions/contigs.ForAlpha.fna')"
   ]
  },
  {
   "cell_type": "markdown",
   "metadata": {},
   "source": [
    "### Get proteins"
   ]
  },
  {
   "cell_type": "code",
   "execution_count": 17,
   "metadata": {
    "collapsed": true
   },
   "outputs": [],
   "source": [
    "def parseContigName(contigsList):\n",
    "    parsed = []\n",
    "    for c in contigsList:#c := contig\n",
    "        c = c.split('_')\n",
    "        parsed.append(c[1]+\"_contig\"+c[0])\n",
    "    return parsed"
   ]
  },
  {
   "cell_type": "code",
   "execution_count": 18,
   "metadata": {
    "collapsed": true
   },
   "outputs": [],
   "source": [
    "contigsParsed = parseContigName(contigs)"
   ]
  },
  {
   "cell_type": "code",
   "execution_count": 24,
   "metadata": {},
   "outputs": [],
   "source": [
    "seqs = {}\n",
    "for record in SeqIO.parse(\"/ebio/abt3_projects/TwinsUK_viromes_Shao_Pei/tmp2/00_Genes/Combined_InteMAP_pp_contigs.fa_LargerThan500.faa_USEDForDiamond\",\"fasta\"):\n",
    "    seqs[record.id] = record"
   ]
  },
  {
   "cell_type": "code",
   "execution_count": 27,
   "metadata": {},
   "outputs": [],
   "source": [
    "byFeatures = {}\n",
    "for record in seqs:\n",
    "    feature = record.split(\">\")[1]\n",
    "    if feature in byFeatures:\n",
    "        proteins = byFeatures[feature]\n",
    "        proteins.append(record)\n",
    "        byFeatures[feature] = proteins\n",
    "    else:\n",
    "        byFeatures[feature] = [record]"
   ]
  },
  {
   "cell_type": "code",
   "execution_count": 32,
   "metadata": {},
   "outputs": [],
   "source": [
    "desiredSeqs = []\n",
    "noProteinContigs = []\n",
    "for feature in contigsParsed:\n",
    "    try:\n",
    "        for record in byFeatures[feature]:\n",
    "            desiredSeqs.append(seqs[record])\n",
    "    except:\n",
    "        noProteinContigs.append(record)"
   ]
  },
  {
   "cell_type": "code",
   "execution_count": 36,
   "metadata": {},
   "outputs": [
    {
     "name": "stdout",
     "output_type": "stream",
     "text": [
      "1537 of 66446 contigs do not have a proteins associated\n"
     ]
    }
   ],
   "source": [
    "print \"%d of %d contigs do not have a proteins associated\" %(len(noProteinContigs),len(contigsParsed))"
   ]
  },
  {
   "cell_type": "code",
   "execution_count": 38,
   "metadata": {},
   "outputs": [
    {
     "data": {
      "text/plain": [
       "160232"
      ]
     },
     "execution_count": 38,
     "metadata": {},
     "output_type": "execute_result"
    }
   ],
   "source": [
    "SeqIO.write(desiredSeqs,\n",
    "            '/ebio/abt3_projects/TwinsUK_viromes_Shao_Pei/tmp2/05_abundanceDistributions/Combined_InteMAP_pp_contigs.fa_LargerThan500.ForAlpha.faa',\n",
    "            \"fasta\")"
   ]
  }
 ],
 "metadata": {
  "kernelspec": {
   "display_name": "Python 2",
   "language": "python",
   "name": "python2"
  },
  "language_info": {
   "codemirror_mode": {
    "name": "ipython",
    "version": 2
   },
   "file_extension": ".py",
   "mimetype": "text/x-python",
   "name": "python",
   "nbconvert_exporter": "python",
   "pygments_lexer": "ipython2",
   "version": "2.7.13"
  }
 },
 "nbformat": 4,
 "nbformat_minor": 2
}
