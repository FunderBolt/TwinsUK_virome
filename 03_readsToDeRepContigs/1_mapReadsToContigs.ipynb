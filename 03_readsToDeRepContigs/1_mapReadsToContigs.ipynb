{
 "cells": [
  {
   "cell_type": "code",
   "execution_count": 1,
   "metadata": {
    "collapsed": true
   },
   "outputs": [],
   "source": [
    "from os import listdir"
   ]
  },
  {
   "cell_type": "markdown",
   "metadata": {},
   "source": [
    "### Index creation"
   ]
  },
  {
   "cell_type": "code",
   "execution_count": 2,
   "metadata": {},
   "outputs": [
    {
     "name": "stdout",
     "output_type": "stream",
     "text": [
      "Overwriting indexBuilding.R\n"
     ]
    }
   ],
   "source": [
    "%%writefile indexBuilding.R\n",
    "library(Rsubread)\n",
    "setwd(\"/ebio/abt3_projects/TwinsUK_viromes_Shao_Pei/tmp2/03_readsToDeRepContigs\")\n",
    "Inputs<-commandArgs(trailingOnly=TRUE)\n",
    "\n",
    "#Build index\n",
    "buildindex(basename=\"referenceIndex\",reference=Inputs[1])#allContigs.Derep.fna"
   ]
  },
  {
   "cell_type": "code",
   "execution_count": 3,
   "metadata": {},
   "outputs": [
    {
     "name": "stdout",
     "output_type": "stream",
     "text": [
      "\n",
      "        ==========     _____ _    _ ____  _____  ______          _____  \n",
      "        =====         / ____| |  | |  _ \\|  __ \\|  ____|   /\\   |  __ \\ \n",
      "          =====      | (___ | |  | | |_) | |__) | |__     /  \\  | |  | |\n",
      "            ====      \\___ \\| |  | |  _ <|  _  /|  __|   / /\\ \\ | |  | |\n",
      "              ====    ____) | |__| | |_) | | \\ \\| |____ / ____ \\| |__| |\n",
      "        ==========   |_____/ \\____/|____/|_|  \\_\\______/_/    \\_\\_____/\n",
      "       Rsubread 1.28.0\n",
      "\n",
      "//=========================== indexBuilder setting ===========================\\\\\n",
      "||                                                                            ||\n",
      "||                Index name : referenceIndex                                 ||\n",
      "||               Index space : base-space                                     ||\n",
      "||                    Memory : 8000 Mbytes                                    ||\n",
      "||          Repeat threshold : 100 repeats                                    ||\n",
      "||  Distance to next subread : 3                                              ||\n",
      "||                                                                            ||\n",
      "||               Input files : 1 file in total                                ||\n",
      "||                             o /ebio/abt3_projects/TwinsUK_viromes_Shao ... ||\n",
      "||                                                                            ||\n",
      "\\\\===================== http://subread.sourceforge.net/ ======================//\n",
      "\n",
      "//================================= Running ==================================\\\\\n",
      "||                                                                            ||\n",
      "|| Check the integrity of provided reference sequences ...                    ||\n",
      "|| There were 36 notes for reference sequences.                               ||\n",
      "|| The notes can be found in the log file, 'referenceIndex.log'.              ||\n",
      "|| Scan uninformative subreads in reference sequences ...                     ||\n",
      "||    8%,   0 mins elapsed, rate=5215.0k bps/s, total=96m                     ||\n",
      "||   16%,   0 mins elapsed, rate=6781.7k bps/s, total=96m                     ||\n",
      "||   24%,   0 mins elapsed, rate=7489.6k bps/s, total=96m                     ||\n",
      "||   33%,   0 mins elapsed, rate=7848.0k bps/s, total=96m                     ||\n",
      "||   41%,   0 mins elapsed, rate=7967.8k bps/s, total=96m                     ||\n",
      "||   49%,   0 mins elapsed, rate=8020.3k bps/s, total=96m                     ||\n",
      "||   58%,   0 mins elapsed, rate=8042.1k bps/s, total=96m                     ||\n",
      "||   66%,   0 mins elapsed, rate=8055.5k bps/s, total=96m                     ||\n",
      "||   74%,   0 mins elapsed, rate=8065.9k bps/s, total=96m                     ||\n",
      "||   83%,   0 mins elapsed, rate=8069.5k bps/s, total=96m                     ||\n",
      "||   91%,   0 mins elapsed, rate=8070.9k bps/s, total=96m                     ||\n",
      "|| 5 uninformative subreads were found.                                       ||\n",
      "|| These subreads were excluded from index building.                          ||\n",
      "|| Build the index...                                                         ||\n",
      "||    8%,   0 mins elapsed, rate=2099.4k bps/s, total=96m                     ||\n",
      "||   16%,   0 mins elapsed, rate=2830.7k bps/s, total=96m                     ||\n",
      "||   24%,   0 mins elapsed, rate=2908.2k bps/s, total=96m                     ||\n",
      "||   33%,   0 mins elapsed, rate=3180.8k bps/s, total=96m                     ||\n",
      "||   41%,   0 mins elapsed, rate=3379.8k bps/s, total=96m                     ||\n",
      "||   74%,   0 mins elapsed, rate=3848.2k bps/s, total=96m                     ||\n",
      "||   83%,   0 mins elapsed, rate=3933.2k bps/s, total=96m                     ||\n",
      "||   91%,   0 mins elapsed, rate=4005.1k bps/s, total=96m                     ||\n",
      "||  141%,   0 mins elapsed, rate=4339.2k bps/s, total=96m                     ||\n",
      "||  166%,   0 mins elapsed, rate=4453.3k bps/s, total=96m                     ||\n",
      "||  174%,   0 mins elapsed, rate=4381.1k bps/s, total=96m                     ||\n",
      "||  191%,   0 mins elapsed, rate=4416.2k bps/s, total=96m                     ||\n",
      "||  283%,   1 mins elapsed, rate=4536.6k bps/s, total=96m                     ||\n",
      "|| Save current index block...                                                ||\n",
      "||  [ 0.0% finished ]                                                         ||\n",
      "||  [ 10.0% finished ]                                                        ||\n",
      "||  [ 20.0% finished ]                                                        ||\n",
      "||  [ 30.0% finished ]                                                        ||\n",
      "||  [ 40.0% finished ]                                                        ||\n",
      "||  [ 50.0% finished ]                                                        ||\n",
      "||  [ 60.0% finished ]                                                        ||\n",
      "||  [ 70.0% finished ]                                                        ||\n",
      "||  [ 80.0% finished ]                                                        ||\n",
      "||  [ 90.0% finished ]                                                        ||\n",
      "||  [ 100.0% finished ]                                                       ||\n",
      "||                                                                            ||\n",
      "||                      Total running time: 1.4 minutes.                      ||\n",
      "||                Index referenceIndex was successfully built!                ||\n",
      "||                                                                            ||\n",
      "\\\\===================== http://subread.sourceforge.net/ ======================//\n",
      "\n"
     ]
    }
   ],
   "source": [
    "%%bash\n",
    "Rscript indexBuilding.R /ebio/abt3_projects/TwinsUK_viromes_Shao_Pei/tmp2/01_Derep/allContigs.DeRep.fna"
   ]
  },
  {
   "cell_type": "markdown",
   "metadata": {},
   "source": [
    "### Mapping"
   ]
  },
  {
   "cell_type": "code",
   "execution_count": 4,
   "metadata": {},
   "outputs": [
    {
     "name": "stdout",
     "output_type": "stream",
     "text": [
      "Overwriting mapReads.Rsubread.R\n"
     ]
    }
   ],
   "source": [
    "%%writefile mapReads.Rsubread.R\n",
    "\n",
    "library(Rsubread)\n",
    "setwd(\"/ebio/abt3_projects/TwinsUK_viromes_Shao_Pei/tmp2/03_readsToDeRepContigs\")\n",
    "Inputs<-commandArgs(trailingOnly=TRUE)\n",
    "#Reads Mapping\n",
    "#Inputs[1] 8L_PF_scythed_tagcleaned_sickled_Ab1_paired_R1.fastq\n",
    "#Inputs[2] 8L_PF_scythed_tagcleaned_sickled_Ab1_paired_R2.fastq\n",
    "align(index=\"referenceIndex\",readfile1=Inputs[1],readfile2=Inputs[2],output_file=Inputs[3],minFragLength=425,maxFragLength=875,phredOffset=33,nthreads=6,input_format=\"FASTQ\",output_format=\"BAM\")#Ab1.bam"
   ]
  },
  {
   "cell_type": "code",
   "execution_count": 5,
   "metadata": {
    "collapsed": true
   },
   "outputs": [],
   "source": [
    "fw = open(\"runMapreads.list.txt\",\"w\")\n",
    "folder = \"/ebio/abt3_projects/TwinsUK_viromes_Shao_Pei/tmp/0_readsVirome/\"\n",
    "for sample in listdir(folder):\n",
    "    if \"R1\" in sample:\n",
    "        print >> fw,\"Rscript mapReads.Rsubread.R \"+folder+sample+\" \"+folder+sample.replace(\"R1\",\"R2\")+\" \"+sample.split('_')[5]+\".bam\"\n",
    "fw.close()"
   ]
  },
  {
   "cell_type": "code",
   "execution_count": 6,
   "metadata": {},
   "outputs": [
    {
     "name": "stdout",
     "output_type": "stream",
     "text": [
      "Overwriting callRsubread.sh\n"
     ]
    }
   ],
   "source": [
    "%%writefile callRsubread.sh\n",
    "cat runMapreads.list.txt | while read -r line\n",
    "do \n",
    "    qsub -v FOO=\"$line\" runRsubread.sh\n",
    "done"
   ]
  },
  {
   "cell_type": "code",
   "execution_count": 7,
   "metadata": {},
   "outputs": [
    {
     "name": "stdout",
     "output_type": "stream",
     "text": [
      "Overwriting runRsubread.sh\n"
     ]
    }
   ],
   "source": [
    "%%writefile runRsubread.sh\n",
    "#!/bin/bash\n",
    "#$ -N subread\n",
    "#$ -l h_vmem=4G\n",
    "#$ -pe parallel 6\n",
    "#$ -l h_rt=06:00:00\n",
    "#$ -m ea\n",
    "#$ -M jmoreno@tuebingen.mpg.de\n",
    "#$ -cwd\n",
    "\n",
    "export PATH=/ebio/abt3_projects/TwinsUK_viromes_Shao_Pei/anaconda3/bin:$PATH\n",
    "source activate py2_leo\n",
    "line=$FOO\n",
    "eval $line"
   ]
  },
  {
   "cell_type": "code",
   "execution_count": 8,
   "metadata": {},
   "outputs": [
    {
     "name": "stdout",
     "output_type": "stream",
     "text": [
      "Your job 1697144 (\"subread\") has been submitted\n",
      "Your job 1697145 (\"subread\") has been submitted\n",
      "Your job 1697146 (\"subread\") has been submitted\n",
      "Your job 1697147 (\"subread\") has been submitted\n",
      "Your job 1697148 (\"subread\") has been submitted\n",
      "Your job 1697149 (\"subread\") has been submitted\n",
      "Your job 1697150 (\"subread\") has been submitted\n",
      "Your job 1697151 (\"subread\") has been submitted\n",
      "Your job 1697152 (\"subread\") has been submitted\n",
      "Your job 1697153 (\"subread\") has been submitted\n",
      "Your job 1697154 (\"subread\") has been submitted\n",
      "Your job 1697155 (\"subread\") has been submitted\n",
      "Your job 1697156 (\"subread\") has been submitted\n",
      "Your job 1697157 (\"subread\") has been submitted\n",
      "Your job 1697158 (\"subread\") has been submitted\n",
      "Your job 1697159 (\"subread\") has been submitted\n",
      "Your job 1697160 (\"subread\") has been submitted\n",
      "Your job 1697161 (\"subread\") has been submitted\n",
      "Your job 1697162 (\"subread\") has been submitted\n",
      "Your job 1697163 (\"subread\") has been submitted\n",
      "Your job 1697164 (\"subread\") has been submitted\n",
      "Your job 1697165 (\"subread\") has been submitted\n",
      "Your job 1697166 (\"subread\") has been submitted\n",
      "Your job 1697167 (\"subread\") has been submitted\n",
      "Your job 1697168 (\"subread\") has been submitted\n",
      "Your job 1697169 (\"subread\") has been submitted\n",
      "Your job 1697170 (\"subread\") has been submitted\n",
      "Your job 1697171 (\"subread\") has been submitted\n",
      "Your job 1697172 (\"subread\") has been submitted\n",
      "Your job 1697173 (\"subread\") has been submitted\n",
      "Your job 1697174 (\"subread\") has been submitted\n",
      "Your job 1697175 (\"subread\") has been submitted\n",
      "Your job 1697176 (\"subread\") has been submitted\n",
      "Your job 1697177 (\"subread\") has been submitted\n",
      "Your job 1697178 (\"subread\") has been submitted\n",
      "Your job 1697179 (\"subread\") has been submitted\n",
      "Your job 1697180 (\"subread\") has been submitted\n",
      "Your job 1697181 (\"subread\") has been submitted\n",
      "Your job 1697182 (\"subread\") has been submitted\n",
      "Your job 1697183 (\"subread\") has been submitted\n",
      "Your job 1697184 (\"subread\") has been submitted\n",
      "Your job 1697185 (\"subread\") has been submitted\n"
     ]
    }
   ],
   "source": [
    "%%bash \n",
    "chmod +x callRsubread.sh\n",
    "./callRsubread.sh"
   ]
  },
  {
   "cell_type": "code",
   "execution_count": null,
   "metadata": {
    "collapsed": true
   },
   "outputs": [],
   "source": [
    "%%bash\n",
    "mkdir subReadLog\n",
    "mv subread.o* subReadLog/"
   ]
  },
  {
   "cell_type": "code",
   "execution_count": 9,
   "metadata": {
    "collapsed": true
   },
   "outputs": [],
   "source": [
    "folder = \"/ebio/abt3_projects/TwinsUK_viromes_Shao_Pei/tmp2/03_readsToDeRepContigs/\"\n",
    "fw = open(\"sortBam.list.txt\",'w')\n",
    "for bam in listdir(folder):\n",
    "    if bam[-3:]==\"bam\":\n",
    "        sample = bam.split('.')[0]\n",
    "        output = sample + \".sorted.bam\"\n",
    "        #fw.write(\"samtools sort -T tmp/\"+sample+\" -o \"+output+\" \"+bam+\"\\n\")\n",
    "        fw.write(\"samtools sort \"+folder+bam+\" > \"+folder+sample+\".sorted.bam\\n\")\n",
    "fw.close()"
   ]
  },
  {
   "cell_type": "code",
   "execution_count": 10,
   "metadata": {},
   "outputs": [
    {
     "name": "stdout",
     "output_type": "stream",
     "text": [
      "Your job 1697190 (\"sort\") has been submitted\n",
      "Your job 1697191 (\"sort\") has been submitted\n",
      "Your job 1697192 (\"sort\") has been submitted\n",
      "Your job 1697193 (\"sort\") has been submitted\n",
      "Your job 1697194 (\"sort\") has been submitted\n",
      "Your job 1697195 (\"sort\") has been submitted\n",
      "Your job 1697196 (\"sort\") has been submitted\n",
      "Your job 1697197 (\"sort\") has been submitted\n",
      "Your job 1697198 (\"sort\") has been submitted\n",
      "Your job 1697199 (\"sort\") has been submitted\n",
      "Your job 1697200 (\"sort\") has been submitted\n",
      "Your job 1697201 (\"sort\") has been submitted\n",
      "Your job 1697202 (\"sort\") has been submitted\n",
      "Your job 1697203 (\"sort\") has been submitted\n",
      "Your job 1697204 (\"sort\") has been submitted\n",
      "Your job 1697205 (\"sort\") has been submitted\n",
      "Your job 1697206 (\"sort\") has been submitted\n",
      "Your job 1697207 (\"sort\") has been submitted\n",
      "Your job 1697208 (\"sort\") has been submitted\n",
      "Your job 1697209 (\"sort\") has been submitted\n",
      "Your job 1697210 (\"sort\") has been submitted\n",
      "Your job 1697211 (\"sort\") has been submitted\n",
      "Your job 1697212 (\"sort\") has been submitted\n",
      "Your job 1697213 (\"sort\") has been submitted\n",
      "Your job 1697214 (\"sort\") has been submitted\n",
      "Your job 1697215 (\"sort\") has been submitted\n",
      "Your job 1697216 (\"sort\") has been submitted\n",
      "Your job 1697217 (\"sort\") has been submitted\n",
      "Your job 1697218 (\"sort\") has been submitted\n",
      "Your job 1697219 (\"sort\") has been submitted\n",
      "Your job 1697220 (\"sort\") has been submitted\n",
      "Your job 1697221 (\"sort\") has been submitted\n",
      "Your job 1697222 (\"sort\") has been submitted\n",
      "Your job 1697223 (\"sort\") has been submitted\n",
      "Your job 1697224 (\"sort\") has been submitted\n",
      "Your job 1697225 (\"sort\") has been submitted\n",
      "Your job 1697226 (\"sort\") has been submitted\n",
      "Your job 1697227 (\"sort\") has been submitted\n",
      "Your job 1697228 (\"sort\") has been submitted\n",
      "Your job 1697229 (\"sort\") has been submitted\n",
      "Your job 1697230 (\"sort\") has been submitted\n",
      "Your job 1697231 (\"sort\") has been submitted\n"
     ]
    }
   ],
   "source": [
    "%%bash\n",
    "cat sortBam.list.txt | while read -r line\n",
    "do\n",
    "    echo $line | qsub -N sort -l h_vmem=4G -l h_rt=01:00:00 -cwd \n",
    "done"
   ]
  },
  {
   "cell_type": "code",
   "execution_count": 11,
   "metadata": {},
   "outputs": [
    {
     "name": "stderr",
     "output_type": "stream",
     "text": [
      "mv: cannot move '/ebio/abt3_projects/TwinsUK_viromes_Shao_Pei/tmp2/03_readsToDeRepContigs/0.bamFiles' to a subdirectory of itself, '/ebio/abt3_projects/TwinsUK_viromes_Shao_Pei/tmp2/03_readsToDeRepContigs/0.bamFiles/0.bamFiles'\n"
     ]
    }
   ],
   "source": [
    "%%bash\n",
    "WORKDIR=/ebio/abt3_projects/TwinsUK_viromes_Shao_Pei/tmp2/03_readsToDeRepContigs\n",
    "#mkdir $WORKDIR/0.bamFiles\n",
    "mv $WORKDIR/*bam* $WORKDIR/0.bamFiles"
   ]
  },
  {
   "cell_type": "markdown",
   "metadata": {},
   "source": [
    "### Bam to Coverage  (files before cleaning). Skipped this time."
   ]
  },
  {
   "cell_type": "code",
   "execution_count": 47,
   "metadata": {
    "collapsed": true
   },
   "outputs": [],
   "source": [
    "fw = open(\"depth.beforeClean.sh\",'w')\n",
    "for bam in listdir('.'):\n",
    "    if \"sorted\" in bam:\n",
    "        coverage = bam.split('.')[0]+\".coverage\"\n",
    "        fw.write(\"samtools depth \"+bam+\" > \"+coverage+\"\\n\")\n",
    "fw.close()"
   ]
  },
  {
   "cell_type": "code",
   "execution_count": null,
   "metadata": {
    "collapsed": true
   },
   "outputs": [],
   "source": [
    "%%bash\n",
    "chmod +x depth.beforeClean.sh\n",
    "./depth.beforeClean.sh"
   ]
  },
  {
   "cell_type": "markdown",
   "metadata": {
    "collapsed": true
   },
   "source": [
    "### Remove reads from BAM (Cleaning)"
   ]
  },
  {
   "cell_type": "code",
   "execution_count": 12,
   "metadata": {
    "collapsed": true
   },
   "outputs": [],
   "source": [
    "fw = open(\"runFilterBam.list.txt\",\"w\")\n",
    "folder = \"/ebio/abt3_projects/TwinsUK_viromes_Shao_Pei/tmp2/03_readsToDeRepContigs/0.bamFiles/\"\n",
    "contaminantReadsFolder = \"/ebio/abt3_projects/TwinsUK_viromes_Shao_Pei/tmp/2_readsCleaning/9.readsForDepletion.bacteria/\"\n",
    "for bam in listdir(folder):\n",
    "    if \"sorted\" in bam:\n",
    "        sample = bam.split('.')[0]\n",
    "        print >> fw , \"picard-tools FilterSamReads I=\"+folder+bam+\" O=\"+folder+sample+\".clean.bam READ_LIST_FILE=\"+contaminantReadsFolder+sample+\".reads.contaminants.csv FILTER=excludeReadList\"\n",
    "fw.close()"
   ]
  },
  {
   "cell_type": "code",
   "execution_count": 13,
   "metadata": {},
   "outputs": [
    {
     "name": "stdout",
     "output_type": "stream",
     "text": [
      "Your job 1697232 (\"filter\") has been submitted\n",
      "Your job 1697233 (\"filter\") has been submitted\n",
      "Your job 1697234 (\"filter\") has been submitted\n",
      "Your job 1697235 (\"filter\") has been submitted\n",
      "Your job 1697236 (\"filter\") has been submitted\n",
      "Your job 1697237 (\"filter\") has been submitted\n",
      "Your job 1697238 (\"filter\") has been submitted\n",
      "Your job 1697239 (\"filter\") has been submitted\n",
      "Your job 1697240 (\"filter\") has been submitted\n",
      "Your job 1697241 (\"filter\") has been submitted\n",
      "Your job 1697242 (\"filter\") has been submitted\n",
      "Your job 1697243 (\"filter\") has been submitted\n",
      "Your job 1697244 (\"filter\") has been submitted\n",
      "Your job 1697245 (\"filter\") has been submitted\n",
      "Your job 1697246 (\"filter\") has been submitted\n",
      "Your job 1697247 (\"filter\") has been submitted\n",
      "Your job 1697248 (\"filter\") has been submitted\n",
      "Your job 1697249 (\"filter\") has been submitted\n",
      "Your job 1697250 (\"filter\") has been submitted\n",
      "Your job 1697251 (\"filter\") has been submitted\n",
      "Your job 1697252 (\"filter\") has been submitted\n",
      "Your job 1697253 (\"filter\") has been submitted\n",
      "Your job 1697254 (\"filter\") has been submitted\n",
      "Your job 1697255 (\"filter\") has been submitted\n",
      "Your job 1697256 (\"filter\") has been submitted\n",
      "Your job 1697257 (\"filter\") has been submitted\n",
      "Your job 1697258 (\"filter\") has been submitted\n",
      "Your job 1697259 (\"filter\") has been submitted\n",
      "Your job 1697260 (\"filter\") has been submitted\n",
      "Your job 1697261 (\"filter\") has been submitted\n",
      "Your job 1697262 (\"filter\") has been submitted\n",
      "Your job 1697263 (\"filter\") has been submitted\n",
      "Your job 1697264 (\"filter\") has been submitted\n",
      "Your job 1697265 (\"filter\") has been submitted\n",
      "Your job 1697266 (\"filter\") has been submitted\n",
      "Your job 1697267 (\"filter\") has been submitted\n",
      "Your job 1697268 (\"filter\") has been submitted\n",
      "Your job 1697269 (\"filter\") has been submitted\n",
      "Your job 1697270 (\"filter\") has been submitted\n",
      "Your job 1697271 (\"filter\") has been submitted\n",
      "Your job 1697272 (\"filter\") has been submitted\n",
      "Your job 1697273 (\"filter\") has been submitted\n",
      "Your job 1697274 (\"filter\") has been submitted\n",
      "Your job 1697275 (\"filter\") has been submitted\n",
      "Your job 1697276 (\"filter\") has been submitted\n",
      "Your job 1697277 (\"filter\") has been submitted\n",
      "Your job 1697278 (\"filter\") has been submitted\n",
      "Your job 1697279 (\"filter\") has been submitted\n",
      "Your job 1697280 (\"filter\") has been submitted\n",
      "Your job 1697281 (\"filter\") has been submitted\n",
      "Your job 1697282 (\"filter\") has been submitted\n",
      "Your job 1697283 (\"filter\") has been submitted\n",
      "Your job 1697284 (\"filter\") has been submitted\n",
      "Your job 1697285 (\"filter\") has been submitted\n",
      "Your job 1697286 (\"filter\") has been submitted\n",
      "Your job 1697287 (\"filter\") has been submitted\n",
      "Your job 1697288 (\"filter\") has been submitted\n",
      "Your job 1697289 (\"filter\") has been submitted\n",
      "Your job 1697290 (\"filter\") has been submitted\n",
      "Your job 1697291 (\"filter\") has been submitted\n",
      "Your job 1697292 (\"filter\") has been submitted\n",
      "Your job 1697293 (\"filter\") has been submitted\n",
      "Your job 1697294 (\"filter\") has been submitted\n",
      "Your job 1697295 (\"filter\") has been submitted\n",
      "Your job 1697296 (\"filter\") has been submitted\n",
      "Your job 1697297 (\"filter\") has been submitted\n",
      "Your job 1697298 (\"filter\") has been submitted\n",
      "Your job 1697299 (\"filter\") has been submitted\n",
      "Your job 1697300 (\"filter\") has been submitted\n",
      "Your job 1697301 (\"filter\") has been submitted\n",
      "Your job 1697302 (\"filter\") has been submitted\n",
      "Your job 1697303 (\"filter\") has been submitted\n",
      "Your job 1697304 (\"filter\") has been submitted\n",
      "Your job 1697305 (\"filter\") has been submitted\n",
      "Your job 1697306 (\"filter\") has been submitted\n",
      "Your job 1697307 (\"filter\") has been submitted\n",
      "Your job 1697308 (\"filter\") has been submitted\n",
      "Your job 1697309 (\"filter\") has been submitted\n",
      "Your job 1697310 (\"filter\") has been submitted\n",
      "Your job 1697311 (\"filter\") has been submitted\n",
      "Your job 1697312 (\"filter\") has been submitted\n",
      "Your job 1697313 (\"filter\") has been submitted\n",
      "Your job 1697314 (\"filter\") has been submitted\n",
      "Your job 1697315 (\"filter\") has been submitted\n"
     ]
    }
   ],
   "source": [
    "%%bash\n",
    "cat runFilterBam.list.txt | while read -r line\n",
    "do\n",
    "    echo $line | qsub -N filter -l h_vmem=8G -l h_rt=01:00:00 -cwd\n",
    "done"
   ]
  },
  {
   "cell_type": "markdown",
   "metadata": {},
   "source": [
    "### Map to coverage list"
   ]
  },
  {
   "cell_type": "code",
   "execution_count": 14,
   "metadata": {
    "collapsed": true
   },
   "outputs": [],
   "source": [
    "fw = open(\"depth.afterClean.sh\",'w')\n",
    "folder = \"/ebio/abt3_projects/TwinsUK_viromes_Shao_Pei/tmp2/03_readsToDeRepContigs/0.bamFiles/\"\n",
    "for bam in listdir(folder):\n",
    "    if \"clean.bam\" in bam:\n",
    "        coverage = bam.replace(\".bam\",\".coverage\")\n",
    "        fw.write(\"samtools depth \"+folder+bam+\" > \"+folder+coverage+\"\\n\")\n",
    "fw.close()"
   ]
  },
  {
   "cell_type": "code",
   "execution_count": 15,
   "metadata": {},
   "outputs": [
    {
     "name": "stdout",
     "output_type": "stream",
     "text": [
      "Your job 1697318 (\"map2coverage\") has been submitted\n",
      "Your job 1697319 (\"map2coverage\") has been submitted\n",
      "Your job 1697320 (\"map2coverage\") has been submitted\n",
      "Your job 1697321 (\"map2coverage\") has been submitted\n",
      "Your job 1697322 (\"map2coverage\") has been submitted\n",
      "Your job 1697323 (\"map2coverage\") has been submitted\n",
      "Your job 1697324 (\"map2coverage\") has been submitted\n",
      "Your job 1697325 (\"map2coverage\") has been submitted\n",
      "Your job 1697326 (\"map2coverage\") has been submitted\n",
      "Your job 1697327 (\"map2coverage\") has been submitted\n",
      "Your job 1697328 (\"map2coverage\") has been submitted\n",
      "Your job 1697329 (\"map2coverage\") has been submitted\n",
      "Your job 1697330 (\"map2coverage\") has been submitted\n",
      "Your job 1697331 (\"map2coverage\") has been submitted\n",
      "Your job 1697332 (\"map2coverage\") has been submitted\n",
      "Your job 1697333 (\"map2coverage\") has been submitted\n",
      "Your job 1697334 (\"map2coverage\") has been submitted\n",
      "Your job 1697335 (\"map2coverage\") has been submitted\n",
      "Your job 1697336 (\"map2coverage\") has been submitted\n",
      "Your job 1697337 (\"map2coverage\") has been submitted\n",
      "Your job 1697338 (\"map2coverage\") has been submitted\n",
      "Your job 1697339 (\"map2coverage\") has been submitted\n",
      "Your job 1697340 (\"map2coverage\") has been submitted\n",
      "Your job 1697341 (\"map2coverage\") has been submitted\n",
      "Your job 1697342 (\"map2coverage\") has been submitted\n",
      "Your job 1697343 (\"map2coverage\") has been submitted\n",
      "Your job 1697344 (\"map2coverage\") has been submitted\n",
      "Your job 1697345 (\"map2coverage\") has been submitted\n",
      "Your job 1697346 (\"map2coverage\") has been submitted\n",
      "Your job 1697347 (\"map2coverage\") has been submitted\n",
      "Your job 1697348 (\"map2coverage\") has been submitted\n",
      "Your job 1697349 (\"map2coverage\") has been submitted\n",
      "Your job 1697350 (\"map2coverage\") has been submitted\n",
      "Your job 1697351 (\"map2coverage\") has been submitted\n",
      "Your job 1697352 (\"map2coverage\") has been submitted\n",
      "Your job 1697353 (\"map2coverage\") has been submitted\n",
      "Your job 1697354 (\"map2coverage\") has been submitted\n",
      "Your job 1697355 (\"map2coverage\") has been submitted\n",
      "Your job 1697356 (\"map2coverage\") has been submitted\n",
      "Your job 1697357 (\"map2coverage\") has been submitted\n",
      "Your job 1697358 (\"map2coverage\") has been submitted\n",
      "Your job 1697359 (\"map2coverage\") has been submitted\n"
     ]
    }
   ],
   "source": [
    "%%bash\n",
    "cat depth.afterClean.sh | while read -r line\n",
    "do\n",
    "    echo $line | qsub -N map2coverage -l h_vmem=4G -l h_rt=01:00:00 -cwd\n",
    "done"
   ]
  },
  {
   "cell_type": "code",
   "execution_count": 16,
   "metadata": {
    "collapsed": true
   },
   "outputs": [],
   "source": [
    "%%bash\n",
    "mkdir /ebio/abt3_projects/TwinsUK_viromes_Shao_Pei/tmp2/03_readsToDeRepContigs/1.coverageFiles.afterClean\n",
    "mv /ebio/abt3_projects/TwinsUK_viromes_Shao_Pei/tmp2/03_readsToDeRepContigs/0.bamFiles/*clean.coverage /ebio/abt3_projects/TwinsUK_viromes_Shao_Pei/tmp2/03_readsToDeRepContigs/1.coverageFiles.afterClean"
   ]
  },
  {
   "cell_type": "code",
   "execution_count": 57,
   "metadata": {
    "collapsed": true
   },
   "outputs": [],
   "source": [
    "#This was not run this time\n",
    "%%bash\n",
    "\n",
    "mkdir beforeClean\n",
    "mv *.coverage beforeClean\n",
    "\n",
    "mv bamFiles/ 0.bamFiles\n",
    "mv beforeClean/ 1.coverageFiles.beforeClean\n",
    "mv afterClean/ 2.coverageFiles.afterClean"
   ]
  }
 ],
 "metadata": {
  "kernelspec": {
   "display_name": "Python 2",
   "language": "python",
   "name": "python2"
  },
  "language_info": {
   "codemirror_mode": {
    "name": "ipython",
    "version": 2
   },
   "file_extension": ".py",
   "mimetype": "text/x-python",
   "name": "python",
   "nbconvert_exporter": "python",
   "pygments_lexer": "ipython2",
   "version": "2.7.13"
  }
 },
 "nbformat": 4,
 "nbformat_minor": 2
}
