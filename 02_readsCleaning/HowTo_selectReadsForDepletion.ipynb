{
 "cells": [
  {
   "cell_type": "code",
   "execution_count": 18,
   "metadata": {
    "collapsed": true
   },
   "outputs": [],
   "source": [
    "import numpy as np\n",
    "import pandas as pd\n",
    "\n",
    "from os import listdir\n",
    "import pysam\n"
   ]
  },
  {
   "cell_type": "code",
   "execution_count": null,
   "metadata": {
    "collapsed": true
   },
   "outputs": [],
   "source": [
    "#Generate bam indexes\n",
    "%%bash\n",
    "cd 4.q20Files.bacteria/\n",
    "parallel samtools index ::: *.bam"
   ]
  },
  {
   "cell_type": "code",
   "execution_count": 114,
   "metadata": {},
   "outputs": [],
   "source": [
    "def getReadsMatchingContaminats(contaminants,sample):\n",
    "    folder = \"4.q20Files.bacteria/\"\n",
    "    readsContaminants = []\n",
    "    for bam in listdir(folder):\n",
    "        if sample in bam and bam[-3:]==\"bam\":\n",
    "            bamFile = pysam.AlignmentFile(folder+bam, \"rb\")\n",
    "            for reference in (set(contaminants)&set(bamFile.references)):            \n",
    "                for read in bamFile.fetch(reference):\n",
    "                    readsContaminants.append(read.qname) \n",
    "            bamFile.close()\n",
    "    return readsContaminants"
   ]
  },
  {
   "cell_type": "code",
   "execution_count": 115,
   "metadata": {},
   "outputs": [],
   "source": [
    "#parse matrix to a dict of prophage regions (values) per reference (key)\n",
    "def parseRegionsMatrix(prophages):\n",
    "    prophagesDict = {}\n",
    "    for index,row in prophages.iterrows():\n",
    "        regions = row[row>0]\n",
    "        if regions.shape[0] > 0:\n",
    "            prophagesDict[regions.name] = list(regions.index)\n",
    "    return prophagesDict"
   ]
  },
  {
   "cell_type": "code",
   "execution_count": 116,
   "metadata": {},
   "outputs": [],
   "source": [
    "def getReadsMatchingProphagesRegions(sample,prophagesDict):\n",
    "    folder = \"4.q20Files.bacteria/\"\n",
    "    readsProphages = []\n",
    "    for bam in listdir(folder):\n",
    "        if sample in bam and bam[-3:]==\"bam\":\n",
    "            bamFile = pysam.AlignmentFile(folder+bam,\"rb\")\n",
    "            for reference in (set(prophagesDict.keys()) & set(bamFile.references)):\n",
    "                for region in prophagesDict[reference]:\n",
    "                    regionEnd = int(region)*100000\n",
    "                    regionStart = regionEnd - 100000\n",
    "                    for read in bamFile.fetch(reference,start=regionStart,end=regionEnd):\n",
    "                        readsProphages.append(read.qname)\n",
    "            bamFile.close()\n",
    "    return readsProphages"
   ]
  },
  {
   "cell_type": "code",
   "execution_count": 118,
   "metadata": {},
   "outputs": [],
   "source": [
    "folder = \"8.contaminants.bacteria/\"\n",
    "for fileName in listdir(folder):\n",
    "    if \"contaminants.names.csv\" in fileName:\n",
    "        sample = fileName.replace(\"contaminants\",\"\").split(\".\")[0]\n",
    "        \n",
    "        contaminants = list(pd.read_csv(folder+fileName,header=None)[0])\n",
    "        readsContaminants = getReadsMatchingContaminats(contaminants,sample)\n",
    "\n",
    "        prophages = pd.read_csv(folder+sample+\"prophages.csv\",header=0,index_col=0,sep='\\t')\n",
    "        prophagesDict = parseRegionsMatrix(prophages)\n",
    "        readsProphages = getReadsMatchingProphagesRegions(sample,prophagesDict)\n",
    "\n",
    "        readsContaminants = np.array(list(set(readsContaminants) - set(readsProphages)))\n",
    "        readsProphages = np.array(readsProphages)\n",
    "\n",
    "        np.savetxt(sample+\".reads.contaminants.csv\",readsContaminants,delimiter='\\n',fmt='%s')\n",
    "        np.savetxt(sample+\".reads.prophages.csv\",readsProphages,delimiter='\\n',fmt='%s')"
   ]
  },
  {
   "cell_type": "code",
   "execution_count": 119,
   "metadata": {},
   "outputs": [],
   "source": [
    "%%bash\n",
    "mkdir 9.readsForDepletion.bacteria\n",
    "mv *.reads.contaminants.csv 9.readsForDepletion.bacteria\n",
    "mv *.reads.prophages.csv 9.readsForDepletion.bacteria"
   ]
  },
  {
   "cell_type": "code",
   "execution_count": null,
   "metadata": {
    "collapsed": true
   },
   "outputs": [],
   "source": [
    "picard-tools FilterSamReads I=Ab1.bam O=Ab1.clean.bam READ_LIST_FILE=../2_readsCleaning/Ab1.reads.test.txt FILTER=excludeReadList"
   ]
  }
 ],
 "metadata": {
  "kernelspec": {
   "display_name": "Python 2",
   "language": "python",
   "name": "python2"
  },
  "language_info": {
   "codemirror_mode": {
    "name": "ipython",
    "version": 2
   },
   "file_extension": ".py",
   "mimetype": "text/x-python",
   "name": "python",
   "nbconvert_exporter": "python",
   "pygments_lexer": "ipython2",
   "version": "2.7.13"
  }
 },
 "nbformat": 4,
 "nbformat_minor": 2
}
