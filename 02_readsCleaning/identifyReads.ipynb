{
 "cells": [
  {
   "cell_type": "code",
   "execution_count": 6,
   "metadata": {
    "collapsed": true
   },
   "outputs": [],
   "source": [
    "import numpy as np\n",
    "import pandas as pd\n",
    "from os import listdir"
   ]
  },
  {
   "cell_type": "code",
   "execution_count": 3,
   "metadata": {
    "collapsed": true,
    "scrolled": true
   },
   "outputs": [],
   "source": [
    "def findReads(sampleName,sample):\n",
    "    allReads = []\n",
    "    for mappingFile in listdir(\"../4.bam2bed/\"):\n",
    "        if sampleName in mappingFile:\n",
    "            mappingFile = \"../4.bam2bed/\" + mappingFile\n",
    "            mappingFile = pd.read_csv(mappingFile,sep=\"\\t\", index_col=0, header=None)\n",
    "            reads = pd.merge(left=mappingFile,right=sample,left_index=True,right_index=True,how=\"inner\")\n",
    "            if reads.shape[0]>0:\n",
    "                allReads.append(reads)\n",
    "    return pd.concat(allReads)"
   ]
  },
  {
   "cell_type": "code",
   "execution_count": 27,
   "metadata": {
    "collapsed": true
   },
   "outputs": [],
   "source": [
    "def getProphages(allReads):\n",
    "    ppp = allReads[allReads[\"phageZscore\"]>0] #ppp = posible prophages\n",
    "    prophages = []\n",
    "    for x in allReads.columns.values[5:-1]:\n",
    "        ppp1 = ppp[ppp[x]>0]\n",
    "        regionStart = int(x)*100000\n",
    "        regionEnd = regionStart + 100000\n",
    "        ppp2 = ppp1[ppp1[1] > regionStart]\n",
    "        pp = ppp2[ppp2[1] < regionEnd] #pp = proPhage\n",
    "        prophages.append(pp)\n",
    "    if len(prophages)>0:\n",
    "        return pd.concat(prophages)\n",
    "    else:\n",
    "        return 0"
   ]
  },
  {
   "cell_type": "code",
   "execution_count": 30,
   "metadata": {
    "collapsed": true
   },
   "outputs": [],
   "source": [
    "sample = pd.read_csv(\"../testIdentifyGenomesAndRegions/C1.prophagesRegions.csv\",sep=\"\\t\",index_col=0)\n",
    "sampleName = \"C1\""
   ]
  },
  {
   "cell_type": "code",
   "execution_count": 31,
   "metadata": {},
   "outputs": [
    {
     "data": {
      "text/html": [
       "<div>\n",
       "<table border=\"1\" class=\"dataframe\">\n",
       "  <thead>\n",
       "    <tr style=\"text-align: right;\">\n",
       "      <th></th>\n",
       "    </tr>\n",
       "  </thead>\n",
       "  <tbody>\n",
       "  </tbody>\n",
       "</table>\n",
       "</div>"
      ],
      "text/plain": [
       "Empty DataFrame\n",
       "Columns: []\n",
       "Index: []"
      ]
     },
     "execution_count": 31,
     "metadata": {},
     "output_type": "execute_result"
    }
   ],
   "source": [
    "sample.head()"
   ]
  },
  {
   "cell_type": "code",
   "execution_count": 28,
   "metadata": {
    "collapsed": true
   },
   "outputs": [],
   "source": [
    "allReads = findReads(sampleName, sample)\n",
    "allReads[\"phageZscore\"] = allReads[allReads.columns.values[5:]].sum(axis=1)\n",
    "prophages = getProphages(allReads)\n",
    "if prophages != 0:\n",
    "    bacteria = allReads.merge(prophages, indicator=True, how=\"outer\")\n",
    "    bacteria = bacteria[bacteria[\"_merge\"] == \"left_only\"]\n",
    "\n",
    "    out1 = sampleName + \".bacteria.csv\"\n",
    "    bacteria.to_csv(out1,sep='\\t')\n",
    "\n",
    "    out2 = sampleName + \".prophages.csv\"\n",
    "    prophages.to_csv(out2,sep='\\t')\n",
    "else:\n",
    "    bacteria = allReads\n",
    "    out1 = sampleName + \".bacteria.csv\"\n",
    "    bacteria.to_csv(out1,sep='\\t')"
   ]
  }
 ],
 "metadata": {
  "kernelspec": {
   "display_name": "Python 2",
   "language": "python",
   "name": "python2"
  },
  "language_info": {
   "codemirror_mode": {
    "name": "ipython",
    "version": 2
   },
   "file_extension": ".py",
   "mimetype": "text/x-python",
   "name": "python",
   "nbconvert_exporter": "python",
   "pygments_lexer": "ipython2",
   "version": "2.7.13"
  }
 },
 "nbformat": 4,
 "nbformat_minor": 2
}
