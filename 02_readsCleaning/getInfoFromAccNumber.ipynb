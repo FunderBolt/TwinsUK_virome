{
 "cells": [
  {
   "cell_type": "code",
   "execution_count": 1,
   "metadata": {
    "collapsed": true
   },
   "outputs": [],
   "source": [
    "from Bio import Entrez"
   ]
  },
  {
   "cell_type": "code",
   "execution_count": 3,
   "metadata": {
    "collapsed": true
   },
   "outputs": [],
   "source": [
    "contaminants = []\n",
    "fr = open(\"contaminants.accessions.txt\")\n",
    "for line in fr:\n",
    "    contaminants.append(line.strip('\\n'))\n",
    "fr.close()"
   ]
  },
  {
   "cell_type": "code",
   "execution_count": 5,
   "metadata": {},
   "outputs": [
    {
     "name": "stdout",
     "output_type": "stream",
     "text": [
      "10\n",
      "20\n",
      "30\n",
      "40\n",
      "50\n",
      "60\n",
      "70\n",
      "80\n",
      "90\n",
      "100\n",
      "110\n"
     ]
    }
   ],
   "source": [
    "Entrez.email = \"jmoreno@tuebingen.mpg.de\"\n",
    "genomes = {}\n",
    "\n",
    "for genome in contaminants:\n",
    "    handle = Entrez.efetch(db=\"nucleotide\", id=genome, rettype=\"gb\", retmode=\"xml\")\n",
    "    record = Entrez.read(handle)\n",
    "    genomes[genome] = [record[0][\"GBSeq_organism\"],record[0][\"GBSeq_length\"],record[0][\"GBSeq_taxonomy\"]]\n",
    "    handle.close()"
   ]
  },
  {
   "cell_type": "code",
   "execution_count": 8,
   "metadata": {},
   "outputs": [
    {
     "name": "stdout",
     "output_type": "stream",
     "text": [
      "CP009057.1\t['Bacteroides dorei', '5444912', 'Bacteria; Bacteroidetes; Bacteroidia; Bacteroidales; Bacteroidaceae; Bacteroides']\n",
      "CP000139.1\t['Bacteroides vulgatus ATCC 8482', '5163189', 'Bacteria; Bacteroidetes; Bacteroidia; Bacteroidales; Bacteroidaceae; Bacteroides']\n",
      "CP013020.1\t['Bacteroides vulgatus', '5165891', 'Bacteria; Bacteroidetes; Bacteroidia; Bacteroidales; Bacteroidaceae; Bacteroides']\n",
      "FP929051.1\t['Ruminococcus bromii L2-63', '2249085', 'Bacteria; Firmicutes; Clostridia; Clostridiales; Ruminococcaceae; Ruminococcus']\n",
      "CP011531.1\t['Bacteroides dorei CL03T12C01', '5310365', 'Bacteria; Bacteroidetes; Bacteroidia; Bacteroidales; Bacteroidaceae; Bacteroides']\n",
      "FP929046.1\t['Faecalibacterium prausnitzii SL3/3', '3214418', 'Bacteria; Firmicutes; Clostridia; Clostridiales; Ruminococcaceae; Faecalibacterium']\n",
      "FP929045.1\t['Faecalibacterium prausnitzii L2-6', '3321367', 'Bacteria; Firmicutes; Clostridia; Clostridiales; Ruminococcaceae; Faecalibacterium']\n",
      "FP929033.1\t['Bacteroides xylanisolvens XB1A', '5976145', 'Bacteria; Bacteroidetes; Bacteroidia; Bacteroidales; Bacteroidaceae; Bacteroides']\n",
      "CP002544.1\t['Odoribacter splanchnicus DSM 20712', '4392288', 'Bacteria; Bacteroidetes; Bacteroidia; Bacteroidales; Odoribacteraceae; Odoribacter']\n",
      "CP015401.1\t['Bacteroides caecimuris', '4839918', 'Bacteria; Bacteroidetes; Bacteroidia; Bacteroidales; Bacteroidaceae; Bacteroides']\n",
      "LT622246.1\t['Bacteroides ovatus V975', '6475296', 'Bacteria; Bacteroidetes; Bacteroidia; Bacteroidales; Bacteroidaceae; Bacteroides']\n",
      "CP012938.1\t['Bacteroides ovatus', '6472489', 'Bacteria; Bacteroidetes; Bacteroidia; Bacteroidales; Bacteroidaceae; Bacteroides']\n",
      "CP013476.1\t['Turicibacter sp. H121', '2622031', 'Bacteria; Firmicutes; Erysipelotrichia; Erysipelotrichales; Erysipelotrichaceae; Turicibacter']\n",
      "AE015928.1\t['Bacteroides thetaiotaomicron VPI-5482', '6260361', 'Bacteria; Bacteroidetes; Bacteroidia; Bacteroidales; Bacteroidaceae; Bacteroides']\n",
      "CP003274.1\t['Alistipes finegoldii DSM 17242', '3734239', 'Bacteria; Bacteroidetes; Bacteroidia; Bacteroidales; Rikenellaceae; Alistipes']\n",
      "CP012937.1\t['Bacteroides thetaiotaomicron', '6487685', 'Bacteria; Bacteroidetes; Bacteroidia; Bacteroidales; Bacteroidaceae; Bacteroides']\n",
      "CP012801.1\t['Bacteroides cellulosilyticus', '7084828', 'Bacteria; Bacteroidetes; Bacteroidia; Bacteroidales; Bacteroidaceae; Bacteroides']\n",
      "HF545616.1\t['Ruminococcus bicirculans', '2240877', 'Bacteria; Firmicutes; Clostridia; Clostridiales; Ruminococcaceae; Ruminococcus']\n",
      "CP011073.1\t['Bacteroides fragilis', '5282232', 'Bacteria; Bacteroidetes; Bacteroidia; Bacteroidales; Bacteroidaceae; Bacteroides']\n",
      "FP929044.1\t['[Eubacterium] siraeum 70/3', '2943413', 'Bacteria; Firmicutes; Clostridia; Clostridiales; Ruminococcaceae; Ruminiclostridium']\n",
      "CR626927.1\t['Bacteroides fragilis NCTC 9343', '5205140', 'Bacteria; Bacteroidetes; Bacteroidia; Bacteroidales; Bacteroidaceae; Bacteroides']\n",
      "FP929032.1\t['Alistipes shahii WAL 8301', '3763317', 'Bacteria; Bacteroidetes; Bacteroidia; Bacteroidales; Rikenellaceae; Alistipes']\n",
      "HF545617.1\t['Ruminococcus bicirculans', '727623', 'Bacteria; Firmicutes; Clostridia; Clostridiales; Ruminococcaceae; Ruminococcus']\n",
      "CP000140.1\t['Parabacteroides distasonis ATCC 8503', '4811379', 'Bacteria; Bacteroidetes; Bacteroidia; Bacteroidales; Tannerellaceae; Parabacteroides']\n",
      "CP001107.1\t['[Eubacterium] rectale ATCC 33656', '3449685', 'Bacteria; Firmicutes; Clostridia; Clostridiales; Lachnospiraceae']\n",
      "FQ312004.1\t['Bacteroides fragilis 638R', '5373121', 'Bacteria; Bacteroidetes; Bacteroidia; Bacteroidales; Bacteroidaceae; Bacteroides']\n",
      "CP012706.1\t['Bacteroides fragilis', '4902215', 'Bacteria; Bacteroidetes; Bacteroidia; Bacteroidales; Bacteroidaceae; Bacteroides']\n",
      "AP006841.1\t['Bacteroides fragilis YCH46', '5277274', 'Bacteria; Bacteroidetes; Bacteroidia; Bacteroidales; Bacteroidaceae; Bacteroides']\n",
      "LN877293.1\t['Bacteroides fragilis', '5188967', 'Bacteria; Bacteroidetes; Bacteroidia; Bacteroidales; Bacteroidaceae; Bacteroides']\n",
      "CP001104.1\t['[Eubacterium] eligens ATCC 27750', '2144190', 'Bacteria; Firmicutes; Clostridia; Clostridiales; Eubacteriaceae; Eubacterium']\n",
      "CP014067.1\t['Enterococcus sp. FDAARGOS_163', '3733228', 'Bacteria; Firmicutes; Bacilli; Lactobacillales; Enterococcaceae; Enterococcus']\n",
      "CP002352.1\t['Bacteroides helcogenes P 36-108', '3998906', 'Bacteria; Bacteroidetes; Bacteroidia; Bacteroidales; Bacteroidaceae; Bacteroides']\n",
      "FP929059.1\t['[Eubacterium] siraeum V10Sc8a', '2836123', 'Bacteria; Firmicutes; Clostridia; Clostridiales; Ruminococcaceae; Ruminiclostridium']\n",
      "CP008741.1\t['Bacteroides dorei', '5243219', 'Bacteria; Bacteroidetes; Bacteroidia; Bacteroidales; Bacteroidaceae; Bacteroides']\n",
      "CP007619.1\t['Bacteroides dorei', '5729085', 'Bacteria; Bacteroidetes; Bacteroidia; Bacteroidales; Bacteroidaceae; Bacteroides']\n",
      "CP004856.1\t['Enterococcus casseliflavus EC20', '3427276', 'Bacteria; Firmicutes; Bacilli; Lactobacillales; Enterococcaceae; Enterococcus']\n",
      "CP007496.1\t['Candidatus Saccharibacteria oral taxon TM7x', '705138', 'Bacteria; Candidatus Saccharibacteria']\n",
      "CP001071.1\t['Akkermansia muciniphila ATCC BAA-835', '2664102', 'Bacteria; Verrucomicrobia; Verrucomicrobiae; Verrucomicrobiales; Akkermansiaceae; Akkermansia']\n",
      "FP929042.1\t['[Eubacterium] rectale DSM 17629', '3344951', 'Bacteria; Firmicutes; Clostridia; Clostridiales; Lachnospiraceae']\n",
      "CP015409.1\t['Akkermansia muciniphila', '2745273', 'Bacteria; Verrucomicrobia; Verrucomicrobiae; Verrucomicrobiales; Akkermansiaceae; Akkermansia']\n",
      "CP002010.1\t['Bifidobacterium longum subsp. longum JDM301', '2477838', 'Bacteria; Actinobacteria; Bifidobacteriales; Bifidobacteriaceae; Bifidobacterium']\n",
      "FP929039.1\t['Coprococcus sp. ART55/1', '3123007', 'Bacteria; Firmicutes; Clostridia; Clostridiales; Lachnospiraceae; Coprococcus']\n",
      "CP008885.1\t['Bifidobacterium longum', '2480603', 'Bacteria; Actinobacteria; Bifidobacteriales; Bifidobacteriaceae; Bifidobacterium']\n",
      "CP012020.1\t['Methylophilus sp. TWE2', '3079044', 'Bacteria; Proteobacteria; Betaproteobacteria; Nitrosomonadales; Methylophilaceae; Methylophilus']\n",
      "CM002287.1\t['Bifidobacterium longum E18', '2372966', 'Bacteria; Actinobacteria; Bifidobacteriales; Bifidobacteriaceae; Bifidobacterium']\n",
      "FQ312002.1\t['Haemophilus parainfluenzae T3T1', '2086875', 'Bacteria; Proteobacteria; Gammaproteobacteria; Pasteurellales; Pasteurellaceae; Haemophilus']\n",
      "CM001194.1\t['Acinetobacter lwoffii WJ10621', '3184320', 'Bacteria; Proteobacteria; Gammaproteobacteria; Pseudomonadales; Moraxellaceae; Acinetobacter']\n",
      "CP003737.1\t['Enterobacter cloacae subsp. cloacae ENHKU01', '4726582', 'Bacteria; Proteobacteria; Gammaproteobacteria; Enterobacterales; Enterobacteriaceae; Enterobacter; Enterobacter cloacae complex']\n",
      "CP003040.1\t['Roseburia hominis A2-183', '3592125', 'Bacteria; Firmicutes; Clostridia; Clostridiales; Lachnospiraceae; Roseburia']\n",
      "FP929043.1\t['[Eubacterium] rectale M104/1', '3698419', 'Bacteria; Firmicutes; Clostridia; Clostridiales; Lachnospiraceae']\n",
      "AP010889.1\t['Bifidobacterium longum subsp. infantis ATCC 15697 = JCM 1222 = DSM 20088', '2828958', 'Bacteria; Actinobacteria; Bifidobacteriales; Bifidobacteriaceae; Bifidobacterium']\n",
      "CP015406.1\t['Flavonifractor plautii', '3818500', 'Bacteria; Firmicutes; Clostridia; Clostridiales; Flavonifractor']\n",
      "CP009761.1\t['Parvimonas micra', '1627009', 'Bacteria; Firmicutes; Tissierellia; Tissierellales; Peptoniphilaceae; Parvimonas']\n",
      "LT629712.1\t['Bifidobacterium longum', '2392976', 'Bacteria; Actinobacteria; Bifidobacteriales; Bifidobacteriaceae; Bifidobacterium']\n",
      "CP001095.1\t['Bifidobacterium longum subsp. infantis ATCC 15697 = JCM 1222 = DSM 20088', '2832748', 'Bacteria; Actinobacteria; Bifidobacteriales; Bifidobacteriaceae; Bifidobacterium']\n",
      "FP929062.1\t['butyrate-producing bacterium SS3/4', '3601020', 'Bacteria; Firmicutes; Clostridia; Clostridiales']\n",
      "CP010350.1\t['Acinetobacter johnsonii XBB1', '3509795', 'Bacteria; Proteobacteria; Gammaproteobacteria; Pseudomonadales; Moraxellaceae; Acinetobacter']\n",
      "CP010978.1\t['Pelosinus fermentans JBW45', '5380816', 'Bacteria; Firmicutes; Negativicutes; Selenomonadales; Sporomusaceae; Pelosinus']\n",
      "CP014280.1\t['Enterobacter cloacae', '4801156', 'Bacteria; Proteobacteria; Gammaproteobacteria; Enterobacterales; Enterobacteriaceae; Enterobacter; Enterobacter cloacae complex']\n",
      "CP007546.1\t['Enterobacter asburiae L1', '4561905', 'Bacteria; Proteobacteria; Gammaproteobacteria; Enterobacterales; Enterobacteriaceae; Enterobacter; Enterobacter cloacae complex']\n",
      "CP015227.1\t['Enterobacter sp. ODB01', '4534036', 'Bacteria; Proteobacteria; Gammaproteobacteria; Enterobacterales; Enterobacteriaceae; Enterobacter']\n",
      "CP000574.1\t['Leuconostoc mesenteroides KFRI-MG', '1896413', 'Bacteria; Firmicutes; Bacilli; Lactobacillales; Leuconostocaceae; Leuconostoc']\n",
      "AP009256.1\t['Bifidobacterium adolescentis ATCC 15703', '2089645', 'Bacteria; Actinobacteria; Bifidobacteriales; Bifidobacteriaceae; Bifidobacterium']\n",
      "CP003403.1\t['Rahnella aquatilis HX2', '4962173', 'Bacteria; Proteobacteria; Gammaproteobacteria; Enterobacterales; Yersiniaceae; Rahnella']\n",
      "CP011591.1\t['Enterobacter asburiae', '4753402', 'Bacteria; Proteobacteria; Gammaproteobacteria; Enterobacterales; Enterobacteriaceae; Enterobacter; Enterobacter cloacae complex']\n",
      "CP012009.1\t['Leuconostoc mesenteroides subsp. dextranicum', '1818633', 'Bacteria; Firmicutes; Bacilli; Lactobacillales; Leuconostocaceae; Leuconostoc']\n",
      "CP014643.1\t['Lysinibacillus sphaericus', '4665575', 'Bacteria; Firmicutes; Bacilli; Bacillales; Bacillaceae; Lysinibacillus']\n",
      "CP002340.1\t['Streptococcus thermophilus ND03', '1831949', 'Bacteria; Firmicutes; Bacilli; Lactobacillales; Streptococcaceae; Streptococcus']\n",
      "FR873482.1\t['Streptococcus salivarius JIM8777', '2210574', 'Bacteria; Firmicutes; Bacilli; Lactobacillales; Streptococcaceae; Streptococcus']\n",
      "CP017245.1\t['Candidatus Melainabacteria bacterium MEL.A1', '1867336', 'Bacteria; Candidatus Melainabacteria; unclassified Melainabacteria']\n",
      "LT160614.1\t['Enterobacter cloacae', '5159348', 'Bacteria; Proteobacteria; Gammaproteobacteria; Enterobacterales; Enterobacteriaceae; Enterobacter; Enterobacter cloacae complex']\n",
      "LT630003.1\t['[Clostridium] sphenoides JCM 1415', '5300235', 'Bacteria; Firmicutes; Clostridia; Clostridiales; Lachnospiraceae']\n",
      "CP012608.1\t['Acinetobacter sp. TTH0-4', '2962453', 'Bacteria; Proteobacteria; Gammaproteobacteria; Pseudomonadales; Moraxellaceae; Acinetobacter']\n",
      "CP001918.1\t['Enterobacter cloacae subsp. cloacae ATCC 13047', '5314581', 'Bacteria; Proteobacteria; Gammaproteobacteria; Enterobacterales; Enterobacteriaceae; Enterobacter; Enterobacter cloacae complex']\n",
      "CP016394.1\t['Streptococcus thermophilus', '1869510', 'Bacteria; Firmicutes; Bacilli; Lactobacillales; Streptococcaceae; Streptococcus']\n",
      "CP014610.1\t['Leuconostoc mesenteroides subsp. mesenteroides', '1986568', 'Bacteria; Firmicutes; Bacilli; Lactobacillales; Leuconostocaceae; Leuconostoc']\n",
      "CP011536.1\t['Lactobacillus fermentum 3872', '2297851', 'Bacteria; Firmicutes; Bacilli; Lactobacillales; Lactobacillaceae; Lactobacillus']\n",
      "CP014787.1\t['Lactobacillus oris', '3171194', 'Bacteria; Firmicutes; Bacilli; Lactobacillales; Lactobacillaceae; Lactobacillus']\n",
      "CP012588.1\t['Streptococcus thermophilus', '1876516', 'Bacteria; Firmicutes; Bacilli; Lactobacillales; Streptococcaceae; Streptococcus']\n",
      "CP013101.1\t['Clostridium perfringens', '3343822', 'Bacteria; Firmicutes; Clostridia; Clostridiales; Clostridiaceae; Clostridium']\n",
      "CP013196.1\t['Clostridioides difficile', '4298263', 'Bacteria; Firmicutes; Clostridia; Clostridiales; Peptostreptococcaceae; Clostridioides']\n",
      "CP002888.1\t['Streptococcus salivarius 57.I', '2138805', 'Bacteria; Firmicutes; Bacilli; Lactobacillales; Streptococcaceae; Streptococcus']\n",
      "CP002530.1\t['Bacteroides salanitronis DSM 18170', '4242803', 'Bacteria; Bacteroidetes; Bacteroidia; Bacteroidales; Bacteroidaceae; Bacteroides']\n",
      "CP010516.1\t['Cupriavidus gilardii CR3', '3539530', 'Bacteria; Proteobacteria; Betaproteobacteria; Burkholderiales; Burkholderiaceae; Cupriavidus']\n",
      "CP000817.1\t['Lysinibacillus sphaericus C3-41', '4639821', 'Bacteria; Firmicutes; Bacilli; Bacillales; Bacillaceae; Lysinibacillus']\n",
      "CP019030.1\t['Lactobacillus fermentum', '2176678', 'Bacteria; Firmicutes; Bacilli; Lactobacillales; Lactobacillaceae; Lactobacillus']\n",
      "AP012325.1\t['Bifidobacterium catenulatum DSM 16992 = JCM 1194 = LMG 11043', '2079525', 'Bacteria; Actinobacteria; Bifidobacteriales; Bifidobacteriaceae; Bifidobacterium']\n",
      "CP002505.1\t['Rahnella sp. Y9602', '4864217', 'Bacteria; Proteobacteria; Gammaproteobacteria; Enterobacterales; Yersiniaceae; Rahnella']\n",
      "CP006580.1\t['Enterobacter cloacae P101', '5369929', 'Bacteria; Proteobacteria; Gammaproteobacteria; Enterobacterales; Enterobacteriaceae; Enterobacter; Enterobacter cloacae complex']\n",
      "CP003244.1\t['Rahnella aquatilis CIP 78.65 = ATCC 33071', '4861101', 'Bacteria; Proteobacteria; Gammaproteobacteria; Enterobacterales; Yersiniaceae; Rahnella']\n",
      "AP008937.1\t['Lactobacillus fermentum IFO 3956', '2098685', 'Bacteria; Firmicutes; Bacilli; Lactobacillales; Lactobacillaceae; Lactobacillus']\n",
      "CM001477.1\t['Clostridium perfringens F262', '3333039', 'Bacteria; Firmicutes; Clostridia; Clostridiales; Clostridiaceae; Clostridium']\n",
      "CP005958.1\t['Lactobacillus fermentum F-6', '2064620', 'Bacteria; Firmicutes; Bacilli; Lactobacillales; Lactobacillaceae; Lactobacillus']\n",
      "CP003101.3\t['Leuconostoc mesenteroides subsp. mesenteroides J18', '1900740', 'Bacteria; Firmicutes; Bacilli; Lactobacillales; Leuconostocaceae; Leuconostoc']\n",
      "FP929049.1\t['Roseburia intestinalis M50/1', '4143550', 'Bacteria; Firmicutes; Clostridia; Clostridiales; Lachnospiraceae; Roseburia']\n",
      "CP017181.1\t['Enterobacter kobei', '4880257', 'Bacteria; Proteobacteria; Gammaproteobacteria; Enterobacterales; Enterobacteriaceae; Enterobacter; Enterobacter cloacae complex']\n",
      "FP929054.1\t['Blautia obeum A2-162', '3757491', 'Bacteria; Firmicutes; Clostridia; Clostridiales; Lachnospiraceae; Blautia']\n",
      "CP016223.1\t['Candidatus Sulcia muelleri', '192244', 'Bacteria; Bacteroidetes; Flavobacteriia; Flavobacteriales; Candidatus Sulcia']\n",
      "CP001605.1\t['Candidatus Sulcia muelleri SMDSEM', '276984', 'Bacteria; Bacteroidetes; Flavobacteriia; Flavobacteriales; Candidatus Sulcia']\n",
      "FP929053.1\t['Ruminococcus sp. SR1/5', '3545606', 'Bacteria; Firmicutes; Clostridia; Clostridiales; Ruminococcaceae; Ruminococcus']\n",
      "CP003541.1\t['Candidatus Carsonella ruddii CE isolate Thao2000', '162589', 'Bacteria; Proteobacteria; Gammaproteobacteria; Oceanospirillales; Halomonadaceae; Zymobacter group; Candidatus Carsonella']\n",
      "CM002135.1\t['Veillonella parvula HSIVP1', '2177985', 'Bacteria; Firmicutes; Negativicutes; Veillonellales; Veillonellaceae; Veillonella']\n",
      "CP006819.1\t['Streptococcus thermophilus ASCC 1275', '1845495', 'Bacteria; Firmicutes; Bacilli; Lactobacillales; Streptococcaceae; Streptococcus']\n",
      "CP009913.1\t['Streptococcus salivarius', '2188923', 'Bacteria; Firmicutes; Bacilli; Lactobacillales; Streptococcaceae; Streptococcus']\n",
      "CP015286.1\t['Paenibacillus glucanolyticus', '5897585', 'Bacteria; Firmicutes; Bacilli; Bacillales; Paenibacillaceae; Paenibacillus']\n",
      "CP007456.1\t['Bifidobacterium kashiwanohense PV20-2', '2370978', 'Bacteria; Actinobacteria; Bifidobacteriales; Bifidobacteriaceae; Bifidobacterium']\n",
      "CP000414.1\t['Leuconostoc mesenteroides subsp. mesenteroides ATCC 8293', '2038396', 'Bacteria; Firmicutes; Bacilli; Lactobacillales; Leuconostocaceae; Leuconostoc']\n",
      "CP009850.1\t['Enterobacter cloacae', '4761385', 'Bacteria; Proteobacteria; Gammaproteobacteria; Enterobacterales; Enterobacteriaceae; Enterobacter; Enterobacter cloacae complex']\n",
      "FP929061.1\t['Anaerostipes hadrus', '3114788', 'Bacteria; Firmicutes; Clostridia; Clostridiales; Lachnospiraceae; Anaerostipes']\n",
      "CP009557.1\t['Clostridium perfringens', '3338532', 'Bacteria; Firmicutes; Clostridia; Clostridiales; Clostridiaceae; Clostridium']\n",
      "CP016906.1\t['Enterobacter cloacae', '4854065', 'Bacteria; Proteobacteria; Gammaproteobacteria; Enterobacterales; Enterobacteriaceae; Enterobacter; Enterobacter cloacae complex']\n",
      "CP006852.1\t['Pseudomonas sp. TKP', '7012672', 'Bacteria; Proteobacteria; Gammaproteobacteria; Pseudomonadales; Pseudomonadaceae; Pseudomonas']\n",
      "FP929055.1\t['[Ruminococcus] torques L2-14', '3341681', 'Bacteria; Firmicutes; Clostridia; Clostridiales; Lachnospiraceae; Blautia']\n",
      "CP014611.1\t['Leuconostoc mesenteroides subsp. jonggajibkimchii', '1893478', 'Bacteria; Firmicutes; Bacilli; Lactobacillales; Leuconostocaceae; Leuconostoc']\n",
      "CP014144.1\t['Streptococcus salivarius', '2191044', 'Bacteria; Firmicutes; Bacilli; Lactobacillales; Streptococcaceae; Streptococcus']\n",
      "CP003726.1\t['Enterococcus faecalis D32', '2987450', 'Bacteria; Firmicutes; Bacilli; Lactobacillales; Enterococcaceae; Enterococcus']\n",
      "CP010999.1\t['Streptococcus thermophilus', '1850434', 'Bacteria; Firmicutes; Bacilli; Lactobacillales; Streptococcaceae; Streptococcus']\n",
      "FP929050.1\t['Roseburia intestinalis XB6B4', '4286292', 'Bacteria; Firmicutes; Clostridia; Clostridiales; Lachnospiraceae; Roseburia']\n",
      "CP002033.1\t['Lactobacillus fermentum CECT 5716', '2100449', 'Bacteria; Firmicutes; Bacilli; Lactobacillales; Lactobacillaceae; Lactobacillus']\n"
     ]
    }
   ],
   "source": [
    "for genome in contaminants:\n",
    "    print genome + \"\\t\" + str(genomes[genome])"
   ]
  },
  {
   "cell_type": "code",
   "execution_count": null,
   "metadata": {
    "collapsed": true
   },
   "outputs": [],
   "source": []
  }
 ],
 "metadata": {
  "kernelspec": {
   "display_name": "Python 2",
   "language": "python",
   "name": "python2"
  },
  "language_info": {
   "codemirror_mode": {
    "name": "ipython",
    "version": 2
   },
   "file_extension": ".py",
   "mimetype": "text/x-python",
   "name": "python",
   "nbconvert_exporter": "python",
   "pygments_lexer": "ipython2",
   "version": "2.7.13"
  }
 },
 "nbformat": 4,
 "nbformat_minor": 2
}
