{
 "cells": [
  {
   "cell_type": "code",
   "execution_count": 1,
   "metadata": {},
   "outputs": [
    {
     "ename": "ModuleNotFoundError",
     "evalue": "No module named 'plotly'",
     "output_type": "error",
     "traceback": [
      "\u001b[0;31m---------------------------------------------------------------------------\u001b[0m",
      "\u001b[0;31mModuleNotFoundError\u001b[0m                       Traceback (most recent call last)",
      "\u001b[0;32m<ipython-input-1-81cb78bdd63d>\u001b[0m in \u001b[0;36m<module>\u001b[0;34m()\u001b[0m\n\u001b[1;32m      3\u001b[0m \u001b[0;32mfrom\u001b[0m \u001b[0mos\u001b[0m \u001b[0;32mimport\u001b[0m \u001b[0mlistdir\u001b[0m\u001b[0;34m\u001b[0m\u001b[0m\n\u001b[1;32m      4\u001b[0m \u001b[0;34m\u001b[0m\u001b[0m\n\u001b[0;32m----> 5\u001b[0;31m \u001b[0;32mimport\u001b[0m \u001b[0mplotly\u001b[0m\u001b[0;34m.\u001b[0m\u001b[0mplotly\u001b[0m \u001b[0;32mas\u001b[0m \u001b[0mpy\u001b[0m\u001b[0;34m\u001b[0m\u001b[0m\n\u001b[0m\u001b[1;32m      6\u001b[0m \u001b[0mpy\u001b[0m\u001b[0;34m.\u001b[0m\u001b[0msign_in\u001b[0m\u001b[0;34m(\u001b[0m\u001b[0;34m'lemoga'\u001b[0m\u001b[0;34m,\u001b[0m \u001b[0;34m'tljxTgI7TUZjMSUOtbsP'\u001b[0m\u001b[0;34m)\u001b[0m\u001b[0;34m\u001b[0m\u001b[0m\n\u001b[1;32m      7\u001b[0m \u001b[0;32mimport\u001b[0m \u001b[0mplotly\u001b[0m\u001b[0;34m\u001b[0m\u001b[0m\n",
      "\u001b[0;31mModuleNotFoundError\u001b[0m: No module named 'plotly'"
     ]
    }
   ],
   "source": [
    "import numpy as np\n",
    "import pandas as pd\n",
    "from os import listdir\n",
    "\n",
    "import plotly.plotly as py\n",
    "py.sign_in('lemoga', 'tljxTgI7TUZjMSUOtbsP')\n",
    "import plotly\n",
    "import plotly.graph_objs as go\n",
    "plotly.offline.init_notebook_mode() # run at the start of every notebook"
   ]
  },
  {
   "cell_type": "code",
   "execution_count": 10,
   "metadata": {},
   "outputs": [
    {
     "data": {
      "text/html": [
       "<div>\n",
       "<style>\n",
       "    .dataframe thead tr:only-child th {\n",
       "        text-align: right;\n",
       "    }\n",
       "\n",
       "    .dataframe thead th {\n",
       "        text-align: left;\n",
       "    }\n",
       "\n",
       "    .dataframe tbody tr th {\n",
       "        vertical-align: top;\n",
       "    }\n",
       "</style>\n",
       "<table border=\"1\" class=\"dataframe\">\n",
       "  <thead>\n",
       "    <tr style=\"text-align: right;\">\n",
       "      <th></th>\n",
       "      <th>LENGTH</th>\n",
       "    </tr>\n",
       "    <tr>\n",
       "      <th>REFERENCE</th>\n",
       "      <th></th>\n",
       "    </tr>\n",
       "  </thead>\n",
       "  <tbody>\n",
       "    <tr>\n",
       "      <th>MECZ01000002.1</th>\n",
       "      <td>21881</td>\n",
       "    </tr>\n",
       "    <tr>\n",
       "      <th>CP000452.1</th>\n",
       "      <td>55635</td>\n",
       "    </tr>\n",
       "    <tr>\n",
       "      <th>CM003440.1</th>\n",
       "      <td>61247</td>\n",
       "    </tr>\n",
       "    <tr>\n",
       "      <th>CP017830.1</th>\n",
       "      <td>91776</td>\n",
       "    </tr>\n",
       "    <tr>\n",
       "      <th>CP013211.1</th>\n",
       "      <td>112031</td>\n",
       "    </tr>\n",
       "  </tbody>\n",
       "</table>\n",
       "</div>"
      ],
      "text/plain": [
       "                LENGTH\n",
       "REFERENCE             \n",
       "MECZ01000002.1   21881\n",
       "CP000452.1       55635\n",
       "CM003440.1       61247\n",
       "CP017830.1       91776\n",
       "CP013211.1      112031"
      ]
     },
     "execution_count": 10,
     "metadata": {},
     "output_type": "execute_result"
    }
   ],
   "source": [
    "#Read lengths file\n",
    "referenceLengths =  pd.read_csv(\"0.bacterialGenomes/BacterialGenomes.length.txt\",sep='\\t',header=None)\n",
    "referenceLengths.columns = [\"REFERENCE\",\"LENGTH\"]\n",
    "referenceLengths.set_index(\"REFERENCE\",inplace=True)\n",
    "referenceLengths.sort_values(by=\"LENGTH\",inplace=True)\n",
    "referenceLengths.head()"
   ]
  },
  {
   "cell_type": "code",
   "execution_count": 23,
   "metadata": {
    "collapsed": true
   },
   "outputs": [],
   "source": [
    "def logNormalization(covMatrix,referenceLengths):\n",
    "    referenceLengthsSample = referenceLengths.loc[covMatrix.index]\n",
    "    referenceLengthsSample.sort_values(by=\"LENGTH\",inplace=True)\n",
    "    covMatrix = covMatrix.loc[referenceLengthsSample.index]\n",
    "    #Normalize abundance matrix and put nan values to bins greater than contig size\n",
    "    binSize = 100000\n",
    "    for index,row in covMatrix.iterrows():\n",
    "        covMatrix.loc[index][(referenceLengths.loc[index][\"LENGTH\"]/np.int(binSize))+1:] = np.NAN\n",
    "    covMatrixNormalized = np.log10(covMatrix.add(1,axis=1))\n",
    "    return covMatrixNormalized"
   ]
  },
  {
   "cell_type": "code",
   "execution_count": 12,
   "metadata": {
    "collapsed": true
   },
   "outputs": [],
   "source": [
    "#create heatmaps\n",
    "def makePlot(covMatrixNormalized,name):\n",
    "    data = [go.Heatmap(z=covMatrixNormalized.values.tolist(),\n",
    "                       y=covMatrixNormalized.index, x=covMatrixNormalized.columns.values,\n",
    "                       colorscale=\"Hot\")]\n",
    "\n",
    "    layout = go.Layout(title=name, width=1000,height=1000,autosize=False)\n",
    "    fig = go.Figure(data=data, layout=layout)\n",
    "\n",
    "    # Adjust the existing axes\n",
    "    layout['xaxis'].update(domain=[0, 0.7])  # decrease domain of x-axis1 (norm. coord.)\n",
    "\n",
    "    # Set up new axes\n",
    "    layout.update(xaxis2=dict(\n",
    "        domain=[0.75, 1], # domain of x-axis2\n",
    "        zeroline=False,   # remove x=0 line\n",
    "        showgrid=True,     # show horizontal grid line\n",
    "        title=\"Median Coverage\"\n",
    "    ))\n",
    "\n",
    "    median = covMatrixNormalized.median(axis=1)\n",
    "    trace2 = go.Scatter(x=median,y=covMatrixNormalized.index,xaxis=\"x2\",marker=dict(color=\"blue\"))\n",
    "    data.extend([trace2])\n",
    "\n",
    "    fig = go.Figure(data=data, layout=layout)\n",
    "    return fig\n",
    "    #plotly.offline.iplot(fig)\n",
    "    #plotly.plotly.image.save_as(fig, 'K2.contaminants.pdf')"
   ]
  },
  {
   "cell_type": "code",
   "execution_count": 24,
   "metadata": {
    "collapsed": true
   },
   "outputs": [],
   "source": [
    "figures = []\n",
    "folder = \"10.afterDepletion/coverageMatrices/\"\n",
    "#folder = \"7.coverageMatrices.sorted.bacteria/\"\n",
    "for matrix in listdir(folder):\n",
    "    if \".matrix.csv\" in matrix:\n",
    "        #makeThePlot\n",
    "        covMatrix = pd.read_csv(folder+matrix,header=0,index_col=0,sep='\\t')\n",
    "        covMatrixNormalized = logNormalization(covMatrix,referenceLengths)\n",
    "        figures.append(makePlot(covMatrixNormalized,matrix.split('.')[0]))\n",
    "        #Save Descriptive stats\n",
    "        stats = pd.DataFrame([covMatrixNormalized.median(axis=1),covMatrixNormalized.mean(axis=1)],index=[\"Median\",\"Mean\"])\n",
    "        stats = stats.T\n",
    "        stats.to_csv(matrix.split('.')[0]+\".stats.csv\",header=True,index=True,sep='\\t')"
   ]
  },
  {
   "cell_type": "code",
   "execution_count": 27,
   "metadata": {},
   "outputs": [
    {
     "name": "stdout",
     "output_type": "stream",
     "text": [
      "37\n",
      "38\n",
      "39\n",
      "40\n",
      "41\n",
      "42\n",
      "43\n",
      "44\n",
      "45\n",
      "46\n",
      "47\n"
     ]
    }
   ],
   "source": [
    "for i in range(37,len(figures)):\n",
    "    plotly.plotly.image.save_as(figures[i],figures[i][\"layout\"]['title']+'.pdf')\n",
    "    print i"
   ]
  },
  {
   "cell_type": "code",
   "execution_count": 28,
   "metadata": {},
   "outputs": [
    {
     "name": "stderr",
     "output_type": "stream",
     "text": [
      "mkdir: cannot create directory ‘10.afterDepletion/plots’: File exists\n"
     ]
    }
   ],
   "source": [
    "%%bash\n",
    "mkdir 10.afterDepletion/plots\n",
    "#mv *.pdf 7.coverageMatrices.sorted.bacteria/\n",
    "mv *.pdf 10.afterDepletion/plots\n",
    "#mv *.stats.csv 7.coverageMatrices.sorted.bacteria/\n",
    "mv *.stats.csv 10.afterDepletion/plots"
   ]
  }
 ],
 "metadata": {
  "kernelspec": {
   "display_name": "Python 2",
   "language": "python",
   "name": "python2"
  },
  "language_info": {
   "codemirror_mode": {
    "name": "ipython",
    "version": 2
   },
   "file_extension": ".py",
   "mimetype": "text/x-python",
   "name": "python",
   "nbconvert_exporter": "python",
   "pygments_lexer": "ipython2",
   "version": "2.7.13"
  }
 },
 "nbformat": 4,
 "nbformat_minor": 2
}
