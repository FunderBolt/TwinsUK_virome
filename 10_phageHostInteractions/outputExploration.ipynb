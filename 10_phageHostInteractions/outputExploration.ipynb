{
 "cells": [
  {
   "cell_type": "code",
   "execution_count": 94,
   "metadata": {
    "collapsed": true
   },
   "outputs": [],
   "source": [
    "import pandas as pd"
   ]
  },
  {
   "cell_type": "markdown",
   "metadata": {},
   "source": [
    "#### import contig-host info "
   ]
  },
  {
   "cell_type": "code",
   "execution_count": 95,
   "metadata": {
    "collapsed": true
   },
   "outputs": [],
   "source": [
    "#import crispr results\n",
    "crispr = pd.read_csv(\"../../tmp2/10_contaminants/pilecr/crispr.finalOutput.csv\",header=0,sep='\\t')\n",
    "#import mvp results\n",
    "mvp = pd.read_csv(\"../../tmp2/10_contaminants/MVP/mvp.finaloutput.csv\",header=0,sep='\\t')\n",
    "\n",
    "#combine info\n",
    "#cvh = pd.concat([crispr,mvp]).drop_duplicates() #cvh := contig versus host\n",
    "#getName = lambda x : ' '.join(x.split(' ')[:2])\n",
    "#cvh[\"name\"] = cvh[\"hostName\"].apply(getName)\n",
    "#cvh = cvh[[\"qid\",\"name\"]].drop_duplicates()\n",
    "#cvh.shape"
   ]
  },
  {
   "cell_type": "code",
   "execution_count": 96,
   "metadata": {
    "collapsed": true
   },
   "outputs": [],
   "source": [
    "#tax info for the crispr table was obtained from batch entrez\n",
    "taxInfocrispr = pd.read_csv(\"../../tmp2/10_contaminants/pilecr/taxInfoCrisprTable.csv\",header=0,sep='\\t')\n",
    "taxInfocrispr = dict(zip(taxInfocrispr[\"acc\"].values,taxInfocrispr[\"taxid\"]))\n",
    "getTax = lambda x:taxInfocrispr[x]\n",
    "crispr[\"taxid\"] = crispr[\"qaccver\"].apply(getTax)"
   ]
  },
  {
   "cell_type": "code",
   "execution_count": 97,
   "metadata": {
    "collapsed": true
   },
   "outputs": [],
   "source": [
    "#combine info crispr and mvp\n",
    "crispr = crispr[[\"saccver\",\"qaccver\",\"lineage\",\"name\",\"taxid\"]]\n",
    "mvp = mvp[[\"qid\",\"sid\",\"lineage\",\"hostName\",\"host_taxon_id\"]]\n",
    "columns = [\"contig\",\"sid\",\"lineage\",\"hostName\",\"host_taxon_id\"]\n",
    "crispr.columns = columns\n",
    "mvp.columns = columns\n",
    "output = pd.concat([crispr,mvp])"
   ]
  },
  {
   "cell_type": "code",
   "execution_count": 98,
   "metadata": {},
   "outputs": [
    {
     "data": {
      "text/html": [
       "<div>\n",
       "<style>\n",
       "    .dataframe thead tr:only-child th {\n",
       "        text-align: right;\n",
       "    }\n",
       "\n",
       "    .dataframe thead th {\n",
       "        text-align: left;\n",
       "    }\n",
       "\n",
       "    .dataframe tbody tr th {\n",
       "        vertical-align: top;\n",
       "    }\n",
       "</style>\n",
       "<table border=\"1\" class=\"dataframe\">\n",
       "  <thead>\n",
       "    <tr style=\"text-align: right;\">\n",
       "      <th></th>\n",
       "      <th>contig</th>\n",
       "      <th>sid</th>\n",
       "      <th>lineage</th>\n",
       "      <th>hostName</th>\n",
       "      <th>host_taxon_id</th>\n",
       "    </tr>\n",
       "  </thead>\n",
       "  <tbody>\n",
       "    <tr>\n",
       "      <th>0</th>\n",
       "      <td>9_P1_8Lpp_out_L5890</td>\n",
       "      <td>CP001107.1</td>\n",
       "      <td>['[Eubacterium] rectale ATCC 33656', 'Bacteria...</td>\n",
       "      <td>[Eubacterium] rectale ATCC 33656</td>\n",
       "      <td>515619</td>\n",
       "    </tr>\n",
       "    <tr>\n",
       "      <th>1</th>\n",
       "      <td>9_P1_8Lpp_out_L5890</td>\n",
       "      <td>FP929042.1</td>\n",
       "      <td>['[Eubacterium] rectale DSM 17629', 'Bacteria'...</td>\n",
       "      <td>[Eubacterium] rectale DSM 17629</td>\n",
       "      <td>657318</td>\n",
       "    </tr>\n",
       "    <tr>\n",
       "      <th>2</th>\n",
       "      <td>983_Ra2_8Lpp_out_L551</td>\n",
       "      <td>CP002780.1</td>\n",
       "      <td>['Desulfotomaculum ruminis DSM 2154', 'Bacteri...</td>\n",
       "      <td>Desulfotomaculum ruminis DSM 2154</td>\n",
       "      <td>696281</td>\n",
       "    </tr>\n",
       "    <tr>\n",
       "      <th>3</th>\n",
       "      <td>970_B2_8Lpp_out_L3046</td>\n",
       "      <td>CP010432.1</td>\n",
       "      <td>['Lactobacillus acidophilus', 'Bacteria', 'Fir...</td>\n",
       "      <td>Lactobacillus acidophilus</td>\n",
       "      <td>1579</td>\n",
       "    </tr>\n",
       "    <tr>\n",
       "      <th>4</th>\n",
       "      <td>970_B2_8Lpp_out_L3046</td>\n",
       "      <td>CP005926.2</td>\n",
       "      <td>['Lactobacillus acidophilus La-14', 'Bacteria'...</td>\n",
       "      <td>Lactobacillus acidophilus La-14</td>\n",
       "      <td>1314884</td>\n",
       "    </tr>\n",
       "  </tbody>\n",
       "</table>\n",
       "</div>"
      ],
      "text/plain": [
       "                  contig         sid  \\\n",
       "0    9_P1_8Lpp_out_L5890  CP001107.1   \n",
       "1    9_P1_8Lpp_out_L5890  FP929042.1   \n",
       "2  983_Ra2_8Lpp_out_L551  CP002780.1   \n",
       "3  970_B2_8Lpp_out_L3046  CP010432.1   \n",
       "4  970_B2_8Lpp_out_L3046  CP005926.2   \n",
       "\n",
       "                                             lineage  \\\n",
       "0  ['[Eubacterium] rectale ATCC 33656', 'Bacteria...   \n",
       "1  ['[Eubacterium] rectale DSM 17629', 'Bacteria'...   \n",
       "2  ['Desulfotomaculum ruminis DSM 2154', 'Bacteri...   \n",
       "3  ['Lactobacillus acidophilus', 'Bacteria', 'Fir...   \n",
       "4  ['Lactobacillus acidophilus La-14', 'Bacteria'...   \n",
       "\n",
       "                            hostName  host_taxon_id  \n",
       "0   [Eubacterium] rectale ATCC 33656         515619  \n",
       "1    [Eubacterium] rectale DSM 17629         657318  \n",
       "2  Desulfotomaculum ruminis DSM 2154         696281  \n",
       "3          Lactobacillus acidophilus           1579  \n",
       "4    Lactobacillus acidophilus La-14        1314884  "
      ]
     },
     "execution_count": 98,
     "metadata": {},
     "output_type": "execute_result"
    }
   ],
   "source": [
    "output.head()"
   ]
  },
  {
   "cell_type": "code",
   "execution_count": 99,
   "metadata": {},
   "outputs": [
    {
     "data": {
      "text/plain": [
       "(4998, 5)"
      ]
     },
     "execution_count": 99,
     "metadata": {},
     "output_type": "execute_result"
    }
   ],
   "source": [
    "output.shape"
   ]
  },
  {
   "cell_type": "code",
   "execution_count": 100,
   "metadata": {},
   "outputs": [
    {
     "data": {
      "text/plain": [
       "(910,)"
      ]
     },
     "execution_count": 100,
     "metadata": {},
     "output_type": "execute_result"
    }
   ],
   "source": [
    "#Number of contigs with host prediction\n",
    "output[\"contig\"].unique().shape"
   ]
  },
  {
   "cell_type": "code",
   "execution_count": 101,
   "metadata": {},
   "outputs": [
    {
     "data": {
      "text/plain": [
       "(1280,)"
      ]
     },
     "execution_count": 101,
     "metadata": {},
     "output_type": "execute_result"
    }
   ],
   "source": [
    "#Number of strains found as hosts\n",
    "output[\"sid\"].unique().shape"
   ]
  },
  {
   "cell_type": "code",
   "execution_count": 102,
   "metadata": {},
   "outputs": [],
   "source": [
    "from ete3 import NCBITaxa\n",
    "ncbi = NCBITaxa()\n",
    "\n",
    "tree = ncbi.get_topology(output[\"host_taxon_id\"].unique(),intermediate_nodes=True)\n",
    "\n",
    "def getLineage(node):\n",
    "    s = \"\"\n",
    "    g = \"\"\n",
    "    f = \"\"\n",
    "    o = \"\"\n",
    "    c = \"\"\n",
    "    p = \"\"\n",
    "    k = \"\"\n",
    "    node = tree.search_nodes(name=node)[0]\n",
    "    ancestors = node.get_ancestors()\n",
    "    while len(ancestors) > 0:\n",
    "        parent = ancestors[0]\n",
    "        if str(parent.rank) == \"species\":\n",
    "            s = str(parent.sci_name)\n",
    "        elif str(parent.rank) == \"genus\":\n",
    "            g = str(parent.sci_name)\n",
    "        elif str(parent.rank) == \"family\":\n",
    "            f = str(parent.sci_name)\n",
    "        elif str(parent.rank) == \"order\":\n",
    "            o = str(parent.sci_name)\n",
    "        elif str(parent.rank) == \"class\":\n",
    "            c = str(parent.sci_name)\n",
    "        elif str(parent.rank) == \"phylum\":\n",
    "            p = str(parent.sci_name)\n",
    "        elif str(parent.rank) == \"superkingdom\":\n",
    "            k = str(parent.sci_name)\n",
    "        ancestors = parent.get_ancestors()\n",
    "    return [s,g,f,o,c,p,k]\n",
    "\n",
    "lineage = {}\n",
    "for taxid in output[\"host_taxon_id\"].unique():\n",
    "    try:\n",
    "        lineage[taxid] = getLineage(str(taxid))\n",
    "    except:\n",
    "        print taxid\n",
    "        \n",
    "f = lambda x:lineage[x]\n",
    "output[\"lineage\"] = output[\"host_taxon_id\"].apply(f)"
   ]
  },
  {
   "cell_type": "code",
   "execution_count": 103,
   "metadata": {},
   "outputs": [],
   "source": [
    "lineageDF = pd.DataFrame(lineage).T.reset_index()\n",
    "lineageDF.columns = [\"taxid\",\"species\",\"genus\",\"family\",\"order\",\"class\",\"phylum\",\"kingdom\"]\n",
    "\n",
    "output = output.merge(right=lineageDF,how=\"inner\",left_on=\"host_taxon_id\",right_on=\"taxid\")"
   ]
  },
  {
   "cell_type": "code",
   "execution_count": 104,
   "metadata": {},
   "outputs": [
    {
     "data": {
      "text/plain": [
       "(4998, 13)"
      ]
     },
     "execution_count": 104,
     "metadata": {},
     "output_type": "execute_result"
    }
   ],
   "source": [
    "output.shape"
   ]
  },
  {
   "cell_type": "code",
   "execution_count": 106,
   "metadata": {},
   "outputs": [
    {
     "data": {
      "text/plain": [
       "(1280,)"
      ]
     },
     "execution_count": 106,
     "metadata": {},
     "output_type": "execute_result"
    }
   ],
   "source": [
    "#Number of strains == number of accession numbers\n",
    "output.sid.unique().shape"
   ]
  },
  {
   "cell_type": "code",
   "execution_count": 122,
   "metadata": {},
   "outputs": [
    {
     "data": {
      "text/plain": [
       "(1147, 3)"
      ]
     },
     "execution_count": 122,
     "metadata": {},
     "output_type": "execute_result"
    }
   ],
   "source": [
    "#Number of strains == number of tax id numbers\n",
    "output[[\"genus\",\"species\",\"host_taxon_id\"]].drop_duplicates().shape"
   ]
  },
  {
   "cell_type": "code",
   "execution_count": 116,
   "metadata": {},
   "outputs": [
    {
     "data": {
      "text/plain": [
       "(187, 2)"
      ]
     },
     "execution_count": 116,
     "metadata": {},
     "output_type": "execute_result"
    }
   ],
   "source": [
    "#Number of species\n",
    "output[[\"genus\",\"species\"]].drop_duplicates().shape"
   ]
  },
  {
   "cell_type": "code",
   "execution_count": 127,
   "metadata": {},
   "outputs": [
    {
     "data": {
      "text/plain": [
       "(79,)"
      ]
     },
     "execution_count": 127,
     "metadata": {},
     "output_type": "execute_result"
    }
   ],
   "source": [
    "output[\"genus\"].unique().shape"
   ]
  },
  {
   "cell_type": "code",
   "execution_count": 126,
   "metadata": {},
   "outputs": [
    {
     "data": {
      "text/plain": [
       "(87, 2)"
      ]
     },
     "execution_count": 126,
     "metadata": {},
     "output_type": "execute_result"
    }
   ],
   "source": [
    "output[[\"family\",\"genus\"]].drop_duplicates().shape"
   ]
  },
  {
   "cell_type": "code",
   "execution_count": 120,
   "metadata": {},
   "outputs": [
    {
     "data": {
      "text/html": [
       "<div>\n",
       "<style>\n",
       "    .dataframe thead tr:only-child th {\n",
       "        text-align: right;\n",
       "    }\n",
       "\n",
       "    .dataframe thead th {\n",
       "        text-align: left;\n",
       "    }\n",
       "\n",
       "    .dataframe tbody tr th {\n",
       "        vertical-align: top;\n",
       "    }\n",
       "</style>\n",
       "<table border=\"1\" class=\"dataframe\">\n",
       "  <thead>\n",
       "    <tr style=\"text-align: right;\">\n",
       "      <th></th>\n",
       "      <th>genus</th>\n",
       "      <th>species</th>\n",
       "    </tr>\n",
       "    <tr>\n",
       "      <th>phylum</th>\n",
       "      <th></th>\n",
       "      <th></th>\n",
       "    </tr>\n",
       "  </thead>\n",
       "  <tbody>\n",
       "    <tr>\n",
       "      <th>Actinobacteria</th>\n",
       "      <td>11</td>\n",
       "      <td>11</td>\n",
       "    </tr>\n",
       "    <tr>\n",
       "      <th>Bacteroidetes</th>\n",
       "      <td>41</td>\n",
       "      <td>41</td>\n",
       "    </tr>\n",
       "    <tr>\n",
       "      <th>Chlorobi</th>\n",
       "      <td>1</td>\n",
       "      <td>1</td>\n",
       "    </tr>\n",
       "    <tr>\n",
       "      <th>Euryarchaeota</th>\n",
       "      <td>1</td>\n",
       "      <td>1</td>\n",
       "    </tr>\n",
       "    <tr>\n",
       "      <th>Firmicutes</th>\n",
       "      <td>92</td>\n",
       "      <td>92</td>\n",
       "    </tr>\n",
       "    <tr>\n",
       "      <th>Fusobacteria</th>\n",
       "      <td>1</td>\n",
       "      <td>1</td>\n",
       "    </tr>\n",
       "    <tr>\n",
       "      <th>Proteobacteria</th>\n",
       "      <td>38</td>\n",
       "      <td>38</td>\n",
       "    </tr>\n",
       "    <tr>\n",
       "      <th>Tenericutes</th>\n",
       "      <td>3</td>\n",
       "      <td>3</td>\n",
       "    </tr>\n",
       "    <tr>\n",
       "      <th>Verrucomicrobia</th>\n",
       "      <td>2</td>\n",
       "      <td>2</td>\n",
       "    </tr>\n",
       "  </tbody>\n",
       "</table>\n",
       "</div>"
      ],
      "text/plain": [
       "                 genus  species\n",
       "phylum                         \n",
       "Actinobacteria      11       11\n",
       "Bacteroidetes       41       41\n",
       "Chlorobi             1        1\n",
       "Euryarchaeota        1        1\n",
       "Firmicutes          92       92\n",
       "Fusobacteria         1        1\n",
       "Proteobacteria      38       38\n",
       "Tenericutes          3        3\n",
       "Verrucomicrobia      2        2"
      ]
     },
     "execution_count": 120,
     "metadata": {},
     "output_type": "execute_result"
    }
   ],
   "source": [
    "#Number of species per phylum\n",
    "output[[\"phylum\",\"genus\",\"species\"]].drop_duplicates().groupby(\"phylum\").count()"
   ]
  },
  {
   "cell_type": "code",
   "execution_count": 138,
   "metadata": {},
   "outputs": [
    {
     "data": {
      "text/plain": [
       "array(['Bacteroides dorei', '', 'Bacteroides fragilis',\n",
       "       'Bacteroides vulgatus', 'Bacteroides plebeius',\n",
       "       'Bacteroides caccae', 'Bacteroides cellulosilyticus',\n",
       "       'Bacteroides stercoris', 'Bacteroides uniformis',\n",
       "       'Bacteroides coprocola', 'Bacteroides massiliensis',\n",
       "       'Bacteroides gallinarum', 'Bacteroides sartorii',\n",
       "       'Bacteroides salyersiae', 'Bacteroides finegoldii',\n",
       "       'Bacteroides nordii', 'Bacteroides ovatus',\n",
       "       'Bacteroides xylanisolvens', 'Bacteroides thetaiotaomicron',\n",
       "       'Bacteroides eggerthii', 'Bacteroides coprophilus',\n",
       "       'Bacteroides clarus'], dtype=object)"
      ]
     },
     "execution_count": 138,
     "metadata": {},
     "output_type": "execute_result"
    }
   ],
   "source": [
    "output[output[\"genus\"]==\"Bacteroides\"].species.unique()"
   ]
  },
  {
   "cell_type": "code",
   "execution_count": null,
   "metadata": {
    "collapsed": true
   },
   "outputs": [],
   "source": [
    "def getPhylumNode(node):\n",
    "    parent = node.get_ancestors()[0]\n",
    "    if str(parent.rank) == \"species\":\n",
    "        return parent\n",
    "    else:\n",
    "        return getPhylumNode(parent)"
   ]
  },
  {
   "cell_type": "code",
   "execution_count": 34,
   "metadata": {},
   "outputs": [
    {
     "name": "stdout",
     "output_type": "stream",
     "text": [
      "no rank\n"
     ]
    }
   ],
   "source": [
    "x = tree.search_nodes(name=\"515619\")[0]\n",
    "print x.rank"
   ]
  },
  {
   "cell_type": "code",
   "execution_count": 47,
   "metadata": {},
   "outputs": [
    {
     "name": "stdout",
     "output_type": "stream",
     "text": [
      "superkingdom\n"
     ]
    }
   ],
   "source": [
    "x = x.get_ancestors()[0]\n",
    "print x.rank"
   ]
  },
  {
   "cell_type": "code",
   "execution_count": 41,
   "metadata": {},
   "outputs": [
    {
     "data": {
      "text/plain": [
       "u'Lachnospiraceae'"
      ]
     },
     "execution_count": 41,
     "metadata": {},
     "output_type": "execute_result"
    }
   ],
   "source": [
    "x.sci_name"
   ]
  },
  {
   "cell_type": "code",
   "execution_count": 36,
   "metadata": {},
   "outputs": [
    {
     "data": {
      "text/plain": [
       "{'common_name',\n",
       " 'dist',\n",
       " 'lineage',\n",
       " 'name',\n",
       " 'named_lineage',\n",
       " 'rank',\n",
       " 'sci_name',\n",
       " 'support',\n",
       " 'taxid'}"
      ]
     },
     "execution_count": 36,
     "metadata": {},
     "output_type": "execute_result"
    }
   ],
   "source": [
    "x.featur"
   ]
  },
  {
   "cell_type": "code",
   "execution_count": 22,
   "metadata": {
    "collapsed": true
   },
   "outputs": [],
   "source": [
    "#contigs annotated as crAssphage\n",
    "crass = pd.read_csv(\"../../tmp2/10_contaminants/crisprAndMvpExploration/crassContigs.txt\",header=None)[0].values"
   ]
  },
  {
   "cell_type": "code",
   "execution_count": 24,
   "metadata": {
    "collapsed": true
   },
   "outputs": [],
   "source": [
    "contigs = {}\n",
    "for x in output[\"contig\"].values:\n",
    "    o = x # o:= original name\n",
    "    x = x.split('_')\n",
    "    contigs[x[1]+\"_contig\"+x[0]] = o"
   ]
  },
  {
   "cell_type": "code",
   "execution_count": 27,
   "metadata": {},
   "outputs": [
    {
     "name": "stdout",
     "output_type": "stream",
     "text": [
      "T2_contig1542 1542_T2_8Lpp_out_L697\n",
      "M1_contig2523 2523_M1_8Lpp_out_L9401\n"
     ]
    }
   ],
   "source": [
    "for x in list(set(list(crass)) & set(contigs.keys())):\n",
    "    print x,contigs[x]"
   ]
  },
  {
   "cell_type": "code",
   "execution_count": 57,
   "metadata": {},
   "outputs": [
    {
     "name": "stdout",
     "output_type": "stream",
     "text": [
      "['Porphyromonas gingivalis TDC60', 'Bacteria', 'Bacteroidetes', 'Bacteroidia', 'Bacteroidales', 'Porphyromonadaceae', 'Porphyromonas']\n",
      "['Porphyromonas gingivalis TDC60', 'Bacteria', 'Bacteroidetes', 'Bacteroidia', 'Bacteroidales', 'Porphyromonadaceae', 'Porphyromonas']\n"
     ]
    }
   ],
   "source": [
    "for x in output[output[\"contig\"]==\"2523_M1_8Lpp_out_L9401\"][\"lineage\"]:\n",
    "    print x"
   ]
  },
  {
   "cell_type": "code",
   "execution_count": 37,
   "metadata": {
    "collapsed": true
   },
   "outputs": [],
   "source": [
    "#contigs annotated as Eukaryotic viruses\n",
    "crass = pd.read_csv(\"../../tmp2/10_contaminants/crisprAndMvpExploration/eukaryoticViruses.txt\",header=None)[0].values\n",
    "\n",
    "contigs = {}\n",
    "for x in output[\"contig\"].values:\n",
    "    o = x # o:= original name\n",
    "    x = x.split('_')\n",
    "    contigs[x[1]+\"_contig\"+x[0]] = o"
   ]
  },
  {
   "cell_type": "code",
   "execution_count": 38,
   "metadata": {},
   "outputs": [
    {
     "name": "stdout",
     "output_type": "stream",
     "text": [
      "N1_contig102 102_N1_8Lpp_out_L2422\n",
      "B2_contig627 627_B2_8Lpp_out_L3841\n",
      "Da1_contig8010 8010_Da1_8Lpp_out_L1834\n",
      "K1_contig9576 9576_K1_8Lpp_out_L2354\n",
      "Q1_contig4952 4952_Q1_8Lpp_out_L739\n",
      "X2_contig811 811_X2_8Lpp_out_L2904\n"
     ]
    }
   ],
   "source": [
    "for x in list(set(list(crass)) & set(contigs.keys())):\n",
    "    print x,contigs[x]"
   ]
  },
  {
   "cell_type": "code",
   "execution_count": 53,
   "metadata": {},
   "outputs": [
    {
     "name": "stdout",
     "output_type": "stream",
     "text": [
      "[u'root', u'cellular organisms', u'Bacteria', u'FCB group', u'Bacteroidetes/Chlorobi group', u'Bacteroidetes', u'Bacteroidia', u'Bacteroidales', u'Bacteroidaceae', u'Bacteroides', u'Bacteroides eggerthii', u'Bacteroides eggerthii DSM 20697']\n"
     ]
    }
   ],
   "source": [
    "for x in output[output[\"contig\"]==\"811_X2_8Lpp_out_L2904\"][\"lineage\"]:\n",
    "    print x"
   ]
  },
  {
   "cell_type": "code",
   "execution_count": 54,
   "metadata": {},
   "outputs": [
    {
     "data": {
      "text/plain": [
       "(1280,)"
      ]
     },
     "execution_count": 54,
     "metadata": {},
     "output_type": "execute_result"
    }
   ],
   "source": [
    "#how many hosts\n",
    "output[\"sid\"].unique().shape"
   ]
  },
  {
   "cell_type": "code",
   "execution_count": 58,
   "metadata": {},
   "outputs": [
    {
     "data": {
      "text/html": [
       "<div>\n",
       "<style>\n",
       "    .dataframe thead tr:only-child th {\n",
       "        text-align: right;\n",
       "    }\n",
       "\n",
       "    .dataframe thead th {\n",
       "        text-align: left;\n",
       "    }\n",
       "\n",
       "    .dataframe tbody tr th {\n",
       "        vertical-align: top;\n",
       "    }\n",
       "</style>\n",
       "<table border=\"1\" class=\"dataframe\">\n",
       "  <thead>\n",
       "    <tr style=\"text-align: right;\">\n",
       "      <th></th>\n",
       "      <th>contig</th>\n",
       "      <th>sid</th>\n",
       "      <th>lineage</th>\n",
       "      <th>hostName</th>\n",
       "      <th>host_taxon_id</th>\n",
       "    </tr>\n",
       "  </thead>\n",
       "  <tbody>\n",
       "    <tr>\n",
       "      <th>0</th>\n",
       "      <td>9_P1_8Lpp_out_L5890</td>\n",
       "      <td>CP001107.1</td>\n",
       "      <td>['[Eubacterium] rectale ATCC 33656', 'Bacteria...</td>\n",
       "      <td>[Eubacterium] rectale ATCC 33656</td>\n",
       "      <td>515619</td>\n",
       "    </tr>\n",
       "    <tr>\n",
       "      <th>1</th>\n",
       "      <td>9_P1_8Lpp_out_L5890</td>\n",
       "      <td>FP929042.1</td>\n",
       "      <td>['[Eubacterium] rectale DSM 17629', 'Bacteria'...</td>\n",
       "      <td>[Eubacterium] rectale DSM 17629</td>\n",
       "      <td>657318</td>\n",
       "    </tr>\n",
       "    <tr>\n",
       "      <th>2</th>\n",
       "      <td>983_Ra2_8Lpp_out_L551</td>\n",
       "      <td>CP002780.1</td>\n",
       "      <td>['Desulfotomaculum ruminis DSM 2154', 'Bacteri...</td>\n",
       "      <td>Desulfotomaculum ruminis DSM 2154</td>\n",
       "      <td>696281</td>\n",
       "    </tr>\n",
       "    <tr>\n",
       "      <th>3</th>\n",
       "      <td>970_B2_8Lpp_out_L3046</td>\n",
       "      <td>CP010432.1</td>\n",
       "      <td>['Lactobacillus acidophilus', 'Bacteria', 'Fir...</td>\n",
       "      <td>Lactobacillus acidophilus</td>\n",
       "      <td>1579</td>\n",
       "    </tr>\n",
       "    <tr>\n",
       "      <th>4</th>\n",
       "      <td>970_B2_8Lpp_out_L3046</td>\n",
       "      <td>CP005926.2</td>\n",
       "      <td>['Lactobacillus acidophilus La-14', 'Bacteria'...</td>\n",
       "      <td>Lactobacillus acidophilus La-14</td>\n",
       "      <td>1314884</td>\n",
       "    </tr>\n",
       "  </tbody>\n",
       "</table>\n",
       "</div>"
      ],
      "text/plain": [
       "                  contig         sid  \\\n",
       "0    9_P1_8Lpp_out_L5890  CP001107.1   \n",
       "1    9_P1_8Lpp_out_L5890  FP929042.1   \n",
       "2  983_Ra2_8Lpp_out_L551  CP002780.1   \n",
       "3  970_B2_8Lpp_out_L3046  CP010432.1   \n",
       "4  970_B2_8Lpp_out_L3046  CP005926.2   \n",
       "\n",
       "                                             lineage  \\\n",
       "0  ['[Eubacterium] rectale ATCC 33656', 'Bacteria...   \n",
       "1  ['[Eubacterium] rectale DSM 17629', 'Bacteria'...   \n",
       "2  ['Desulfotomaculum ruminis DSM 2154', 'Bacteri...   \n",
       "3  ['Lactobacillus acidophilus', 'Bacteria', 'Fir...   \n",
       "4  ['Lactobacillus acidophilus La-14', 'Bacteria'...   \n",
       "\n",
       "                            hostName  host_taxon_id  \n",
       "0   [Eubacterium] rectale ATCC 33656         515619  \n",
       "1    [Eubacterium] rectale DSM 17629         657318  \n",
       "2  Desulfotomaculum ruminis DSM 2154         696281  \n",
       "3          Lactobacillus acidophilus           1579  \n",
       "4    Lactobacillus acidophilus La-14        1314884  "
      ]
     },
     "execution_count": 58,
     "metadata": {},
     "output_type": "execute_result"
    }
   ],
   "source": [
    "output.head()"
   ]
  },
  {
   "cell_type": "code",
   "execution_count": 62,
   "metadata": {},
   "outputs": [
    {
     "data": {
      "text/plain": [
       "count    910.000000\n",
       "mean       3.286813\n",
       "std        7.816807\n",
       "min        1.000000\n",
       "25%        1.000000\n",
       "50%        1.000000\n",
       "75%        2.000000\n",
       "max      105.000000\n",
       "Name: sid, dtype: float64"
      ]
     },
     "execution_count": 62,
     "metadata": {},
     "output_type": "execute_result"
    }
   ],
   "source": [
    "output[[\"contig\",\"sid\"]].drop_duplicates().groupby(\"contig\").count()[\"sid\"].describe()"
   ]
  },
  {
   "cell_type": "code",
   "execution_count": 67,
   "metadata": {},
   "outputs": [
    {
     "data": {
      "text/html": [
       "<div>\n",
       "<style>\n",
       "    .dataframe thead tr:only-child th {\n",
       "        text-align: right;\n",
       "    }\n",
       "\n",
       "    .dataframe thead th {\n",
       "        text-align: left;\n",
       "    }\n",
       "\n",
       "    .dataframe tbody tr th {\n",
       "        vertical-align: top;\n",
       "    }\n",
       "</style>\n",
       "<table border=\"1\" class=\"dataframe\">\n",
       "  <thead>\n",
       "    <tr style=\"text-align: right;\">\n",
       "      <th></th>\n",
       "      <th>contig</th>\n",
       "    </tr>\n",
       "  </thead>\n",
       "  <tbody>\n",
       "    <tr>\n",
       "      <th>count</th>\n",
       "      <td>1280.000000</td>\n",
       "    </tr>\n",
       "    <tr>\n",
       "      <th>mean</th>\n",
       "      <td>2.336719</td>\n",
       "    </tr>\n",
       "    <tr>\n",
       "      <th>std</th>\n",
       "      <td>2.254675</td>\n",
       "    </tr>\n",
       "    <tr>\n",
       "      <th>min</th>\n",
       "      <td>1.000000</td>\n",
       "    </tr>\n",
       "    <tr>\n",
       "      <th>25%</th>\n",
       "      <td>1.000000</td>\n",
       "    </tr>\n",
       "    <tr>\n",
       "      <th>50%</th>\n",
       "      <td>2.000000</td>\n",
       "    </tr>\n",
       "    <tr>\n",
       "      <th>75%</th>\n",
       "      <td>3.000000</td>\n",
       "    </tr>\n",
       "    <tr>\n",
       "      <th>max</th>\n",
       "      <td>30.000000</td>\n",
       "    </tr>\n",
       "  </tbody>\n",
       "</table>\n",
       "</div>"
      ],
      "text/plain": [
       "            contig\n",
       "count  1280.000000\n",
       "mean      2.336719\n",
       "std       2.254675\n",
       "min       1.000000\n",
       "25%       1.000000\n",
       "50%       2.000000\n",
       "75%       3.000000\n",
       "max      30.000000"
      ]
     },
     "execution_count": 67,
     "metadata": {},
     "output_type": "execute_result"
    }
   ],
   "source": [
    "output[[\"contig\",\"sid\"]].drop_duplicates().groupby(\"sid\").count().describe()"
   ]
  },
  {
   "cell_type": "code",
   "execution_count": null,
   "metadata": {
    "collapsed": true
   },
   "outputs": [],
   "source": []
  }
 ],
 "metadata": {
  "kernelspec": {
   "display_name": "Python 2",
   "language": "python",
   "name": "python2"
  },
  "language_info": {
   "codemirror_mode": {
    "name": "ipython",
    "version": 2
   },
   "file_extension": ".py",
   "mimetype": "text/x-python",
   "name": "python",
   "nbconvert_exporter": "python",
   "pygments_lexer": "ipython2",
   "version": "2.7.13"
  }
 },
 "nbformat": 4,
 "nbformat_minor": 2
}
