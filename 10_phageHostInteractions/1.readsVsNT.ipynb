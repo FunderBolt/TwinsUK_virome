{
 "cells": [
  {
   "cell_type": "code",
   "execution_count": 24,
   "metadata": {
    "collapsed": true
   },
   "outputs": [],
   "source": [
    "from Bio import SeqIO\n",
    "from os import listdir"
   ]
  },
  {
   "cell_type": "markdown",
   "metadata": {},
   "source": [
    "##### 1. Get reads tagged as prophages"
   ]
  },
  {
   "cell_type": "code",
   "execution_count": 65,
   "metadata": {
    "collapsed": true
   },
   "outputs": [],
   "source": [
    "fw = open(\"extractFastq.prophages.list.txt\",'w')\n",
    "folder = \"/ebio/abt3_projects/TwinsUK_viromes_Shao_Pei/tmp/2_readsCleaning/9.readsForDepletion.bacteria\"\n",
    "for f in listdir(folder): #f:=file\n",
    "    if \"prophages\" in f:\n",
    "        sample = f.split('.')[0]\n",
    "        fordward = \"8L_PF_scythed_tagcleaned_sickled_\"+sample+\"_paired_R1.fastq\"\n",
    "        reverse = \"8L_PF_scythed_tagcleaned_sickled_\"+sample+\"_paired_R2.fastq\"\n",
    "        folderFastq = \"/ebio/abt3_projects/TwinsUK_viromes_Shao_Pei/tmp/0_readsVirome/\"\n",
    "        outfileR1 = sample+\".prophages.R1.fastq\"\n",
    "        outfileR2 = sample+\".prophages.R2.fastq\"\n",
    "        #extractFromFastQ(folderFastq+fordward,folder+'/'+f,outfile)\n",
    "        print >> fw, \"python /ebio/abt3_projects/TwinsUK_viromes_Shao_Pei/code/extractFromFastQ.py \" + \\\n",
    "                 folderFastq+fordward + \" \" + \\\n",
    "                 folder+'/'+f + \" \" + \\\n",
    "                 outfileR1\n",
    "        #extractFromFastQ(folderFastq+reverse,folder+'/'+f,outfile)\n",
    "        print >> fw, \"python /ebio/abt3_projects/TwinsUK_viromes_Shao_Pei/code/extractFromFastQ.py \" + \\\n",
    "                 folderFastq+ reverse + \" \" + \\\n",
    "                 folder+'/'+f + \" \" + \\\n",
    "                 outfileR2\n",
    "fw.close()"
   ]
  },
  {
   "cell_type": "code",
   "execution_count": 66,
   "metadata": {},
   "outputs": [
    {
     "name": "stdout",
     "output_type": "stream",
     "text": [
      "Overwriting callRunExtractFastq.sh\n"
     ]
    }
   ],
   "source": [
    "%%writefile callRunExtractFastq.sh\n",
    "cat extractFastq.prophages.list.txt | while read -r line\n",
    "do\n",
    "    qsub -v FOO=\"$line\" runExtractFastq.sh\n",
    "done"
   ]
  },
  {
   "cell_type": "code",
   "execution_count": 77,
   "metadata": {},
   "outputs": [
    {
     "name": "stdout",
     "output_type": "stream",
     "text": [
      "Overwriting runExtractFastq.sh\n"
     ]
    }
   ],
   "source": [
    "%%writefile runExtractFastq.sh\n",
    "#!/bin/bash\n",
    "#$ -N eFQ\n",
    "#$ -l h_vmem=8G\n",
    "#$ -l h_rt=00:10:00\n",
    "#$ -cwd\n",
    "#$ -m ea\n",
    "#$ -M jmoreno@tuebingen.mpg.de\n",
    "\n",
    "export PATH=/ebio/abt3_projects/TwinsUK_viromes_Shao_Pei/anaconda3/bin:$PATH\n",
    "source activate py2_leo\n",
    "\n",
    "line=$FOO\n",
    "eval $line"
   ]
  },
  {
   "cell_type": "code",
   "execution_count": 70,
   "metadata": {
    "collapsed": true
   },
   "outputs": [],
   "source": [
    "%%bash\n",
    "chmod +x callRunExtractFastq.sh\n",
    "./callRunExtractFastq.sh"
   ]
  },
  {
   "cell_type": "markdown",
   "metadata": {
    "collapsed": true
   },
   "source": [
    "##### 2. Get  reads tagged as contaminants"
   ]
  },
  {
   "cell_type": "code",
   "execution_count": 75,
   "metadata": {
    "collapsed": true
   },
   "outputs": [],
   "source": [
    "fw = open(\"extractFastq.contaminants.list.txt\",'w')\n",
    "folder = \"/ebio/abt3_projects/TwinsUK_viromes_Shao_Pei/tmp/2_readsCleaning/9.readsForDepletion.bacteria\"\n",
    "for f in listdir(folder): #f:=file\n",
    "    if \"contaminants\" in f:\n",
    "        sample = f.split('.')[0]\n",
    "        fordward = \"8L_PF_scythed_tagcleaned_sickled_\"+sample+\"_paired_R1.fastq\"\n",
    "        reverse = \"8L_PF_scythed_tagcleaned_sickled_\"+sample+\"_paired_R2.fastq\"\n",
    "        folderFastq = \"/ebio/abt3_projects/TwinsUK_viromes_Shao_Pei/tmp/0_readsVirome/\"\n",
    "        outfileR1 = sample+\".contaminants.R1.fastq\"\n",
    "        outfileR2 = sample+\".contaminants.R2.fastq\"\n",
    "        #extractFromFastQ(folderFastq+fordward,folder+'/'+f,outfile)\n",
    "        print >> fw, \"python /ebio/abt3_projects/TwinsUK_viromes_Shao_Pei/code/extractFromFastQ.py \" + \\\n",
    "                 folderFastq+fordward + \" \" + \\\n",
    "                 folder+'/'+f + \" \" + \\\n",
    "                 outfileR1\n",
    "        #extractFromFastQ(folderFastq+reverse,folder+'/'+f,outfile)\n",
    "        print >> fw, \"python /ebio/abt3_projects/TwinsUK_viromes_Shao_Pei/code/extractFromFastQ.py \" + \\\n",
    "                 folderFastq+ reverse + \" \" + \\\n",
    "                 folder+'/'+f + \" \" + \\\n",
    "                 outfileR2\n",
    "fw.close()"
   ]
  },
  {
   "cell_type": "code",
   "execution_count": 76,
   "metadata": {},
   "outputs": [
    {
     "name": "stdout",
     "output_type": "stream",
     "text": [
      "Overwriting callRunExtractFastq.sh\n"
     ]
    }
   ],
   "source": [
    "%%writefile callRunExtractFastq.sh\n",
    "cat extractFastq.contaminants.list.txt | while read -r line\n",
    "do\n",
    "    qsub -v FOO=\"$line\" runExtractFastq.sh\n",
    "done"
   ]
  },
  {
   "cell_type": "code",
   "execution_count": 79,
   "metadata": {
    "collapsed": true
   },
   "outputs": [],
   "source": [
    "%%bash\n",
    "chmod +x callRunExtractFastq.sh\n",
    "./callRunExtractFastq.sh"
   ]
  },
  {
   "cell_type": "code",
   "execution_count": 80,
   "metadata": {
    "collapsed": true
   },
   "outputs": [],
   "source": [
    "#Move files to tmp2 folder\n"
   ]
  },
  {
   "cell_type": "code",
   "execution_count": 81,
   "metadata": {
    "collapsed": true
   },
   "outputs": [],
   "source": [
    "%%bash\n",
    "mkdir ../../tmp2/10_contaminants\n",
    "mkdir ../../tmp2/10_contaminants/readsTaggedAsProphagesOrContaminants\n",
    "mv *.fastq ../../tmp2/10_contaminants/readsTaggedAsProphagesOrContaminants"
   ]
  },
  {
   "cell_type": "markdown",
   "metadata": {},
   "source": [
    "##### 3. Map reads against NT viral"
   ]
  },
  {
   "cell_type": "code",
   "execution_count": 102,
   "metadata": {
    "collapsed": true
   },
   "outputs": [],
   "source": [
    "fw1 = open(\"phrophagesVsNTviral.list.txt\",'w')\n",
    "fw2 = open(\"contaminantsVsNTviral.list.txt\",'w')\n",
    "folder = \"/ebio/abt3_projects/TwinsUK_viromes_Shao_Pei/tmp2/10_contaminants/readsTaggedAsProphagesOrContaminants/\"\n",
    "for f in listdir(folder):\n",
    "    if \"R1\" in f:\n",
    "        sample = f.split('.')[0]\n",
    "        if \"prophages\" in f:\n",
    "            print >> fw1, \"/ebio/abt3_projects/TwinsUK_viromes_Shao_Pei/Programs/centrifuge/centrifuge -p 15 -q \"+\\\n",
    "            \"-x /ebio/abt3_projects/TwinsUK_viromes_Shao_Pei/tmp2/0X_contigAnnotation/centrifugeDatabase/viral \" +\\\n",
    "            \"--report-file \"+sample+\".prophages.centrifuge.report.tsv \"+\\\n",
    "            \"-1 \"+folder+f + \" \" +\\\n",
    "            \"-2 \"+folder+f.replace(\"R1\",\"R2\")+\" > \"+sample+\".prophages.centrifuge.viral.tsv\" \n",
    "        if \"contaminants\" in f:\n",
    "            print >> fw2, \"/ebio/abt3_projects/TwinsUK_viromes_Shao_Pei/Programs/centrifuge/centrifuge -p 15 -q \"+\\\n",
    "            \"-x /ebio/abt3_projects/TwinsUK_viromes_Shao_Pei/tmp2/0X_contigAnnotation/centrifugeDatabase/viral \" +\\\n",
    "            \"--report-file \"+sample+\".contaminants.centrifuge.report.tsv \"+\\\n",
    "            \"-1 \"+folder+f + \" \" +\\\n",
    "            \"-2 \"+folder+f.replace(\"R1\",\"R2\")+\" > \"+sample+\".contaminants.centrifuge.viral.tsv\"\n",
    "fw1.close()\n",
    "fw2.close()"
   ]
  },
  {
   "cell_type": "code",
   "execution_count": 94,
   "metadata": {
    "collapsed": true
   },
   "outputs": [],
   "source": [
    "#As centrifuge is very fast, I decided to sumbmit all samples in serial not in parallel. \n",
    "#I Add the header to each file (phrophagesVsNTviral.list.txt and contaminantsVsNTviral.list.txt) \n",
    "\n",
    "###HEADER###\n",
    "#!/bin/bash\n",
    "#$ -N centrifugePhages\n",
    "#$ -pe parallel 50\n",
    "#$ -l h_vmem=8G\n",
    "#$ -l h_rt=05:00:00\n",
    "#$ -cwd\n",
    "#$ -m ea\n",
    "#$ -M jmoreno@tuebingen.mpg.de"
   ]
  },
  {
   "cell_type": "code",
   "execution_count": 103,
   "metadata": {},
   "outputs": [
    {
     "name": "stdout",
     "output_type": "stream",
     "text": [
      "Your job 3165534 (\"centrifugePhages\") has been submitted\n",
      "Your job 3165535 (\"centrifugePhages\") has been submitted\n"
     ]
    }
   ],
   "source": [
    "%%bash \n",
    "qsub contaminantsVsNTviral.list.txt\n",
    "qsub phrophagesVsNTviral.list.txt"
   ]
  },
  {
   "cell_type": "code",
   "execution_count": 107,
   "metadata": {
    "collapsed": true
   },
   "outputs": [],
   "source": [
    "%%bash\n",
    "mkdir ../../tmp2/10_contaminants/centrifugeViralOutput\n",
    "mv *.tsv ../../tmp2/10_contaminants/centrifugeViralOutput"
   ]
  },
  {
   "cell_type": "markdown",
   "metadata": {},
   "source": [
    "#### 4. Map reads against NT"
   ]
  },
  {
   "cell_type": "code",
   "execution_count": 115,
   "metadata": {
    "collapsed": true
   },
   "outputs": [],
   "source": [
    "#Download all NT centrifuges database, that includes all bacteria,archaea,and viral seqs in the NCBI"
   ]
  },
  {
   "cell_type": "code",
   "execution_count": 118,
   "metadata": {
    "collapsed": true
   },
   "outputs": [],
   "source": [
    "#I run this command directly in the terminal using screen as it will take a while\n",
    "# being in this forlder: /ebio/abt3_projects/TwinsUK_viromes_Shao_Pei/tmp2/0X_contigAnnotation\n",
    "#nohup /ebio/abt3_projects/TwinsUK_viromes_Shao_Pei/Programs/centrifuge/centrifuge-download -o library2 -m -d \"archaea,bacteria,viral\" refseq > seqid2taxid.map &\n",
    "# Move the files to the database folder\n",
    "# cd centrifugeDatabase \n",
    "# mv ../library2/\n",
    "# mv ../seqid2taxid.map seqid2taxid.library2.map\n",
    "\n",
    "\n",
    "# cat archaea.fna viral.fna bacteria.fna > input-sequences.abv.fna\n",
    "#/ebio/abt3_projects/TwinsUK_viromes_Shao_Pei/Programs/centrifuge/centrifuge-build -p 10 --conversion-table seqid2taxid.library2.map --taxonomy-tree taxonomy/nodes.dmp --name-table taxonomy/names.dmp input-sequences.abv.fna abv\n"
   ]
  },
  {
   "cell_type": "code",
   "execution_count": 119,
   "metadata": {
    "collapsed": true
   },
   "outputs": [],
   "source": [
    "fw1 = open(\"phrophagesVsNT.list.txt\",'w')\n",
    "fw2 = open(\"contaminantsVsNT.list.txt\",'w')\n",
    "folder = \"/ebio/abt3_projects/TwinsUK_viromes_Shao_Pei/tmp2/10_contaminants/readsTaggedAsProphagesOrContaminants/\"\n",
    "for f in listdir(folder):\n",
    "    if \"R1\" in f:\n",
    "        sample = f.split('.')[0]\n",
    "        if \"prophages\" in f:\n",
    "            print >> fw1, \"/ebio/abt3_projects/TwinsUK_viromes_Shao_Pei/Programs/centrifuge/centrifuge -p 15 -q \"+\\\n",
    "            \"-x /ebio/abt3_projects/TwinsUK_viromes_Shao_Pei/tmp2/0X_contigAnnotation/centrifugeDatabase/abv \" +\\\n",
    "            \"--report-file \"+sample+\".prophages.centrifuge.report.tsv \"+\\\n",
    "            \"-1 \"+folder+f + \" \" +\\\n",
    "            \"-2 \"+folder+f.replace(\"R1\",\"R2\")+\" > \"+sample+\".prophages.centrifuge.abv.tsv\" \n",
    "        if \"contaminants\" in f:\n",
    "            print >> fw2, \"/ebio/abt3_projects/TwinsUK_viromes_Shao_Pei/Programs/centrifuge/centrifuge -p 15 -q \"+\\\n",
    "            \"-x /ebio/abt3_projects/TwinsUK_viromes_Shao_Pei/tmp2/0X_contigAnnotation/centrifugeDatabase/abv \" +\\\n",
    "            \"--report-file \"+sample+\".contaminants.centrifuge.report.tsv \"+\\\n",
    "            \"-1 \"+folder+f + \" \" +\\\n",
    "            \"-2 \"+folder+f.replace(\"R1\",\"R2\")+\" > \"+sample+\".contaminants.centrifuge.abv.tsv\"\n",
    "fw1.close()\n",
    "fw2.close()"
   ]
  },
  {
   "cell_type": "code",
   "execution_count": null,
   "metadata": {
    "collapsed": true
   },
   "outputs": [],
   "source": [
    "#As centrifuge is very fast, I decided to sumbmit all samples in serial not in parallel. \n",
    "#I Add the header to each file (phrophagesVsNTviral.list.txt and contaminantsVsNTviral.list.txt) \n",
    "\n",
    "###HEADER###\n",
    "#!/bin/bash\n",
    "#$ -N centrifugePhages\n",
    "#$ -pe parallel 50\n",
    "#$ -l h_vmem=8G\n",
    "#$ -l h_rt=05:00:00\n",
    "#$ -cwd\n",
    "#$ -m ea\n",
    "#$ -M jmoreno@tuebingen.mpg.de"
   ]
  },
  {
   "cell_type": "code",
   "execution_count": 120,
   "metadata": {
    "collapsed": true
   },
   "outputs": [],
   "source": [
    "%%bash \n",
    "qsub contaminantsVsNTviral.list.txt\n",
    "qsub phrophagesVsNTviral.list.txt"
   ]
  },
  {
   "cell_type": "code",
   "execution_count": 121,
   "metadata": {
    "collapsed": true
   },
   "outputs": [],
   "source": [
    "%%bash\n",
    "mkdir ../../tmp2/10_contaminants/centrifugeABVOutput\n",
    "mv *.tsv ../../tmp2/10_contaminants/centrifugeABVOutput"
   ]
  },
  {
   "cell_type": "markdown",
   "metadata": {},
   "source": [
    "#### 5. Map reads against NR"
   ]
  },
  {
   "cell_type": "code",
   "execution_count": 108,
   "metadata": {
    "collapsed": true
   },
   "outputs": [],
   "source": [
    "fw1 = open(\"phrophagesVsNR.list.txt\",'w')\n",
    "fw2 = open(\"contaminantsVsNR.list.txt\",'w')\n",
    "folder = \"/ebio/abt3_projects/TwinsUK_viromes_Shao_Pei/tmp2/10_contaminants/readsTaggedAsProphagesOrContaminants/\"\n",
    "for f in listdir(folder):\n",
    "    if \"prophages\" in f:\n",
    "        print >> fw1, \"/ebio/abt3_projects/TwinsUK_viromes_Shao_Pei/Programs/diamond/diamond blastx \"+\\\n",
    "        \"--threads 10 \" +\\\n",
    "        \"-d /ebio/abt3_projects/TwinsUK_viromes_Shao_Pei/tmp2/0X_contigAnnotation/ncbiNRdatabase/nrDIAMOND \" +\\\n",
    "        \"-q \"+folder+f + \" \" +\\\n",
    "        \"--daa \"+f.replace(\"fastq\",\"daa\")+ \" \" +\\\n",
    "        \"--max-target-seqs 25 --evalue 1e-5\"\n",
    "    if \"contaminants\" in f:\n",
    "        print >> fw2, \"/ebio/abt3_projects/TwinsUK_viromes_Shao_Pei/Programs/diamond/diamond blastx \"+\\\n",
    "        \"--threads 10 \" +\\\n",
    "        \"-d /ebio/abt3_projects/TwinsUK_viromes_Shao_Pei/tmp2/0X_contigAnnotation/ncbiNRdatabase/nrDIAMOND \" +\\\n",
    "        \"-q \"+folder+f + \" \" +\\\n",
    "        \"--daa \"+f.replace(\"fastq\",\"daa\")+ \" \" +\\\n",
    "        \"--max-target-seqs 25 --evalue 1e-5\"\n",
    "fw1.close()\n",
    "fw2.close()"
   ]
  },
  {
   "cell_type": "code",
   "execution_count": null,
   "metadata": {
    "collapsed": true
   },
   "outputs": [],
   "source": [
    "%%writefile callRunDiamond.sh\n",
    "cat phrophagesVsNR.list.txt | while read -r line\n",
    "do\n",
    "    qsub -v FOO=\"$line\" runDiamond.sh\n",
    "done"
   ]
  },
  {
   "cell_type": "code",
   "execution_count": 112,
   "metadata": {},
   "outputs": [
    {
     "name": "stdout",
     "output_type": "stream",
     "text": [
      "Overwriting callRunDiamond.sh\n"
     ]
    }
   ],
   "source": [
    "%%writefile callRunDiamond.sh\n",
    "cat contaminantsVsNR.list.txt | while read -r line\n",
    "do\n",
    "    qsub -v FOO=\"$line\" runDiamond.sh\n",
    "done"
   ]
  },
  {
   "cell_type": "code",
   "execution_count": 110,
   "metadata": {},
   "outputs": [
    {
     "name": "stdout",
     "output_type": "stream",
     "text": [
      "Writing runDiamond.sh\n"
     ]
    }
   ],
   "source": [
    "%%writefile runDiamond.sh\n",
    "#!/bin/bash\n",
    "#$ -N diamondP\n",
    "#$ -l h_vmem=8G\n",
    "#$ -pe parallel 10\n",
    "#$ -l h_rt=02:00:00\n",
    "#$ -cwd\n",
    "#$ -m ea\n",
    "#$ -M jmoreno@tuebingen.mpg.de\n",
    "\n",
    "line=$FOO\n",
    "eval $line"
   ]
  },
  {
   "cell_type": "code",
   "execution_count": 114,
   "metadata": {
    "collapsed": true
   },
   "outputs": [],
   "source": [
    "%%bash\n",
    "chmod +x callRunDiamond.sh\n",
    "./callRunDiamond.sh"
   ]
  },
  {
   "cell_type": "code",
   "execution_count": 122,
   "metadata": {
    "collapsed": true
   },
   "outputs": [],
   "source": [
    "%%bash\n",
    "mkdir ../../tmp2/10_contaminants/diamondOutput\n",
    "mv *.daa ../../tmp2/10_contaminants/diamondOutput"
   ]
  },
  {
   "cell_type": "code",
   "execution_count": null,
   "metadata": {
    "collapsed": true
   },
   "outputs": [],
   "source": []
  }
 ],
 "metadata": {
  "kernelspec": {
   "display_name": "Python 2",
   "language": "python",
   "name": "python2"
  },
  "language_info": {
   "codemirror_mode": {
    "name": "ipython",
    "version": 2
   },
   "file_extension": ".py",
   "mimetype": "text/x-python",
   "name": "python",
   "nbconvert_exporter": "python",
   "pygments_lexer": "ipython2",
   "version": "2.7.13"
  }
 },
 "nbformat": 4,
 "nbformat_minor": 2
}
