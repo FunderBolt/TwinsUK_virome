{
 "cells": [
  {
   "cell_type": "code",
   "execution_count": 176,
   "metadata": {
    "collapsed": true
   },
   "outputs": [],
   "source": [
    "import pandas as pd\n",
    "import numpy as np"
   ]
  },
  {
   "cell_type": "markdown",
   "metadata": {},
   "source": [
    "#### import contig-host info "
   ]
  },
  {
   "cell_type": "code",
   "execution_count": 177,
   "metadata": {
    "collapsed": true
   },
   "outputs": [],
   "source": [
    "#import crispr results\n",
    "crispr = pd.read_csv(\"../../tmp2/10_contaminants/pilecr/crispr.finalOutput.csv\",header=0,sep='\\t')\n",
    "#import mvp results\n",
    "mvp = pd.read_csv(\"../../tmp2/10_contaminants/MVP/mvp.finaloutput.csv\",header=0,sep='\\t')"
   ]
  },
  {
   "cell_type": "code",
   "execution_count": 178,
   "metadata": {
    "collapsed": true
   },
   "outputs": [],
   "source": [
    "#tax info for the crispr table was obtained from batch entrez\n",
    "taxInfocrispr = pd.read_csv(\"../../tmp2/10_contaminants/pilecr/taxInfoCrisprTable.csv\",header=0,sep='\\t')\n",
    "taxInfocrispr = dict(zip(taxInfocrispr[\"acc\"].values,taxInfocrispr[\"taxid\"]))\n",
    "getTax = lambda x:taxInfocrispr[x]\n",
    "crispr[\"taxid\"] = crispr[\"qaccver\"].apply(getTax)"
   ]
  },
  {
   "cell_type": "code",
   "execution_count": 179,
   "metadata": {
    "collapsed": true
   },
   "outputs": [],
   "source": [
    "#combine info crispr and mvp\n",
    "crispr = crispr[[\"saccver\",\"qaccver\",\"lineage\",\"name\",\"taxid\"]]\n",
    "mvp = mvp[[\"qid\",\"sid\",\"lineage\",\"hostName\",\"host_taxon_id\"]]\n",
    "columns = [\"contig\",\"sid\",\"lineage\",\"hostName\",\"host_taxon_id\"]\n",
    "crispr.columns = columns\n",
    "mvp.columns = columns\n",
    "output = pd.concat([crispr,mvp])"
   ]
  },
  {
   "cell_type": "markdown",
   "metadata": {},
   "source": [
    "#### strains tree"
   ]
  },
  {
   "cell_type": "code",
   "execution_count": 5,
   "metadata": {
    "collapsed": true
   },
   "outputs": [],
   "source": [
    "from ete3 import NCBITaxa\n",
    "ncbi = NCBITaxa()\n",
    "\n",
    "tree = ncbi.get_topology(output[\"host_taxon_id\"].unique(),intermediate_nodes=True)"
   ]
  },
  {
   "cell_type": "markdown",
   "metadata": {},
   "source": [
    "#### Genus tree"
   ]
  },
  {
   "cell_type": "code",
   "execution_count": 6,
   "metadata": {
    "collapsed": true
   },
   "outputs": [],
   "source": [
    "def getGenusNode(node):\n",
    "    parent = node.get_ancestors()[0]\n",
    "    if str(parent.rank) == \"genus\":\n",
    "        return parent\n",
    "    else:\n",
    "        return getGenusNode(parent)"
   ]
  },
  {
   "cell_type": "code",
   "execution_count": 7,
   "metadata": {
    "collapsed": true,
    "scrolled": false
   },
   "outputs": [],
   "source": [
    "genusTaxIds = []\n",
    "noGenus = [] #genomes that do not have a defined genus. \n",
    "for l in tree.get_leaves():\n",
    "    if str(l.rank) == \"genus\":\n",
    "        genusTaxIds.append(l.name)\n",
    "    else:\n",
    "        try:\n",
    "            genusNode = getGenusNode(l)\n",
    "            genusTaxIds.append(genusNode.name)\n",
    "        except:\n",
    "            noGenus.append(l.name)\n",
    "genusTaxIds += noGenus"
   ]
  },
  {
   "cell_type": "code",
   "execution_count": 8,
   "metadata": {
    "collapsed": true
   },
   "outputs": [],
   "source": [
    "genusTree = ncbi.get_topology(list(set(genusTaxIds)),intermediate_nodes=True)"
   ]
  },
  {
   "cell_type": "code",
   "execution_count": 22,
   "metadata": {
    "collapsed": true
   },
   "outputs": [],
   "source": [
    "#write nwk tree\n",
    "genusTree.write(format=9,outfile=\"../../tmp2/10_contaminants/pilecr/hostsTree.nwk\")"
   ]
  },
  {
   "cell_type": "code",
   "execution_count": 23,
   "metadata": {},
   "outputs": [
    {
     "name": "stdout",
     "output_type": "stream",
     "text": [
      "Overwriting ../../tmp2/10_contaminants/pilecr/changeNames.txt\n"
     ]
    }
   ],
   "source": [
    "%%writefile ../../tmp2/10_contaminants/pilecr/changeNames.txt\n",
    "LABELS\n",
    "#use this template to change the leaf labels, or define/change the internal node names (displayed in mouseover popups)\n",
    "\n",
    "#lines starting with a hash are comments and ignored during parsing\n",
    "\n",
    "#=================================================================#\n",
    "#                    MANDATORY SETTINGS                           #\n",
    "#=================================================================#\n",
    "#select the separator which is used to delimit the data below (TAB,SPACE or COMMA).This separator must be used throughout this file (except in the SEPARATOR line, which uses space).\n",
    "\n",
    "#SEPARATOR TAB\n",
    "#SEPARATOR SPACE\n",
    "SEPARATOR COMMA\n",
    "\n",
    "#Internal tree nodes can be specified using IDs directly, or using the 'last common ancestor' method described in iTOL help pages\n",
    "#=================================================================#\n",
    "#       Actual data follows after the \"DATA\" keyword              #\n",
    "#=================================================================#\n",
    "DATA\n",
    "#NODE_ID,LABEL\n",
    "\n",
    "#Examples\n",
    "#define a name for an internal node\n",
    "#9031|9606,Metazoa\n",
    "\n",
    "#change the label for leaf node 9606\n",
    "#9606,Homo sapiens"
   ]
  },
  {
   "cell_type": "code",
   "execution_count": 24,
   "metadata": {
    "collapsed": true
   },
   "outputs": [],
   "source": [
    "fa = open(\"../../tmp2/10_contaminants/pilecr/changeNames.txt\",\"a\")\n",
    "for l in genusTree.get_leaves():\n",
    "    print >> fa, l.name+','+l.sci_name\n",
    "fa.close()"
   ]
  },
  {
   "cell_type": "markdown",
   "metadata": {},
   "source": [
    "#### Append species and genus info"
   ]
  },
  {
   "cell_type": "code",
   "execution_count": 72,
   "metadata": {
    "collapsed": true
   },
   "outputs": [],
   "source": [
    "def getPhylumNode(node):\n",
    "    parent = node.get_ancestors()[0]\n",
    "    if str(parent.rank) == \"species\":\n",
    "        return parent\n",
    "    else:\n",
    "        return getPhylumNode(parent)"
   ]
  },
  {
   "cell_type": "code",
   "execution_count": 90,
   "metadata": {
    "collapsed": true
   },
   "outputs": [],
   "source": [
    "tax2species = {}\n",
    "for taxid in output[\"host_taxon_id\"].unique():\n",
    "    try:\n",
    "        taxid = str(taxid)\n",
    "        node = tree.search_nodes(name=taxid)[0]\n",
    "        if str(node.rank) == \"species\":\n",
    "            tax2species[taxid] = node.name\n",
    "        else:\n",
    "            snode = getPhylumNode(node)\n",
    "            tax2species[taxid] = snode.name\n",
    "    except:\n",
    "        tax2species[taxid] = None #as the taxid is above level species, typically genus  "
   ]
  },
  {
   "cell_type": "code",
   "execution_count": 92,
   "metadata": {
    "collapsed": true
   },
   "outputs": [],
   "source": [
    "species = lambda x : tax2species[str(x)]\n",
    "output[\"species\"] = output[\"host_taxon_id\"].apply(species)"
   ]
  },
  {
   "cell_type": "code",
   "execution_count": 94,
   "metadata": {
    "collapsed": true
   },
   "outputs": [],
   "source": [
    "def getGenusNode(node):\n",
    "    parent = node.get_ancestors()[0]\n",
    "    if str(parent.rank) == \"genus\":\n",
    "        return parent\n",
    "    else:\n",
    "        return getGenusNode(parent)"
   ]
  },
  {
   "cell_type": "code",
   "execution_count": 95,
   "metadata": {
    "collapsed": true
   },
   "outputs": [],
   "source": [
    "tax2genus = {}\n",
    "for taxid in output[\"host_taxon_id\"].unique():\n",
    "    try:\n",
    "        taxid = str(taxid)\n",
    "        node = tree.search_nodes(name=taxid)[0]\n",
    "        if str(node.rank) == \"genus\":\n",
    "            tax2genus[taxid] = node.name\n",
    "        else:\n",
    "            snode = getGenusNode(node)\n",
    "            tax2genus[taxid] = snode.name\n",
    "    except:\n",
    "        tax2genus[taxid] = taxid"
   ]
  },
  {
   "cell_type": "code",
   "execution_count": 96,
   "metadata": {
    "collapsed": true
   },
   "outputs": [],
   "source": [
    "genus = lambda x : tax2genus[str(x)]\n",
    "output[\"genus\"] = output[\"host_taxon_id\"].apply(genus)"
   ]
  },
  {
   "cell_type": "code",
   "execution_count": 160,
   "metadata": {},
   "outputs": [
    {
     "name": "stdout",
     "output_type": "stream",
     "text": [
      "Overwriting ../../tmp2/10_contaminants/pilecr/species_multibar.txt\n"
     ]
    }
   ],
   "source": [
    "%%writefile ../../tmp2/10_contaminants/pilecr/species_multibar.txt\n",
    "\n",
    "DATASET_MULTIBAR\n",
    "#In multi-value bar charts, each ID is associated to multiple numeric values, which are displayed as a stacked or aligned bar chart\n",
    "#lines starting with a hash are comments and ignored during parsing\n",
    "\n",
    "#=================================================================#\n",
    "#                    MANDATORY SETTINGS                           #\n",
    "#=================================================================#\n",
    "#select the separator which is used to delimit the data below (TAB,SPACE or COMMA).This separator must be used throughout this file (except in the SEPARATOR line, which uses space).\n",
    "#SEPARATOR TAB\n",
    "#SEPARATOR SPACE\n",
    "SEPARATOR COMMA\n",
    "\n",
    "#label is used in the legend table (can be changed later)\n",
    "DATASET_LABEL,example multi bar chart\n",
    "\n",
    "#dataset color (can be changed later)\n",
    "COLOR,#ff0000\n",
    "\n",
    "#define colors for each individual field column (use hexadecimal, RGB or RGBA notation; if using RGB/RGBA, COMMA cannot be used as SEPARATOR)\n",
    "FIELD_COLORS,#ff0000\n",
    "\n",
    "#field labels\n",
    "FIELD_LABELS,Species\n",
    "\n",
    "#=================================================================#\n",
    "#                    OPTIONAL SETTINGS                            #\n",
    "#=================================================================#\n",
    "\n",
    "#dataset scale: you can simply set the values where the scale will be drawn\n",
    "#DATASET_SCALE,2000,10000,20000\n",
    "#or you can specify value, label and color for each scale line (dash separated, format: VALUE-LABEL-COLOR) \n",
    "#DATASET_SCALE,2000-2k line-#0000ff,10000-line at 10k-#ff0000,20000-3rd line-#00ff00\n",
    "\n",
    "#each dataset can have a legend, which is defined below\n",
    "#for each row in the legend, there should be one shape, color and label\n",
    "#shape should be a number between 1 and 6:\n",
    "#1: square\n",
    "#2: circle\n",
    "#3: star\n",
    "#4: right pointing triangle\n",
    "#5: left pointing triangle\n",
    "#6: checkmark\n",
    "\n",
    "#LEGEND_TITLE,Legend\n",
    "#LEGEND_SHAPES,1,1\n",
    "#LEGEND_COLORS,#ff0000,#00ff00\n",
    "#LEGEND_LABELS,Number of species\n",
    "\n",
    "#=================================================================#\n",
    "#     all other optional settings can be set or changed later     #\n",
    "#           in the web interface (under 'Datasets' tab)           #\n",
    "#=================================================================#\n",
    "\n",
    "#maximum width\n",
    "WIDTH,500\n",
    "\n",
    "#left margin, used to increase/decrease the spacing to the next dataset. Can be negative, causing datasets to overlap.\n",
    "MARGIN,100\n",
    "\n",
    "#always show internal values; if set, values associated to internal nodes will be displayed even if these nodes are not collapsed. It could cause overlapping in the dataset display.\n",
    "#SHOW_INTERNAL,0\n",
    "\n",
    "#bar height factor; Default bar height will be slightly less than the available space between leaves, but you can set a multiplication factor here to increase/decrease it (values from 0 to 1 will decrease it, values above 1 will increase it)\n",
    "#HEIGHT_FACTOR,1\n",
    "\n",
    "#Bars are aligned to the node lines by default. Using BAR_SHIFT, you can move them all up/down by a fixed amount\n",
    "#BAR_SHIFT,0\n",
    "\n",
    "#align individual fields; if set to 1, individual bar charts will not be stacked\n",
    "#ALIGN_FIELDS,0\n",
    "\n",
    "#border width; if set above 0, a border of specified width (in pixels) will be drawn around the bars\n",
    "#BORDER_WIDTH,0\n",
    "\n",
    "#border color; used when BORDER_WIDTH is above 0\n",
    "#BORDER_COLOR,#0000ff\n",
    "\n",
    "#Internal tree nodes can be specified using IDs directly, or using the 'last common ancestor' method described in iTOL help pages\n",
    "#=================================================================#\n",
    "#       Actual data follows after the \"DATA\" keyword              #\n",
    "#=================================================================#\n",
    "DATA\n",
    "#ID1,value1,value2,value3\n",
    "#ID2,value4,value5,value6\n",
    "#9606,10000,15000,9000\n",
    "#LEAF1|LEAF2,11000,9000,120007\n"
   ]
  },
  {
   "cell_type": "code",
   "execution_count": 161,
   "metadata": {
    "collapsed": true
   },
   "outputs": [],
   "source": [
    "#ring1 = number of species in that genus\n",
    "ring1Dict = {}\n",
    "for genus in output[\"genus\"].unique():\n",
    "    ring1Dict[genus] = output[output[\"genus\"]==genus][\"species\"].unique().shape[0]"
   ]
  },
  {
   "cell_type": "code",
   "execution_count": 162,
   "metadata": {
    "collapsed": true
   },
   "outputs": [],
   "source": [
    "fw = open(\"../../tmp2/10_contaminants/pilecr/species_multibar.txt\",'a')\n",
    "for genus in ring1Dict:\n",
    "    print >> fw, genus+\",\"+str(ring1Dict[genus])\n",
    "fw.close()"
   ]
  },
  {
   "cell_type": "code",
   "execution_count": null,
   "metadata": {
    "collapsed": true
   },
   "outputs": [],
   "source": []
  },
  {
   "cell_type": "code",
   "execution_count": 163,
   "metadata": {},
   "outputs": [
    {
     "name": "stdout",
     "output_type": "stream",
     "text": [
      "Overwriting ../../tmp2/10_contaminants/pilecr/phages_multibar.txt\n"
     ]
    }
   ],
   "source": [
    "%%writefile ../../tmp2/10_contaminants/pilecr/phages_multibar.txt\n",
    "\n",
    "DATASET_MULTIBAR\n",
    "#In multi-value bar charts, each ID is associated to multiple numeric values, which are displayed as a stacked or aligned bar chart\n",
    "#lines starting with a hash are comments and ignored during parsing\n",
    "\n",
    "#=================================================================#\n",
    "#                    MANDATORY SETTINGS                           #\n",
    "#=================================================================#\n",
    "#select the separator which is used to delimit the data below (TAB,SPACE or COMMA).This separator must be used throughout this file (except in the SEPARATOR line, which uses space).\n",
    "#SEPARATOR TAB\n",
    "#SEPARATOR SPACE\n",
    "SEPARATOR COMMA\n",
    "\n",
    "#label is used in the legend table (can be changed later)\n",
    "DATASET_LABEL,phages\n",
    "\n",
    "#dataset color (can be changed later)\n",
    "COLOR,#00ff00\n",
    "\n",
    "#define colors for each individual field column (use hexadecimal, RGB or RGBA notation; if using RGB/RGBA, COMMA cannot be used as SEPARATOR)\n",
    "FIELD_COLORS,#00ff00\n",
    "\n",
    "#field labels\n",
    "FIELD_LABELS,Phages\n",
    "\n",
    "#=================================================================#\n",
    "#                    OPTIONAL SETTINGS                            #\n",
    "#=================================================================#\n",
    "\n",
    "#dataset scale: you can simply set the values where the scale will be drawn\n",
    "#DATASET_SCALE,2000,10000,20000\n",
    "#or you can specify value, label and color for each scale line (dash separated, format: VALUE-LABEL-COLOR) \n",
    "#DATASET_SCALE,2000-2k line-#0000ff,10000-line at 10k-#ff0000,20000-3rd line-#00ff00\n",
    "\n",
    "#each dataset can have a legend, which is defined below\n",
    "#for each row in the legend, there should be one shape, color and label\n",
    "#shape should be a number between 1 and 6:\n",
    "#1: square\n",
    "#2: circle\n",
    "#3: star\n",
    "#4: right pointing triangle\n",
    "#5: left pointing triangle\n",
    "#6: checkmark\n",
    "\n",
    "#LEGEND_TITLE,Legend\n",
    "#LEGEND_SHAPES,1,1\n",
    "#LEGEND_COLORS,#ff0000,#00ff00\n",
    "#LEGEND_LABELS,Number of phages\n",
    "\n",
    "#=================================================================#\n",
    "#     all other optional settings can be set or changed later     #\n",
    "#           in the web interface (under 'Datasets' tab)           #\n",
    "#=================================================================#\n",
    "\n",
    "#maximum width\n",
    "WIDTH,500\n",
    "\n",
    "#left margin, used to increase/decrease the spacing to the next dataset. Can be negative, causing datasets to overlap.\n",
    "MARGIN,50\n",
    "\n",
    "#always show internal values; if set, values associated to internal nodes will be displayed even if these nodes are not collapsed. It could cause overlapping in the dataset display.\n",
    "#SHOW_INTERNAL,0\n",
    "\n",
    "#bar height factor; Default bar height will be slightly less than the available space between leaves, but you can set a multiplication factor here to increase/decrease it (values from 0 to 1 will decrease it, values above 1 will increase it)\n",
    "#HEIGHT_FACTOR,1\n",
    "\n",
    "#Bars are aligned to the node lines by default. Using BAR_SHIFT, you can move them all up/down by a fixed amount\n",
    "#BAR_SHIFT,0\n",
    "\n",
    "#align individual fields; if set to 1, individual bar charts will not be stacked\n",
    "#ALIGN_FIELDS,0\n",
    "\n",
    "#border width; if set above 0, a border of specified width (in pixels) will be drawn around the bars\n",
    "#BORDER_WIDTH,0\n",
    "\n",
    "#border color; used when BORDER_WIDTH is above 0\n",
    "#BORDER_COLOR,#0000ff\n",
    "\n",
    "#Internal tree nodes can be specified using IDs directly, or using the 'last common ancestor' method described in iTOL help pages\n",
    "#=================================================================#\n",
    "#       Actual data follows after the \"DATA\" keyword              #\n",
    "#=================================================================#\n",
    "DATA\n",
    "#ID1,value1,value2,value3\n",
    "#ID2,value4,value5,value6\n",
    "#9606,10000,15000,9000\n",
    "#LEAF1|LEAF2,11000,9000,120007\n"
   ]
  },
  {
   "cell_type": "code",
   "execution_count": 164,
   "metadata": {
    "collapsed": true
   },
   "outputs": [],
   "source": [
    "#ring2 = num of unique phages infecting that genus\n",
    "ring2Dict = {}\n",
    "for genus in output[\"genus\"].unique():\n",
    "    ring2Dict[genus] = output[output[\"genus\"]==genus][\"contig\"].unique().shape[0]"
   ]
  },
  {
   "cell_type": "code",
   "execution_count": 165,
   "metadata": {
    "collapsed": true
   },
   "outputs": [],
   "source": [
    "fw = open(\"../../tmp2/10_contaminants/pilecr/phages_multibar.txt\",'a')\n",
    "for genus in ring1Dict:\n",
    "    print >> fw, genus+\",\"+str(ring2Dict[genus])\n",
    "fw.close()"
   ]
  },
  {
   "cell_type": "code",
   "execution_count": null,
   "metadata": {
    "collapsed": true
   },
   "outputs": [],
   "source": []
  },
  {
   "cell_type": "code",
   "execution_count": 180,
   "metadata": {},
   "outputs": [
    {
     "data": {
      "text/html": [
       "<div>\n",
       "<style>\n",
       "    .dataframe thead tr:only-child th {\n",
       "        text-align: right;\n",
       "    }\n",
       "\n",
       "    .dataframe thead th {\n",
       "        text-align: left;\n",
       "    }\n",
       "\n",
       "    .dataframe tbody tr th {\n",
       "        vertical-align: top;\n",
       "    }\n",
       "</style>\n",
       "<table border=\"1\" class=\"dataframe\">\n",
       "  <thead>\n",
       "    <tr style=\"text-align: right;\">\n",
       "      <th></th>\n",
       "      <th>contig</th>\n",
       "      <th>sid</th>\n",
       "      <th>lineage</th>\n",
       "      <th>hostName</th>\n",
       "      <th>host_taxon_id</th>\n",
       "    </tr>\n",
       "  </thead>\n",
       "  <tbody>\n",
       "    <tr>\n",
       "      <th>0</th>\n",
       "      <td>9_P1_8Lpp_out_L5890</td>\n",
       "      <td>CP001107.1</td>\n",
       "      <td>['[Eubacterium] rectale ATCC 33656', 'Bacteria...</td>\n",
       "      <td>[Eubacterium] rectale ATCC 33656</td>\n",
       "      <td>515619</td>\n",
       "    </tr>\n",
       "    <tr>\n",
       "      <th>1</th>\n",
       "      <td>9_P1_8Lpp_out_L5890</td>\n",
       "      <td>FP929042.1</td>\n",
       "      <td>['[Eubacterium] rectale DSM 17629', 'Bacteria'...</td>\n",
       "      <td>[Eubacterium] rectale DSM 17629</td>\n",
       "      <td>657318</td>\n",
       "    </tr>\n",
       "    <tr>\n",
       "      <th>2</th>\n",
       "      <td>983_Ra2_8Lpp_out_L551</td>\n",
       "      <td>CP002780.1</td>\n",
       "      <td>['Desulfotomaculum ruminis DSM 2154', 'Bacteri...</td>\n",
       "      <td>Desulfotomaculum ruminis DSM 2154</td>\n",
       "      <td>696281</td>\n",
       "    </tr>\n",
       "    <tr>\n",
       "      <th>3</th>\n",
       "      <td>970_B2_8Lpp_out_L3046</td>\n",
       "      <td>CP010432.1</td>\n",
       "      <td>['Lactobacillus acidophilus', 'Bacteria', 'Fir...</td>\n",
       "      <td>Lactobacillus acidophilus</td>\n",
       "      <td>1579</td>\n",
       "    </tr>\n",
       "    <tr>\n",
       "      <th>4</th>\n",
       "      <td>970_B2_8Lpp_out_L3046</td>\n",
       "      <td>CP005926.2</td>\n",
       "      <td>['Lactobacillus acidophilus La-14', 'Bacteria'...</td>\n",
       "      <td>Lactobacillus acidophilus La-14</td>\n",
       "      <td>1314884</td>\n",
       "    </tr>\n",
       "  </tbody>\n",
       "</table>\n",
       "</div>"
      ],
      "text/plain": [
       "                  contig         sid  \\\n",
       "0    9_P1_8Lpp_out_L5890  CP001107.1   \n",
       "1    9_P1_8Lpp_out_L5890  FP929042.1   \n",
       "2  983_Ra2_8Lpp_out_L551  CP002780.1   \n",
       "3  970_B2_8Lpp_out_L3046  CP010432.1   \n",
       "4  970_B2_8Lpp_out_L3046  CP005926.2   \n",
       "\n",
       "                                             lineage  \\\n",
       "0  ['[Eubacterium] rectale ATCC 33656', 'Bacteria...   \n",
       "1  ['[Eubacterium] rectale DSM 17629', 'Bacteria'...   \n",
       "2  ['Desulfotomaculum ruminis DSM 2154', 'Bacteri...   \n",
       "3  ['Lactobacillus acidophilus', 'Bacteria', 'Fir...   \n",
       "4  ['Lactobacillus acidophilus La-14', 'Bacteria'...   \n",
       "\n",
       "                            hostName  host_taxon_id  \n",
       "0   [Eubacterium] rectale ATCC 33656         515619  \n",
       "1    [Eubacterium] rectale DSM 17629         657318  \n",
       "2  Desulfotomaculum ruminis DSM 2154         696281  \n",
       "3          Lactobacillus acidophilus           1579  \n",
       "4    Lactobacillus acidophilus La-14        1314884  "
      ]
     },
     "execution_count": 180,
     "metadata": {},
     "output_type": "execute_result"
    }
   ],
   "source": [
    "output.head()"
   ]
  },
  {
   "cell_type": "code",
   "execution_count": 173,
   "metadata": {},
   "outputs": [
    {
     "data": {
      "text/plain": [
       "(249,)"
      ]
     },
     "execution_count": 173,
     "metadata": {},
     "output_type": "execute_result"
    }
   ],
   "source": [
    "output[\"hostName\"].unique().shape"
   ]
  },
  {
   "cell_type": "code",
   "execution_count": 174,
   "metadata": {},
   "outputs": [
    {
     "data": {
      "text/plain": [
       "(226,)"
      ]
     },
     "execution_count": 174,
     "metadata": {},
     "output_type": "execute_result"
    }
   ],
   "source": [
    "output[\"species\"].unique().shape"
   ]
  },
  {
   "cell_type": "code",
   "execution_count": 175,
   "metadata": {},
   "outputs": [
    {
     "data": {
      "text/plain": [
       "(94,)"
      ]
     },
     "execution_count": 175,
     "metadata": {},
     "output_type": "execute_result"
    }
   ],
   "source": [
    "output[\"genus\"].unique().shape"
   ]
  },
  {
   "cell_type": "code",
   "execution_count": null,
   "metadata": {
    "collapsed": true
   },
   "outputs": [],
   "source": []
  }
 ],
 "metadata": {
  "kernelspec": {
   "display_name": "Python 2",
   "language": "python",
   "name": "python2"
  },
  "language_info": {
   "codemirror_mode": {
    "name": "ipython",
    "version": 2
   },
   "file_extension": ".py",
   "mimetype": "text/x-python",
   "name": "python",
   "nbconvert_exporter": "python",
   "pygments_lexer": "ipython2",
   "version": "2.7.13"
  }
 },
 "nbformat": 4,
 "nbformat_minor": 2
}
