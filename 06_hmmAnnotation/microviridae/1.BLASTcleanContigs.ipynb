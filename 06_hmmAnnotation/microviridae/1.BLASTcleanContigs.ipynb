{
 "cells": [
  {
   "cell_type": "markdown",
   "metadata": {},
   "source": [
    "### Get clean contigs"
   ]
  },
  {
   "cell_type": "code",
   "execution_count": 2,
   "metadata": {},
   "outputs": [],
   "source": [
    "%%bash\n",
    "xargs samtools faidx ../1_Derep/allContigs.DeRep.fna < ../10_ContaminationExploration/2.BLASTcontamintantsContigs/listClean.80000Congtigs.txt > cleanContigs.80000.fna"
   ]
  },
  {
   "cell_type": "markdown",
   "metadata": {},
   "source": [
    "### Make BLAST"
   ]
  },
  {
   "cell_type": "code",
   "execution_count": 3,
   "metadata": {},
   "outputs": [
    {
     "name": "stdout",
     "output_type": "stream",
     "text": [
      "Writing blastCleanContigs.sh\n"
     ]
    }
   ],
   "source": [
    "%%writefile blastCleanContigs.sh\n",
    "#!/bin/bash\n",
    "#$ -N blastSearch\n",
    "#$ -pe parallel 6\n",
    "#$ -l h_vmem=4G\n",
    "#$ -l h_rt=72:00:00\n",
    "#$ -cwd\n",
    "#$ -m ea\n",
    "#$ -M jmoreno@tuebingen.mpg.de\n",
    "\n",
    "blastn -db /ebio/abt3_projects/databases/NCBI_blastdb/nt -query cleanContigs.80000.fna -outfmt \"6 qseqid pident saccver stitle staxids qlen slen qstart qend sstart send length bitscore gaps evalue\" -out blastCleanContigs -num_alignments 10 -num_threads 6"
   ]
  },
  {
   "cell_type": "code",
   "execution_count": 4,
   "metadata": {},
   "outputs": [
    {
     "name": "stdout",
     "output_type": "stream",
     "text": [
      "Your job 1095038 (\"blastSearch\") has been submitted\n"
     ]
    }
   ],
   "source": [
    "%%bash\n",
    "qsub blastCleanContigs.sh"
   ]
  },
  {
   "cell_type": "code",
   "execution_count": null,
   "metadata": {
    "collapsed": true
   },
   "outputs": [],
   "source": []
  }
 ],
 "metadata": {
  "kernelspec": {
   "display_name": "Python 2",
   "language": "python",
   "name": "python2"
  },
  "language_info": {
   "codemirror_mode": {
    "name": "ipython",
    "version": 2
   },
   "file_extension": ".py",
   "mimetype": "text/x-python",
   "name": "python",
   "nbconvert_exporter": "python",
   "pygments_lexer": "ipython2",
   "version": "2.7.13"
  }
 },
 "nbformat": 4,
 "nbformat_minor": 2
}
