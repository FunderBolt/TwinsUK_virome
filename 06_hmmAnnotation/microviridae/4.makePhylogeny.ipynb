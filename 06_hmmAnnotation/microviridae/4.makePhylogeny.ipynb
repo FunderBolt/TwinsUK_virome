{
 "cells": [
  {
   "cell_type": "markdown",
   "metadata": {},
   "source": [
    "### Get Best Evolutive Model"
   ]
  },
  {
   "cell_type": "code",
   "execution_count": 1,
   "metadata": {
    "collapsed": true
   },
   "outputs": [],
   "source": [
    "OUTFOLDER=\"/ebio/abt3_projects/TwinsUK_viromes_Shao_Pei/tmp2/06_hmmAnnotation/microviridae/\""
   ]
  },
  {
   "cell_type": "code",
   "execution_count": 6,
   "metadata": {},
   "outputs": [
    {
     "name": "stdout",
     "output_type": "stream",
     "text": [
      "All done!\n"
     ]
    }
   ],
   "source": [
    "%%bash\n",
    "OUTFOLDER=\"/ebio/abt3_projects/TwinsUK_viromes_Shao_Pei/tmp2/06_hmmAnnotation/microviridae/\"\n",
    "perl ../Fasta2Phylip.pl $OUTFOLDER\"mAlignReferenceAndQueryAndOutGroup.withoutGaps.fa\" $OUTFOLDER\"mAlignReferenceAndQueryAndOutGroup.withoutGaps.phylip\"\n"
   ]
  },
  {
   "cell_type": "code",
   "execution_count": 7,
   "metadata": {
    "collapsed": true
   },
   "outputs": [],
   "source": [
    "%%bash\n",
    "OUTFOLDER=\"/ebio/abt3_projects/TwinsUK_viromes_Shao_Pei/tmp2/06_hmmAnnotation/microviridae/\"\n",
    "\n",
    "java -jar ../../Programs/prottest3/dist/prottest-3.4.2.jar -i $OUTFOLDER\"mAlignReferenceAndQueryAndOutGroup.withoutGaps.phylip\" -o $OUTFOLDER\"appropriateModel.aic\" -t1 -AIC > $OUTFOLDER\"VP1.out.prottest\"\n",
    "\n"
   ]
  },
  {
   "cell_type": "markdown",
   "metadata": {},
   "source": [
    "### \n",
    "***************************************************************************\n",
    "Best model according to AIC: VT\n",
    "Confidence Interval: 100.0\n",
    "***************************************************************************\n",
    "Model          deltaAIC       AIC            AICw           -lnL\n",
    "---------------------------------------------------------------------------\n",
    "VT             0.00           334535.79      1.00           166850.90\n",
    "Blosum62       505.09         335040.88      0.00           167103.44\n",
    "WAG            2319.31        336855.10      0.00           168010.55\n",
    "CpREV          4355.70        338891.49      0.00           169028.74\n",
    "JTT            5198.08        339733.87      0.00           169449.94\n",
    "LG             5696.61        340232.40      0.00           169699.20\n",
    "RtREV          6544.20        341080.00      0.00           170123.00\n",
    "DCMut          7254.61        341790.40      0.00           170478.20\n",
    "Dayhoff        7339.94        341875.74      0.00           170520.87\n",
    "FLU            13681.19       348216.98      0.00           173691.49\n",
    "HIVb           18754.29       353290.08      0.00           176228.04\n",
    "MtREV          19631.10       354166.90      0.00           176666.45\n",
    "MtArt          26076.07       360611.87      0.00           179888.93\n",
    "HIVw           27298.46       361834.25      0.00           180500.13\n",
    "MtMam          36037.38       370573.18      0.00           184869.59\n",
    "---------------------------------------------------------------------------\n",
    "---------------------------------------------------------------------------"
   ]
  },
  {
   "cell_type": "code",
   "execution_count": 8,
   "metadata": {},
   "outputs": [
    {
     "name": "stdout",
     "output_type": "stream",
     "text": [
      "Writing runRAxML.sh\n"
     ]
    }
   ],
   "source": [
    "%%writefile runRAxML.sh\n",
    "#!/bin/bash\n",
    "#$ -N raxML\n",
    "#$ -l h_vmem=4G\n",
    "#$ -l h_rt=48:00:00\n",
    "#$ -cwd\n",
    "#$ -m ea\n",
    "#$ -M jmoreno@tuebingen.mpg.de\n",
    "\n",
    "OUTFOLDER=\"/ebio/abt3_projects/TwinsUK_viromes_Shao_Pei/tmp2/06_hmmAnnotation/microviridae/\"\n",
    "raxmlHPC -m PROTCATVT -p 12345 -s $OUTFOLDER\"mAlignReferenceAndQueryAndOutGroup.withoutGaps.phylip\" -# 20 -n phyloMLVT\n",
    "raxmlHPC -m PROTCATVT -p 12345 -b 12345 -# 100 -s $OUTFOLDER\"mAlignReferenceAndQueryAndOutGroup.withoutGaps.phylip\" -n bootstrapping\n",
    "raxmlHPC -m PROTCATVT -p 18850 -f b -t $OUTFOLDER\"RAxML_bestTree.phyloMLVT\" -z $OUTFOLDER\"RAxML_bootstrap.bootstrapping\" -n treeWithSupports"
   ]
  },
  {
   "cell_type": "code",
   "execution_count": 10,
   "metadata": {},
   "outputs": [
    {
     "name": "stdout",
     "output_type": "stream",
     "text": [
      "Your job 1735131 (\"raxML\") has been submitted\n"
     ]
    }
   ],
   "source": [
    "%%bash\n",
    "qsub runRAxML.sh"
   ]
  },
  {
   "cell_type": "code",
   "execution_count": null,
   "metadata": {
    "collapsed": true
   },
   "outputs": [],
   "source": []
  }
 ],
 "metadata": {
  "kernelspec": {
   "display_name": "Python 2",
   "language": "python",
   "name": "python2"
  },
  "language_info": {
   "codemirror_mode": {
    "name": "ipython",
    "version": 2
   },
   "file_extension": ".py",
   "mimetype": "text/x-python",
   "name": "python",
   "nbconvert_exporter": "python",
   "pygments_lexer": "ipython2",
   "version": "2.7.13"
  }
 },
 "nbformat": 4,
 "nbformat_minor": 2
}
