{
 "cells": [
  {
   "cell_type": "markdown",
   "metadata": {},
   "source": [
    "### Get Best Evolutive Model"
   ]
  },
  {
   "cell_type": "code",
   "execution_count": 5,
   "metadata": {},
   "outputs": [
    {
     "name": "stdout",
     "output_type": "stream",
     "text": [
      "All done!\r\n"
     ]
    }
   ],
   "source": [
    "#DIRECTLY IN THE CONSOLE\n",
    "%%bash\n",
    "perl ../../../code/Fasta2Phylip.pl mAlignReferenceAndQueryAndOutGroup.30PerThreshold.fa mAlignReferenceAndQueryAndOutGroup.30PerThreshold.phylip"
   ]
  },
  {
   "cell_type": "code",
   "execution_count": 4,
   "metadata": {
    "collapsed": true
   },
   "outputs": [],
   "source": [
    "!java -jar ../../../Programs/prottest3/dist/prottest-3.4.2.jar -i mAlignReferenceAndQueryAndOutGroup.phylip -o appropriateModel.aic -t1 -AIC > MCP.out.prottest"
   ]
  },
  {
   "cell_type": "markdown",
   "metadata": {},
   "source": [
    "### \n",
    "***************************************************************************\n",
    "Best model according to AIC: Blosum62\n",
    "Confidence Interval: 100.0\n",
    "***************************************************************************\n",
    "Model          deltaAIC       AIC            AICw           -lnL\n",
    "---------------------------------------------------------------------------\n",
    "Blosum62       0.00           99942.98       1.00           49790.49\n",
    "VT             11.60          99954.58       0.00           49796.29\n",
    "WAG            272.82         100215.80      0.00           49926.90\n",
    "LG             472.10         100415.08      0.00           50026.54\n",
    "RtREV          1096.69        101039.67      0.00           50338.84\n",
    "CpREV          1264.99        101207.97      0.00           50422.99\n",
    "JTT            1661.34        101604.32      0.00           50621.16\n",
    "DCMut          2368.30        102311.28      0.00           50974.64\n",
    "Dayhoff        2382.37        102325.36      0.00           50981.68\n",
    "FLU            3521.61        103464.60      0.00           51551.30\n",
    "HIVb           5082.37        105025.35      0.00           52331.67\n",
    "MtREV          6391.85        106334.84      0.00           52986.42\n",
    "MtArt          8262.41        108205.39      0.00           53921.70\n",
    "HIVw           8968.46        108911.44      0.00           54274.72\n",
    "MtMam          10686.50       110629.48      0.00           55133.74\n",
    "---------------------------------------------------------------------------\n",
    "---------------------------------------------------------------------------"
   ]
  },
  {
   "cell_type": "code",
   "execution_count": 1,
   "metadata": {},
   "outputs": [
    {
     "name": "stdout",
     "output_type": "stream",
     "text": [
      "Writing runRAxML.sh\n"
     ]
    }
   ],
   "source": [
    "%%writefile runRAxML.sh\n",
    "#!/bin/bash\n",
    "#$ -N raxMLcrAss\n",
    "#$ -l h_vmem=4G\n",
    "#$ -l h_rt=48:00:00\n",
    "#$ -cwd\n",
    "#$ -m ea\n",
    "#$ -M jmoreno@tuebingen.mpg.de\n",
    "\n",
    "OUTFOLDER=\"/ebio/abt3_projects/TwinsUK_viromes_Shao_Pei/tmp2/06_hmmAnnotation/crAss/\"\n",
    "raxmlHPC -m PROTCATBLOSUM62 -p 12345 -s $OUTFOLDER\"mAlignReferenceAndQueryAndOutGroup.30PerThreshold.phylip\" -# 20 -n phyloMLVT\n",
    "raxmlHPC -m PROTCATBLOSUM62 -p 12345 -b 12345 -# 100 -s $OUTFOLDER\"mAlignReferenceAndQueryAndOutGroup.30PerThreshold.phylip\" -n bootstrapping\n",
    "raxmlHPC -m PROTCATBLOSUM62 -p 18850 -f b -t $OUTFOLDER\"RAxML_bestTree.phyloMLVT\" -z $OUTFOLDER\"RAxML_bootstrap.bootstrapping\" -n treeWithSupports"
   ]
  },
  {
   "cell_type": "code",
   "execution_count": 2,
   "metadata": {},
   "outputs": [
    {
     "name": "stdout",
     "output_type": "stream",
     "text": [
      "Your job 1739238 (\"raxMLcrAss\") has been submitted\n"
     ]
    }
   ],
   "source": [
    "%%bash\n",
    "qsub runRAxML.sh"
   ]
  },
  {
   "cell_type": "code",
   "execution_count": null,
   "metadata": {
    "collapsed": true
   },
   "outputs": [],
   "source": []
  }
 ],
 "metadata": {
  "kernelspec": {
   "display_name": "Python 2",
   "language": "python",
   "name": "python2"
  },
  "language_info": {
   "codemirror_mode": {
    "name": "ipython",
    "version": 2
   },
   "file_extension": ".py",
   "mimetype": "text/x-python",
   "name": "python",
   "nbconvert_exporter": "python",
   "pygments_lexer": "ipython2",
   "version": "2.7.13"
  }
 },
 "nbformat": 4,
 "nbformat_minor": 2
}
